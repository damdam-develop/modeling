{
 "cells": [
  {
   "cell_type": "code",
   "execution_count": 1,
   "metadata": {},
   "outputs": [
    {
     "data": {
      "text/html": [
       "<div>\n",
       "<style scoped>\n",
       "    .dataframe tbody tr th:only-of-type {\n",
       "        vertical-align: middle;\n",
       "    }\n",
       "\n",
       "    .dataframe tbody tr th {\n",
       "        vertical-align: top;\n",
       "    }\n",
       "\n",
       "    .dataframe thead th {\n",
       "        text-align: right;\n",
       "    }\n",
       "</style>\n",
       "<table border=\"1\" class=\"dataframe\">\n",
       "  <thead>\n",
       "    <tr style=\"text-align: right;\">\n",
       "      <th></th>\n",
       "      <th>content</th>\n",
       "      <th>star</th>\n",
       "    </tr>\n",
       "  </thead>\n",
       "  <tbody>\n",
       "    <tr>\n",
       "      <th>0</th>\n",
       "      <td>물건 받고 10일만에 액정 나가네요. 처음부터 하자 있는 물건이었다고 저는 생각합니...</td>\n",
       "      <td>0</td>\n",
       "    </tr>\n",
       "    <tr>\n",
       "      <th>1</th>\n",
       "      <td>키보드 자판위에 칠이 조금 벗겨져 있어서 받고 기분이 좋지는 않았네요...</td>\n",
       "      <td>0</td>\n",
       "    </tr>\n",
       "    <tr>\n",
       "      <th>2</th>\n",
       "      <td>무선마우스 작동안되는거줌 중국산 3천원어치인듯</td>\n",
       "      <td>0</td>\n",
       "    </tr>\n",
       "  </tbody>\n",
       "</table>\n",
       "</div>"
      ],
      "text/plain": [
       "                                             content  star\n",
       "0  물건 받고 10일만에 액정 나가네요. 처음부터 하자 있는 물건이었다고 저는 생각합니...     0\n",
       "1          키보드 자판위에 칠이 조금 벗겨져 있어서 받고 기분이 좋지는 않았네요...     0\n",
       "2                          무선마우스 작동안되는거줌 중국산 3천원어치인듯     0"
      ]
     },
     "execution_count": 1,
     "metadata": {},
     "output_type": "execute_result"
    }
   ],
   "source": [
    "import pandas as pd\n",
    "import numpy as np\n",
    "import matplotlib.pyplot as plt\n",
    "import warnings\n",
    "from tqdm import tqdm\n",
    "warnings.filterwarnings(\"ignore\")\n",
    "%matplotlib inline\n",
    "\n",
    "opinions_df = pd.read_csv('dataset2300.csv', encoding='CP949')\n",
    "opinions_df.head(3)"
   ]
  },
  {
   "cell_type": "code",
   "execution_count": 2,
   "metadata": {},
   "outputs": [],
   "source": [
    "from sklearn.model_selection import train_test_split\n",
    "\n",
    "# 사전 데이터 가공 후 학습과 테스트 데이터 세트를 반환하는 함수\n",
    "def get_train_test_dataset(df=None):\n",
    "    # 인자로 입력된 DataFrame 복사\n",
    "    df_copy = df.copy()\n",
    "    # DataFrame의 맨 마지막 칼럼이 레이블, 나머지는 피처들\n",
    "    X_features = df_copy.iloc[:,0]\n",
    "    y_target = df_copy.iloc[:,1]\n",
    "    # train_test_split()으로 학습과 테스트 데이터 분할. stratify=y_target으로 Stratified기반 분할\n",
    "    X_train, X_test, y_train, y_test = train_test_split(X_features, y_target, test_size=0.3, random_state=0, stratify=y_target)\n",
    "    # 학습과 테스트 데이터 세트 반환\n",
    "    return X_train, X_test, y_train, y_test\n",
    "\n",
    "X_train, X_test, y_train, y_test = get_train_test_dataset(opinions_df)"
   ]
  },
  {
   "cell_type": "code",
   "execution_count": 3,
   "metadata": {},
   "outputs": [
    {
     "name": "stdout",
     "output_type": "stream",
     "text": [
      "학습 데이터 레이블 값 비율\n",
      "0    50.182704\n",
      "1    49.817296\n",
      "Name: star, dtype: float64\n",
      "테스트 데이터 레이블 값 비율\n",
      "0    50.142045\n",
      "1    49.857955\n",
      "Name: star, dtype: float64\n"
     ]
    }
   ],
   "source": [
    "print('학습 데이터 레이블 값 비율')\n",
    "print(y_train.value_counts()/y_train.shape[0] * 100)\n",
    "print('테스트 데이터 레이블 값 비율')\n",
    "print(y_test.value_counts()/y_test.shape[0] * 100)"
   ]
  },
  {
   "cell_type": "code",
   "execution_count": 4,
   "metadata": {},
   "outputs": [],
   "source": [
    "train_set = pd.concat([X_train, y_train], axis =1)\n",
    "test_set = pd.concat([X_test, y_test], axis =1 )\n",
    "train_set = train_set.reset_index()\n",
    "test_set= test_set.reset_index()"
   ]
  },
  {
   "cell_type": "code",
   "execution_count": 5,
   "metadata": {
    "scrolled": false
   },
   "outputs": [
    {
     "data": {
      "text/html": [
       "<div>\n",
       "<style scoped>\n",
       "    .dataframe tbody tr th:only-of-type {\n",
       "        vertical-align: middle;\n",
       "    }\n",
       "\n",
       "    .dataframe tbody tr th {\n",
       "        vertical-align: top;\n",
       "    }\n",
       "\n",
       "    .dataframe thead th {\n",
       "        text-align: right;\n",
       "    }\n",
       "</style>\n",
       "<table border=\"1\" class=\"dataframe\">\n",
       "  <thead>\n",
       "    <tr style=\"text-align: right;\">\n",
       "      <th></th>\n",
       "      <th>index</th>\n",
       "      <th>content</th>\n",
       "      <th>star</th>\n",
       "    </tr>\n",
       "  </thead>\n",
       "  <tbody>\n",
       "    <tr>\n",
       "      <th>0</th>\n",
       "      <td>1852</td>\n",
       "      <td>감사합니다</td>\n",
       "      <td>1</td>\n",
       "    </tr>\n",
       "    <tr>\n",
       "      <th>1</th>\n",
       "      <td>2283</td>\n",
       "      <td>판매자분이 너무 친철하십니다!</td>\n",
       "      <td>1</td>\n",
       "    </tr>\n",
       "    <tr>\n",
       "      <th>2</th>\n",
       "      <td>1538</td>\n",
       "      <td>그램 15</td>\n",
       "      <td>1</td>\n",
       "    </tr>\n",
       "    <tr>\n",
       "      <th>3</th>\n",
       "      <td>883</td>\n",
       "      <td>안주느니만 못하네요 usb연결도 하고 건전지도 넣어야하고근데 디자인도 예뻐서 이해햇...</td>\n",
       "      <td>0</td>\n",
       "    </tr>\n",
       "    <tr>\n",
       "      <th>4</th>\n",
       "      <td>1977</td>\n",
       "      <td>부자되세요!</td>\n",
       "      <td>1</td>\n",
       "    </tr>\n",
       "    <tr>\n",
       "      <th>...</th>\n",
       "      <td>...</td>\n",
       "      <td>...</td>\n",
       "      <td>...</td>\n",
       "    </tr>\n",
       "    <tr>\n",
       "      <th>1637</th>\n",
       "      <td>990</td>\n",
       "      <td>제품 광고 사진에는 게이밍 헤드셋을 준다고 해서 구매했는데,  리뷰를 작성하고 평가...</td>\n",
       "      <td>0</td>\n",
       "    </tr>\n",
       "    <tr>\n",
       "      <th>1638</th>\n",
       "      <td>1142</td>\n",
       "      <td>하루종일 힘들게 윈도우, 드라이버 깔았더니 그래픽 카드(엔비디아 mx150) 인식을...</td>\n",
       "      <td>0</td>\n",
       "    </tr>\n",
       "    <tr>\n",
       "      <th>1639</th>\n",
       "      <td>725</td>\n",
       "      <td>윈도우도 정상으로 설치했고 문제 없다고 생각하고 사용하고 있었습니다. 그리고 구매당...</td>\n",
       "      <td>0</td>\n",
       "    </tr>\n",
       "    <tr>\n",
       "      <th>1640</th>\n",
       "      <td>2306</td>\n",
       "      <td>빠른 배송에 감사합니다. 최저가로 해주심에도 감사합니다. 맥프로에 감탄하고 있습니다...</td>\n",
       "      <td>1</td>\n",
       "    </tr>\n",
       "    <tr>\n",
       "      <th>1641</th>\n",
       "      <td>79</td>\n",
       "      <td>솔직하게 말해서 실망했습니다 비닐안에있던 새제품임에도 불구하고 앞 패널에 미세한 기...</td>\n",
       "      <td>0</td>\n",
       "    </tr>\n",
       "  </tbody>\n",
       "</table>\n",
       "<p>1642 rows × 3 columns</p>\n",
       "</div>"
      ],
      "text/plain": [
       "      index                                            content  star\n",
       "0      1852                                              감사합니다     1\n",
       "1      2283                                   판매자분이 너무 친철하십니다!     1\n",
       "2      1538                                              그램 15     1\n",
       "3       883  안주느니만 못하네요 usb연결도 하고 건전지도 넣어야하고근데 디자인도 예뻐서 이해햇...     0\n",
       "4      1977                                             부자되세요!     1\n",
       "...     ...                                                ...   ...\n",
       "1637    990  제품 광고 사진에는 게이밍 헤드셋을 준다고 해서 구매했는데,  리뷰를 작성하고 평가...     0\n",
       "1638   1142  하루종일 힘들게 윈도우, 드라이버 깔았더니 그래픽 카드(엔비디아 mx150) 인식을...     0\n",
       "1639    725  윈도우도 정상으로 설치했고 문제 없다고 생각하고 사용하고 있었습니다. 그리고 구매당...     0\n",
       "1640   2306  빠른 배송에 감사합니다. 최저가로 해주심에도 감사합니다. 맥프로에 감탄하고 있습니다...     1\n",
       "1641     79  솔직하게 말해서 실망했습니다 비닐안에있던 새제품임에도 불구하고 앞 패널에 미세한 기...     0\n",
       "\n",
       "[1642 rows x 3 columns]"
      ]
     },
     "execution_count": 5,
     "metadata": {},
     "output_type": "execute_result"
    }
   ],
   "source": [
    "train_set"
   ]
  },
  {
   "cell_type": "markdown",
   "metadata": {},
   "source": [
    "# 최빈 단어 추출"
   ]
  },
  {
   "cell_type": "code",
   "execution_count": 6,
   "metadata": {},
   "outputs": [
    {
     "data": {
      "text/plain": [
       "[('이', 'Noun'),\n",
       " ('밤', 'Noun'),\n",
       " ('그날', 'Noun'),\n",
       " ('의', 'Josa'),\n",
       " ('반딧불', 'Noun'),\n",
       " ('을', 'Josa'),\n",
       " ('당신', 'Noun'),\n",
       " ('의', 'Josa'),\n",
       " ('창', 'Noun'),\n",
       " ('가까이', 'Noun'),\n",
       " ('보낼게요', 'Verb'),\n",
       " ('~^^', 'Punctuation')]"
      ]
     },
     "execution_count": 6,
     "metadata": {},
     "output_type": "execute_result"
    }
   ],
   "source": [
    "from konlpy.tag import Okt\n",
    "\n",
    "okt = Okt()\n",
    "\n",
    "s = '이 밤 그날의 반딧불을 당신의 창 가까이 보낼게요~^^'\n",
    "okt.pos(s)"
   ]
  },
  {
   "cell_type": "code",
   "execution_count": 7,
   "metadata": {},
   "outputs": [],
   "source": [
    "import re\n",
    "\n",
    "def tokenize(doc):\n",
    "    # 한글 자음, 모음 제거\n",
    "    doc = re.sub(pattern='([ㄱ-ㅎㅏ-ㅣ]+)', repl='', string=doc)\n",
    "    # 특수기호 제거\n",
    "    doc = re.sub(pattern='[^\\w\\s]', repl='', string=doc)\n",
    "    # norm은 정규화, stem은 근어로 표시하기를 나타냄\n",
    "    doc = okt.pos(doc, norm=True, stem=True)\n",
    "    # 2글자 이상만 포함\n",
    "    token = []\n",
    "    for i in doc:\n",
    "        if len(i[0])>1:\n",
    "            token.append(i)\n",
    "    \n",
    "    return ['/'.join(t) for t in token]"
   ]
  },
  {
   "cell_type": "code",
   "execution_count": 8,
   "metadata": {
    "scrolled": true
   },
   "outputs": [
    {
     "name": "stderr",
     "output_type": "stream",
     "text": [
      "1642it [01:06, 24.78it/s]\n",
      "704it [00:25, 27.17it/s]\n"
     ]
    },
    {
     "data": {
      "text/plain": [
       "['감사하다/Verb',\n",
       " '판매/Noun',\n",
       " '너무/Adverb',\n",
       " '친철/Noun',\n",
       " '하다/Verb',\n",
       " '그램/Noun',\n",
       " '15/Number',\n",
       " '알다/Verb',\n",
       " '하다/Verb',\n",
       " 'usb/Alpha']"
      ]
     },
     "execution_count": 8,
     "metadata": {},
     "output_type": "execute_result"
    }
   ],
   "source": [
    "train_docs = [(tokenize(row['content']), row['star']) for idx, row in tqdm(train_set.iterrows())]\n",
    "test_docs = [(tokenize(row['content']), row['star']) for idx, row in tqdm(test_set.iterrows())]\n",
    "\n",
    "# 위에서 만든 데아터에서 긍/부정을 제외하고 token에 넣어준다.\n",
    "# [[a],b] 에서 a만 넣는다고 생각하면 됨\n",
    "tokens = [t for d in train_docs for t in d[0]]\n",
    "tokens[:10]"
   ]
  },
  {
   "cell_type": "code",
   "execution_count": 9,
   "metadata": {},
   "outputs": [
    {
     "name": "stdout",
     "output_type": "stream",
     "text": [
      "50413\n",
      "5212\n",
      "[('하다/Verb', 3227), ('좋다/Adjective', 833), ('배송/Noun', 733), ('노트북/Noun', 714), ('있다/Adjective', 649), ('받다/Verb', 602), ('으로/Josa', 579), ('제품/Noun', 517), ('구매/Noun', 472), ('되다/Verb', 412)]\n"
     ]
    }
   ],
   "source": [
    "import nltk\n",
    "#nltk라이브러리를 통해서 텍스트 데이터 나열\n",
    "text = nltk.Text(tokens, name='NMSC')\n",
    "\n",
    "# 전체 토큰의 개수\n",
    "print(len(text.tokens))\n",
    "\n",
    "# 중복을 제외한 토큰의 개수\n",
    "print(len(set(text.tokens)))            \n",
    "\n",
    "# 출현 빈도가 높은 상위 토큰 10개\n",
    "print(text.vocab().most_common(10))"
   ]
  },
  {
   "cell_type": "code",
   "execution_count": 10,
   "metadata": {},
   "outputs": [],
   "source": [
    "#단어 빈도수가 높은 10000개의 단어만 사용하여 각 리뷰 문장마다의 평가지표로 삼는다.\n",
    "selected_words = [f[0] for f in text.vocab().most_common(10000)]\n",
    "\n",
    "#term_frequency()함수는 위에서 만든 selected_words의 갯수에 따라서 각 리뷰와 매칭하여 상위 텍스트가 \n",
    "#각 리뷰에 얼만큼 표현되는지 빈도를 만들기 위한 함수\n",
    "def term_frequency(doc):\n",
    "    return [doc.count(word) for word in selected_words]\n",
    "\n",
    "train_x = [term_frequency(d) for d, _ in train_docs]\n",
    "test_x = [term_frequency(d) for d, _ in test_docs]\n",
    "train_y = [c for _, c in train_docs]\n",
    "test_y = [c for _, c in test_docs]"
   ]
  },
  {
   "cell_type": "markdown",
   "metadata": {},
   "source": [
    "# 예측 모델 구축"
   ]
  },
  {
   "cell_type": "code",
   "execution_count": 11,
   "metadata": {},
   "outputs": [],
   "source": [
    "#모델링을 하기 위해 리스트로 되어 있는 데이터 형식을 array로 바꿔주고 dtype도 실수로 바꿔준다.\n",
    "import numpy as np\n",
    "\n",
    "x_train = np.asarray(train_x).astype('float32')\n",
    "x_test = np.asarray(test_x).astype('float32')\n",
    "\n",
    "y_train = np.asarray(train_y).astype('float32')\n",
    "y_test = np.asarray(test_y).astype('float32')"
   ]
  },
  {
   "cell_type": "code",
   "execution_count": 26,
   "metadata": {},
   "outputs": [],
   "source": [
    "from tensorflow.keras import models\n",
    "from tensorflow.keras import layers\n",
    "from tensorflow.keras import optimizers\n",
    "from tensorflow.keras import losses\n",
    "from tensorflow.keras import metrics\n",
    "\n",
    "#tensorflow.keras를 활용하여 모델의 층 입력하기\n",
    "model = models.Sequential()\n",
    "model.add(layers.Dense(64, activation='relu'))\n",
    "model.add(layers.Dense(64, activation='relu'))\n",
    "model.add(layers.Dense(1, activation='sigmoid'))\n",
    "\n",
    "#모델 생성\n",
    "model.compile(optimizer=optimizers.RMSprop(lr=0.001),\n",
    "             loss=losses.binary_crossentropy,\n",
    "             metrics=[metrics.binary_accuracy])"
   ]
  },
  {
   "cell_type": "code",
   "execution_count": 27,
   "metadata": {},
   "outputs": [
    {
     "name": "stdout",
     "output_type": "stream",
     "text": [
      "Epoch 1/10\n",
      "4/4 [==============================] - 0s 35ms/step - loss: 0.6679 - binary_accuracy: 0.5822\n",
      "Epoch 2/10\n",
      "4/4 [==============================] - 0s 26ms/step - loss: 0.5353 - binary_accuracy: 0.8983\n",
      "Epoch 3/10\n",
      "4/4 [==============================] - 0s 35ms/step - loss: 0.4260 - binary_accuracy: 0.9251\n",
      "Epoch 4/10\n",
      "4/4 [==============================] - 0s 31ms/step - loss: 0.3492 - binary_accuracy: 0.9348\n",
      "Epoch 5/10\n",
      "4/4 [==============================] - 0s 26ms/step - loss: 0.2915 - binary_accuracy: 0.9440\n",
      "Epoch 6/10\n",
      "4/4 [==============================] - 0s 25ms/step - loss: 0.2476 - binary_accuracy: 0.9525: 0s - loss: 0.2487 - binary_accuracy: 0.953\n",
      "Epoch 7/10\n",
      "4/4 [==============================] - 0s 26ms/step - loss: 0.2130 - binary_accuracy: 0.9592\n",
      "Epoch 8/10\n",
      "4/4 [==============================] - 0s 22ms/step - loss: 0.1857 - binary_accuracy: 0.9653\n",
      "Epoch 9/10\n",
      "4/4 [==============================] - 0s 32ms/step - loss: 0.1616 - binary_accuracy: 0.9671\n",
      "Epoch 10/10\n",
      "4/4 [==============================] - 0s 34ms/step - loss: 0.1417 - binary_accuracy: 0.9720\n",
      "22/22 [==============================] - 0s 4ms/step - loss: 0.2982 - binary_accuracy: 0.8750\n"
     ]
    },
    {
     "data": {
      "text/plain": [
       "[0.2981880009174347, 0.875]"
      ]
     },
     "execution_count": 27,
     "metadata": {},
     "output_type": "execute_result"
    }
   ],
   "source": [
    "#모델 학습\n",
    "history = model.fit(x_train, y_train, epochs=10, batch_size=512)\n",
    "results = model.evaluate(x_test, y_test)\n",
    "\n",
    "#예측 결과\n",
    "results"
   ]
  },
  {
   "cell_type": "code",
   "execution_count": 23,
   "metadata": {},
   "outputs": [],
   "source": [
    "# 모델 저장\n",
    "model.save('notebook_model.h5')"
   ]
  },
  {
   "cell_type": "code",
   "execution_count": 24,
   "metadata": {},
   "outputs": [],
   "source": [
    "def predict_pos_neg(review):\n",
    "    token = tokenize(review)\n",
    "    tf = term_frequency(token)\n",
    "    data = np.expand_dims(np.asarray(tf).astype('float32'), axis=0)\n",
    "    score = float(model.predict(data))\n",
    "    if(score > 0.5):\n",
    "        print(\"[{}]는 {:.2f}% 확률로 긍정 리뷰이지 않을까 추측해봅니다.^^\\n\".format(review, score * 100))\n",
    "    else:\n",
    "        print(\"[{}]는 {:.2f}% 확률로 부정 리뷰이지 않을까 추측해봅니다.^^;\\n\".format(review, (1 - score) * 100))"
   ]
  },
  {
   "cell_type": "code",
   "execution_count": 28,
   "metadata": {},
   "outputs": [
    {
     "name": "stdout",
     "output_type": "stream",
     "text": [
      "[2015년식 삼성노트북을 교체했습니다 그래픽카드와 화면크기가 아쉬웠는데 아주만족합니다 터치스크린은 최고내요]는 80.97% 확률로 긍정 리뷰이지 않을까 추측해봅니다.^^\n",
      "\n",
      "[리뷰보고 괜찮아보여서 샀는데 엄청 느리네요. 게임하면 버벅 거리고 돈 더 쓸 걸 그랬어요..]는 87.86% 확률로 부정 리뷰이지 않을까 추측해봅니다.^^;\n",
      "\n",
      "[16인치 소식으로 너무 아쉽게됐지만 잘 쓰고 있어요]는 89.14% 확률로 긍정 리뷰이지 않을까 추측해봅니다.^^\n",
      "\n"
     ]
    }
   ],
   "source": [
    "predict_pos_neg(\"2015년식 삼성노트북을 교체했습니다 그래픽카드와 화면크기가 아쉬웠는데 아주만족합니다 터치스크린은 최고내요\")\n",
    "predict_pos_neg(\"리뷰보고 괜찮아보여서 샀는데 엄청 느리네요. 게임하면 버벅 거리고 돈 더 쓸 걸 그랬어요..\")\n",
    "predict_pos_neg(\"16인치 소식으로 너무 아쉽게됐지만 잘 쓰고 있어요\")"
   ]
  },
  {
   "cell_type": "code",
   "execution_count": null,
   "metadata": {},
   "outputs": [],
   "source": []
  }
 ],
 "metadata": {
  "kernelspec": {
   "display_name": "Python 3",
   "language": "python",
   "name": "python3"
  },
  "language_info": {
   "codemirror_mode": {
    "name": "ipython",
    "version": 3
   },
   "file_extension": ".py",
   "mimetype": "text/x-python",
   "name": "python",
   "nbconvert_exporter": "python",
   "pygments_lexer": "ipython3",
   "version": "3.7.4"
  }
 },
 "nbformat": 4,
 "nbformat_minor": 2
}
