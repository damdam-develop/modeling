{
 "cells": [
  {
   "cell_type": "markdown",
   "metadata": {},
   "source": [
    "## 저장내용 불러오기"
   ]
  },
  {
   "cell_type": "code",
   "execution_count": 24,
   "metadata": {},
   "outputs": [
    {
     "name": "stdout",
     "output_type": "stream",
     "text": [
      "297\n",
      "297\n"
     ]
    }
   ],
   "source": [
    "import csv\n",
    "new_t = []\n",
    "neg = []\n",
    "pos = []\n",
    "f = open('elect_training.csv','r',encoding='utf-8-sig')\n",
    "rdf = csv.reader(f)\n",
    "\n",
    "for i in rdf:\n",
    "    if i[1] == '0':\n",
    "        neg.append(i)\n",
    "    else:\n",
    "        pos.append(i)\n",
    "    new_t.append(i)\n",
    "\n",
    "print(len(neg[:297]))\n",
    "print(len(pos))"
   ]
  },
  {
   "cell_type": "code",
   "execution_count": 25,
   "metadata": {},
   "outputs": [],
   "source": [
    "training = []\n",
    "test = []\n",
    "\n",
    "for i in range(200):\n",
    "    training.append(pos[i])\n",
    "    training.append(neg[i])\n",
    "\n",
    "for j in range(200,297):\n",
    "    test.append(pos[j])\n",
    "    test.append(neg[j])"
   ]
  },
  {
   "cell_type": "markdown",
   "metadata": {},
   "source": [
    "## 광고성리뷰 필터링"
   ]
  },
  {
   "cell_type": "code",
   "execution_count": 72,
   "metadata": {},
   "outputs": [],
   "source": [
    "#리뷰에 'http'를 포함하는 링크가 있을 시 제외\n",
    "new_t = filter(lambda i: 'http' not in i[0], new_t)\n"
   ]
  },
  {
   "cell_type": "markdown",
   "metadata": {},
   "source": [
    "## 단어 토큰화"
   ]
  },
  {
   "cell_type": "code",
   "execution_count": 26,
   "metadata": {},
   "outputs": [
    {
     "name": "stdout",
     "output_type": "stream",
     "text": [
      "\n",
      "<Text: 생각/Noun 보다/Josa 가볍다/Adjective 집/Noun 에서/Josa 쓸다/Verb 만해/Noun 요/Josa...>\n"
     ]
    }
   ],
   "source": [
    "from konlpy.tag import Okt\n",
    "import nltk\n",
    "import re\n",
    "\n",
    "\n",
    "okt = Okt()\n",
    "\n",
    "def modify(text):\n",
    "    pattern = '([ㄱ-ㅎㅏ-ㅣ]+)' #한글 자모음 제거\n",
    "    text = re.sub(pattern=pattern, repl=' ', string=text)\n",
    "    pattern = '[^\\w\\s]' #특수기호 제거\n",
    "    text = re.sub(pattern=pattern, repl=' ', string=text)\n",
    "    return text\n",
    "\n",
    "def tokenize(doc):\n",
    "    return ['/'.join(t) for t in okt.pos(doc,norm=True,stem=True)]\n",
    "\n",
    "\n",
    "\n",
    "training_r = [(tokenize(modify(row[0])),row[1]) for row in training]#[('단어/형태',...,0 or 1)]\n",
    "test_r = [(tokenize(modify(row[0])),row[1]) for row in test]#[('단어/형태',...,0 or 1)]\n",
    "print()\n",
    "token = [t for d in training_r for t in d[0]] #단어들만 따로 모음\n",
    "\n",
    "text = nltk.Text(token)\n",
    "print(text)"
   ]
  },
  {
   "cell_type": "markdown",
   "metadata": {},
   "source": [
    "## 최빈값 추출 및 단어 빈도 수 저장"
   ]
  },
  {
   "cell_type": "code",
   "execution_count": 116,
   "metadata": {},
   "outputs": [],
   "source": [
    "import pickle\n",
    "import os\n",
    "path = os.getcwd()+'/pickles/'\n",
    "\n",
    "selected_words = [f[0] for f in text.vocab().most_common(2500)] \n",
    "\n",
    "def term_frequency(doc):\n",
    "    return [doc.count(word) for word in selected_words]\n",
    "\n",
    "with open('reviewSelected2500.p', 'wb') as f:\n",
    "    pickle.dump(selected_words, f)"
   ]
  },
  {
   "cell_type": "markdown",
   "metadata": {},
   "source": [
    "## training setting"
   ]
  },
  {
   "cell_type": "code",
   "execution_count": 31,
   "metadata": {},
   "outputs": [],
   "source": [
    "train_x_temp = [(term_frequency(a),b) for a,b in training_r]\n",
    "train_sum = [sum(d[0]) for d in train_x_temp]\n",
    "for i in range(len(train_sum)):\n",
    "    if train_sum[i] == 0:\n",
    "        train_sum[i] = 1\n",
    "        \n",
    "train_x = []\n",
    "train_x2 = []    \n",
    "for d in range(len(train_x_temp)):\n",
    "    li = [float(l)/train_sum[d] for l in train_x_temp[d][0]]\n",
    "    train_x.append(li)\n",
    "    train_x2.append((li,train_x_temp[d][1]))\n",
    "\n",
    "\n",
    "test_x_temp = [(term_frequency(a),b) for a,b in test_r]\n",
    "test_sum = [sum(d[0]) for d in test_x_temp]\n",
    "for i in range(len(test_sum)):\n",
    "    if test_sum[i] == 0:\n",
    "        test_sum[i] = 1\n",
    "        \n",
    "test_x = []\n",
    "test_x2 = []    \n",
    "for d in range(len(test_x_temp)):\n",
    "    li = [float(l)/test_sum[d] for l in test_x_temp[d][0]]\n",
    "    test_x.append(li)\n",
    "    test_x2.append((li,test_x_temp[d][1]))\n",
    "    \n",
    "    \n",
    "train_y = [c for _,c in training_r]\n",
    "test_y = [c for _,c in test_r]\n"
   ]
  },
  {
   "cell_type": "code",
   "execution_count": 32,
   "metadata": {},
   "outputs": [],
   "source": [
    "import numpy as np\n",
    "x_train = np.asarray(train_x).astype('float32')\n",
    "x_test = np.asarray(test_x).astype('float32')\n",
    "y_train = np.asarray(train_y).astype('float32')\n",
    "y_test = np.asarray(test_y).astype('float32')"
   ]
  },
  {
   "cell_type": "markdown",
   "metadata": {},
   "source": [
    "## 학습"
   ]
  },
  {
   "cell_type": "code",
   "execution_count": 38,
   "metadata": {},
   "outputs": [
    {
     "name": "stdout",
     "output_type": "stream",
     "text": [
      "Epoch 1/50\n",
      "12/13 [==========================>...] - ETA: 0s - loss: 0.6778 - binary_accuracy: 0.6016WARNING:tensorflow:From /Users/leesangyun/opt/anaconda3/lib/python3.7/site-packages/tensorflow/python/ops/resource_variable_ops.py:1817: calling BaseResourceVariable.__init__ (from tensorflow.python.ops.resource_variable_ops) with constraint is deprecated and will be removed in a future version.\n",
      "Instructions for updating:\n",
      "If using Keras pass *_constraint arguments to layers.\n",
      "INFO:tensorflow:Assets written to: ReviewModel/assets\n",
      "13/13 [==============================] - 1s 74ms/step - loss: 0.6774 - binary_accuracy: 0.5950 - val_loss: 0.6411 - val_binary_accuracy: 0.7216\n",
      "Epoch 2/50\n",
      "12/13 [==========================>...] - ETA: 0s - loss: 0.5679 - binary_accuracy: 0.8333INFO:tensorflow:Assets written to: ReviewModel/assets\n",
      "13/13 [==============================] - 1s 75ms/step - loss: 0.5665 - binary_accuracy: 0.8325 - val_loss: 0.5518 - val_binary_accuracy: 0.8247\n",
      "Epoch 3/50\n",
      "13/13 [==============================] - 1s 44ms/step - loss: 0.4125 - binary_accuracy: 0.8975 - val_loss: 0.4935 - val_binary_accuracy: 0.7887\n",
      "Epoch 4/50\n",
      "13/13 [==============================] - 0s 18ms/step - loss: 0.2788 - binary_accuracy: 0.9400 - val_loss: 0.5195 - val_binary_accuracy: 0.7732\n",
      "Epoch 5/50\n",
      "13/13 [==============================] - 0s 18ms/step - loss: 0.1912 - binary_accuracy: 0.9625 - val_loss: 0.4709 - val_binary_accuracy: 0.8247\n",
      "Epoch 6/50\n",
      "13/13 [==============================] - 0s 17ms/step - loss: 0.1226 - binary_accuracy: 0.9825 - val_loss: 0.4902 - val_binary_accuracy: 0.8144\n",
      "Epoch 7/50\n",
      "13/13 [==============================] - 0s 16ms/step - loss: 0.0779 - binary_accuracy: 0.9900 - val_loss: 0.5735 - val_binary_accuracy: 0.7680\n",
      "Epoch 8/50\n",
      "13/13 [==============================] - 0s 16ms/step - loss: 0.0537 - binary_accuracy: 0.9950 - val_loss: 0.5888 - val_binary_accuracy: 0.7835\n",
      "Epoch 9/50\n",
      "13/13 [==============================] - 0s 17ms/step - loss: 0.0342 - binary_accuracy: 0.9950 - val_loss: 0.6332 - val_binary_accuracy: 0.7938\n",
      "Epoch 10/50\n",
      "13/13 [==============================] - 0s 18ms/step - loss: 0.0244 - binary_accuracy: 0.9950 - val_loss: 0.6756 - val_binary_accuracy: 0.7835\n",
      "Epoch 11/50\n",
      "13/13 [==============================] - 0s 17ms/step - loss: 0.0166 - binary_accuracy: 0.9975 - val_loss: 0.7312 - val_binary_accuracy: 0.7784\n",
      "Epoch 12/50\n",
      "13/13 [==============================] - 0s 17ms/step - loss: 0.0115 - binary_accuracy: 0.9975 - val_loss: 0.8794 - val_binary_accuracy: 0.7835\n",
      "Epoch 13/50\n",
      "13/13 [==============================] - 0s 16ms/step - loss: 0.0119 - binary_accuracy: 0.9950 - val_loss: 0.8635 - val_binary_accuracy: 0.7887\n",
      "Epoch 14/50\n",
      "13/13 [==============================] - 0s 16ms/step - loss: 0.0088 - binary_accuracy: 0.9975 - val_loss: 0.8818 - val_binary_accuracy: 0.7732\n",
      "Epoch 15/50\n",
      "13/13 [==============================] - 0s 16ms/step - loss: 0.0093 - binary_accuracy: 0.9975 - val_loss: 0.9447 - val_binary_accuracy: 0.7938\n",
      "Epoch 16/50\n",
      "13/13 [==============================] - 0s 17ms/step - loss: 0.0044 - binary_accuracy: 0.9975 - val_loss: 0.9836 - val_binary_accuracy: 0.7835\n",
      "Epoch 17/50\n",
      "13/13 [==============================] - 0s 18ms/step - loss: 0.0087 - binary_accuracy: 0.9950 - val_loss: 1.0616 - val_binary_accuracy: 0.7938\n",
      "Epoch 18/50\n",
      "13/13 [==============================] - 0s 17ms/step - loss: 0.0116 - binary_accuracy: 0.9950 - val_loss: 1.0734 - val_binary_accuracy: 0.7835\n",
      "Epoch 19/50\n",
      "13/13 [==============================] - 0s 18ms/step - loss: 0.0082 - binary_accuracy: 0.9975 - val_loss: 1.1992 - val_binary_accuracy: 0.7784\n",
      "Epoch 20/50\n",
      "13/13 [==============================] - 0s 17ms/step - loss: 0.0080 - binary_accuracy: 0.9950 - val_loss: 1.1439 - val_binary_accuracy: 0.7990\n",
      "Epoch 21/50\n",
      "13/13 [==============================] - 0s 18ms/step - loss: 0.0042 - binary_accuracy: 0.9975 - val_loss: 1.2527 - val_binary_accuracy: 0.7784\n",
      "Epoch 22/50\n",
      "13/13 [==============================] - 0s 19ms/step - loss: 0.0088 - binary_accuracy: 0.9975 - val_loss: 1.1919 - val_binary_accuracy: 0.7835\n",
      "Epoch 23/50\n",
      "13/13 [==============================] - 0s 17ms/step - loss: 0.0049 - binary_accuracy: 0.9975 - val_loss: 1.2507 - val_binary_accuracy: 0.7732\n",
      "Epoch 24/50\n",
      "13/13 [==============================] - 0s 18ms/step - loss: 0.0083 - binary_accuracy: 0.9975 - val_loss: 1.2320 - val_binary_accuracy: 0.7784\n",
      "Epoch 25/50\n",
      "13/13 [==============================] - 0s 18ms/step - loss: 0.0099 - binary_accuracy: 0.9950 - val_loss: 1.2620 - val_binary_accuracy: 0.7990\n",
      "Epoch 26/50\n",
      "13/13 [==============================] - 0s 16ms/step - loss: 0.0101 - binary_accuracy: 0.9950 - val_loss: 1.2880 - val_binary_accuracy: 0.7835\n",
      "Epoch 27/50\n",
      "13/13 [==============================] - 0s 18ms/step - loss: 0.0084 - binary_accuracy: 0.9975 - val_loss: 1.3643 - val_binary_accuracy: 0.7938\n",
      "Epoch 28/50\n",
      "13/13 [==============================] - 0s 17ms/step - loss: 0.0077 - binary_accuracy: 0.9975 - val_loss: 1.3595 - val_binary_accuracy: 0.7835\n",
      "Epoch 29/50\n",
      "13/13 [==============================] - 0s 18ms/step - loss: 0.0073 - binary_accuracy: 0.9975 - val_loss: 1.3944 - val_binary_accuracy: 0.7835\n",
      "Epoch 30/50\n",
      "13/13 [==============================] - 0s 17ms/step - loss: 0.0082 - binary_accuracy: 0.9950 - val_loss: 1.4196 - val_binary_accuracy: 0.7938\n",
      "Epoch 31/50\n",
      "13/13 [==============================] - 0s 18ms/step - loss: 0.0039 - binary_accuracy: 0.9975 - val_loss: 1.4043 - val_binary_accuracy: 0.7990   \n",
      "Epoch 32/50\n",
      "13/13 [==============================] - 0s 17ms/step - loss: 0.0049 - binary_accuracy: 0.9975 - val_loss: 1.4882 - val_binary_accuracy: 0.7990\n",
      "Epoch 33/50\n",
      "13/13 [==============================] - 0s 17ms/step - loss: 0.0116 - binary_accuracy: 0.9950 - val_loss: 1.4784 - val_binary_accuracy: 0.7887\n",
      "Epoch 34/50\n",
      "13/13 [==============================] - 0s 18ms/step - loss: 0.0078 - binary_accuracy: 0.9975 - val_loss: 1.4488 - val_binary_accuracy: 0.7887\n",
      "Epoch 35/50\n",
      "13/13 [==============================] - 0s 16ms/step - loss: 0.0105 - binary_accuracy: 0.9950 - val_loss: 1.4719 - val_binary_accuracy: 0.7938\n",
      "Epoch 36/50\n",
      "13/13 [==============================] - 0s 17ms/step - loss: 0.0075 - binary_accuracy: 0.9975 - val_loss: 1.5044 - val_binary_accuracy: 0.7835\n",
      "Epoch 37/50\n",
      "13/13 [==============================] - 0s 17ms/step - loss: 0.0089 - binary_accuracy: 0.9975 - val_loss: 1.4882 - val_binary_accuracy: 0.7835\n",
      "Epoch 38/50\n",
      "13/13 [==============================] - 0s 17ms/step - loss: 0.0039 - binary_accuracy: 0.9975 - val_loss: 1.5245 - val_binary_accuracy: 0.7835\n",
      "Epoch 39/50\n",
      "13/13 [==============================] - 0s 17ms/step - loss: 0.0083 - binary_accuracy: 0.9975 - val_loss: 1.5058 - val_binary_accuracy: 0.7887\n",
      "Epoch 40/50\n",
      "13/13 [==============================] - 0s 18ms/step - loss: 0.0088 - binary_accuracy: 0.9975 - val_loss: 1.5441 - val_binary_accuracy: 0.7938\n",
      "Epoch 41/50\n",
      "13/13 [==============================] - 0s 18ms/step - loss: 0.0084 - binary_accuracy: 0.9950 - val_loss: 1.6575 - val_binary_accuracy: 0.7784\n",
      "Epoch 42/50\n",
      "13/13 [==============================] - 0s 18ms/step - loss: 0.0078 - binary_accuracy: 0.9975 - val_loss: 1.5275 - val_binary_accuracy: 0.7835\n",
      "Epoch 43/50\n",
      "13/13 [==============================] - 0s 17ms/step - loss: 0.0091 - binary_accuracy: 0.9950 - val_loss: 1.5461 - val_binary_accuracy: 0.7784\n",
      "Epoch 44/50\n",
      "13/13 [==============================] - 0s 18ms/step - loss: 0.0057 - binary_accuracy: 0.9975 - val_loss: 1.5780 - val_binary_accuracy: 0.7784\n",
      "Epoch 45/50\n",
      "13/13 [==============================] - 0s 18ms/step - loss: 0.0060 - binary_accuracy: 0.9975 - val_loss: 1.5614 - val_binary_accuracy: 0.7784\n",
      "Epoch 46/50\n",
      "13/13 [==============================] - 0s 17ms/step - loss: 0.0108 - binary_accuracy: 0.9950 - val_loss: 1.5679 - val_binary_accuracy: 0.7784\n",
      "Epoch 47/50\n",
      "13/13 [==============================] - 0s 18ms/step - loss: 0.0057 - binary_accuracy: 0.9975 - val_loss: 1.6508 - val_binary_accuracy: 0.7784\n",
      "Epoch 48/50\n",
      "13/13 [==============================] - 0s 20ms/step - loss: 0.0040 - binary_accuracy: 0.9975 - val_loss: 1.5825 - val_binary_accuracy: 0.7732\n",
      "Epoch 49/50\n"
     ]
    },
    {
     "name": "stdout",
     "output_type": "stream",
     "text": [
      "13/13 [==============================] - 0s 17ms/step - loss: 0.0085 - binary_accuracy: 0.9975 - val_loss: 1.6115 - val_binary_accuracy: 0.7732\n",
      "Epoch 50/50\n",
      "13/13 [==============================] - 0s 17ms/step - loss: 0.0089 - binary_accuracy: 0.9950 - val_loss: 1.6361 - val_binary_accuracy: 0.7732\n"
     ]
    }
   ],
   "source": [
    "from tensorflow.keras import models\n",
    "from tensorflow.keras import layers\n",
    "from tensorflow.keras import optimizers\n",
    "from tensorflow.keras import losses\n",
    "from tensorflow.keras import metrics\n",
    "from tensorflow.keras.callbacks import ModelCheckpoint\n",
    "\n",
    "callbacks = [ModelCheckpoint(filepath='ReviewModel',monitor='val_binary_accuracy',save_best_only=True)]\n",
    "\n",
    "model = models.Sequential()\n",
    "model.add(layers.Dense(1200,activation='relu',input_shape=(2500,)))#실제 쓸 단어갯수\n",
    "model.add(layers.Dense(64,activation='relu'))\n",
    "model.add(layers.Dense(1,activation='sigmoid'))\n",
    "\n",
    "model.compile(optimizer=optimizers.RMSprop(lr=0.001),loss = losses.binary_crossentropy,metrics=[metrics.binary_accuracy])\n",
    "\n",
    "hist = model.fit(x_train,y_train,epochs=50,batch_size=32,validation_data=(x_test,y_test),callbacks=callbacks)\n",
    "\n"
   ]
  },
  {
   "cell_type": "code",
   "execution_count": 40,
   "metadata": {},
   "outputs": [
    {
     "data": {
      "image/png": "[encoded data removed]",
      "text/plain": [
       "<Figure size 432x288 with 2 Axes>"
      ]
     },
     "metadata": {
      "needs_background": "light"
     },
     "output_type": "display_data"
    }
   ],
   "source": [
    "#8\n",
    "%matplotlib inline\n",
    "import matplotlib.pyplot as plt\n",
    "\n",
    "fig, acc_ax = plt.subplots()\n",
    "\n",
    "loss_ax = acc_ax.twinx()\n",
    "\n",
    "loss_ax.plot(hist.history['loss'], 'y', label='train loss')\n",
    "loss_ax.plot(hist.history['val_loss'], 'r', label='val loss')\n",
    "\n",
    "acc_ax.plot(hist.history['binary_accuracy'], 'b', label='train acc')\n",
    "acc_ax.plot(hist.history['val_binary_accuracy'], 'g', label='val acc')\n",
    "\n",
    "loss_ax.set_xlabel('epoch')\n",
    "loss_ax.set_ylabel('loss')\n",
    "acc_ax.set_ylabel('accuray')\n",
    "\n",
    "loss_ax.legend(loc='upper left')\n",
    "acc_ax.legend(loc='lower left')\n",
    "\n",
    "plt.show()"
   ]
  },
  {
   "cell_type": "code",
   "execution_count": 1,
   "metadata": {},
   "outputs": [],
   "source": [
    "\"\"\"def predict(review):\n",
    "    token = tokenize(review)\n",
    "    tf = term_frequency(token)\n",
    "    data = np.expand_dims(np.asarray(tf).astype('float32'),axis=0)\n",
    "    score = float(model.predict(data))\n",
    "    #print(score)\n",
    "    if(score>0.5):\n",
    "        #print(\"[{}]는 {:.2f}%확률로 만족 리뷰입니다.\".format(review,score*100))\n",
    "        return score\n",
    "    else:\n",
    "        #print(\"[{}]는 {:.2f}%확률로 불만족 리뷰입니다.\".format(review,(1-score)*100))\n",
    "        return -(1-score)\"\"\""
   ]
  },
  {
   "cell_type": "code",
   "execution_count": 114,
   "metadata": {},
   "outputs": [
    {
     "data": {
      "text/plain": [
       "-0.6199873685836792"
      ]
     },
     "execution_count": 114,
     "metadata": {},
     "output_type": "execute_result"
    }
   ],
   "source": [
    "def keyword_predict(s):\n",
    "    test_t = tokenize(s)\n",
    "    tf = term_frequency(test_t)\n",
    "    tf_sum = 0\n",
    "    for i in tf:\n",
    "        tf_sum = tf_sum + i\n",
    "    if tf_sum == 0:\n",
    "        tf_sum = 1\n",
    "    final_tf = [i/tf_sum for i in tf]\n",
    "    data = np.expand_dims(np.asarray(final_tf).astype('float32'),axis=0)\n",
    "    score = float(model_best.predict(data))\n",
    "    #print(score)\n",
    "\n",
    "    if(score>0.55):\n",
    "        #print(\"[{}]는 {:.2f}%확률로 만족 리뷰입니다.\".format(s,score*100))\n",
    "        return score\n",
    "    elif(score<0.45):\n",
    "        #print(\"[{}]는 {:.2f}%확률로 불만족 리뷰입니다.\".format(s,(1-score)*100))\n",
    "        return -(1-score)\n",
    "    else:\n",
    "        #print('그저 그렇다')\n",
    "        return 0\n",
    "    \n",
    "keyword_predict('성능이 안좋다')"
   ]
  },
  {
   "cell_type": "code",
   "execution_count": 46,
   "metadata": {},
   "outputs": [],
   "source": [
    "#모델 로컬에 저장\n",
    "model_best = models.load_model('ReviewModel')\n",
    "def predict(x):\n",
    "    data = np.expand_dims(np.asarray(x).astype('float32'),axis=0)\n",
    "    score = model_best.predict(data)\n",
    "    if(score>0.5):\n",
    "        return 1\n",
    "    else:\n",
    "        return 0"
   ]
  },
  {
   "cell_type": "code",
   "execution_count": 104,
   "metadata": {},
   "outputs": [
    {
     "name": "stdout",
     "output_type": "stream",
     "text": [
      "0.8247422680412371\n"
     ]
    }
   ],
   "source": [
    "# 테스트 데이터 정확도\n",
    "count = 0\n",
    "for i in test_x2:\n",
    "    if predict(i[0]) == int(i[1]):\n",
    "        count = count + 1\n",
    "print(count/len(test_r))"
   ]
  },
  {
   "cell_type": "markdown",
   "metadata": {},
   "source": [
    "## 키워드별 스코어의 가중평균"
   ]
  },
  {
   "cell_type": "code",
   "execution_count": null,
   "metadata": {},
   "outputs": [],
   "source": [
    "import pandas as pd\n",
    "# dataframe으로 변형하기 전에 last_table에 각 제품별로 리뷰 수를 나타내는 컬럼을 마지막에 추가해놔야한다.\n",
    "score_df = pd.DataFrame(last_table, columns=['item', '가성비', 'as', '배송', '성능', 'count']\n",
    "score_df\n"
   ]
  },
  {
   "cell_type": "code",
   "execution_count": null,
   "metadata": {},
   "outputs": [],
   "source": [
    "C = score_df.mean()[0:4] # 전체 평균 평점\n",
    "m = 50 # 분석을 하기 위한 최소 리뷰 수\n",
    "\n",
    "def weighted_score(score):\n",
    "    v = score['count'] # 개별 댓글 개수\n",
    "    R = score[1:5] # 개별 평균 평점\n",
    "\n",
    "    return ((v/(v+m)) * R) + ((m/(m+v)) * C)\n",
    "score_df.apply(weighted_score, axis=1)\n"
   ]
  }
 ],
 "metadata": {
  "kernelspec": {
   "display_name": "Python 3",
   "language": "python",
   "name": "python3"
  },
  "language_info": {
   "codemirror_mode": {
    "name": "ipython",
    "version": 3
   },
   "file_extension": ".py",
   "mimetype": "text/x-python",
   "name": "python",
   "nbconvert_exporter": "python",
   "pygments_lexer": "ipython3",
   "version": "3.7.6"
  }
 },
 "nbformat": 4,
 "nbformat_minor": 4
}
