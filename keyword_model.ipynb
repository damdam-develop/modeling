{
 "cells": [
  {
   "cell_type": "code",
   "execution_count": null,
   "metadata": {},
   "outputs": [],
   "source": [
    "!pip install konlpy\n",
    "import re\n",
    "import pandas as pd\n",
    "import numpy as np\n",
    "from konlpy.tag import Okt\n",
    "from tensorflow.keras.models import load_model\n",
    "from tensorflow.keras.preprocessing.text import Tokenizer\n",
    "from tensorflow.keras.preprocessing.sequence import pad_sequences"
   ]
  },
  {
   "cell_type": "code",
   "execution_count": 5,
   "metadata": {
    "colab": {},
    "colab_type": "code",
    "id": "fuUv69bTCt2b"
   },
   "outputs": [],
   "source": [
    "reviews = pd.read_csv('drive/My Drive/datasets/review_final.csv')\n",
    "reviews = reviews.loc[:,['댓글내용']]"
   ]
  },
  {
   "cell_type": "code",
   "execution_count": null,
   "metadata": {
    "colab": {},
    "colab_type": "code",
    "id": "D8rK0tVcDKJ8"
   },
   "outputs": [],
   "source": [
    "reviews.sample(frac=1).reset_index(drop=True)"
   ]
  },
  {
   "cell_type": "code",
   "execution_count": null,
   "metadata": {
    "colab": {},
    "colab_type": "code",
    "id": "vUyIVvaLD5rD"
   },
   "outputs": [],
   "source": [
    "!pip install chatspace"
   ]
  },
  {
   "cell_type": "code",
   "execution_count": 11,
   "metadata": {
    "colab": {
     "base_uri": "https://localhost:8080/",
     "height": 70
    },
    "colab_type": "code",
    "id": "AdG49SWaEnqy",
    "outputId": "d35b2b5d-d4a9-4af9-ff55-a0787c31c438"
   },
   "outputs": [
    {
     "name": "stdout",
     "output_type": "stream",
     "text": [
      "Loading JIT Compiled ChatSpace Model\n"
     ]
    },
    {
     "data": {
      "application/vnd.google.colaboratory.intrinsic+json": {
       "type": "string"
      },
      "text/plain": [
       "'포장지 열자마자 유부초밥 냄새가 나서 자세히 봤더니 사진 처럼 국물이 고여있었어요 상품 포장상태가 안좋았던 건지 아니면 배송하시는 분이 던져서 터진 건지는 모르겠지만 별로네요 그냥 다 버려서 맛은 모르겠어요 맛 만족도 괜찮아요'"
      ]
     },
     "execution_count": 11,
     "metadata": {
      "tags": []
     },
     "output_type": "execute_result"
    }
   ],
   "source": [
    "# 띄어쓰기 보정 오픈소스\n",
    "from chatspace import ChatSpace\n",
    "\n",
    "spacer = ChatSpace()\n",
    "spacer.space(reviews['댓글내용'][0].replace('\\n',''))"
   ]
  },
  {
   "cell_type": "code",
   "execution_count": null,
   "metadata": {
    "colab": {},
    "colab_type": "code",
    "id": "jAMtg__sE12g"
   },
   "outputs": [],
   "source": [
    "test_data = []\n",
    "for text in reviews['댓글내용']:\n",
    "  test_data.append(spacer.space(text).replace('\\n',''))\n",
    "test_data"
   ]
  },
  {
   "cell_type": "code",
   "execution_count": null,
   "metadata": {
    "colab": {},
    "colab_type": "code",
    "id": "uRcLWJEDFd68"
   },
   "outputs": [],
   "source": [
    "test_data = pd.DataFrame(test_data, columns=['review'])\n",
    "test_data"
   ]
  },
  {
   "cell_type": "code",
   "execution_count": 106,
   "metadata": {
    "colab": {},
    "colab_type": "code",
    "id": "WzlQHHOXLnnM"
   },
   "outputs": [],
   "source": [
    "keyword_list = {'맛': ['맛','불맛', '감칠맛', '쓴맛', '향', '단맛', '신맛', '냄새', '끝맛', '짠맛', '꼬순내', '햄맛',\n",
    "                      '햄향', '닭맛', '불향', '풋내', '조미료', '끝향', '쏘스맛', '닭내', '파맛', '존맛', '핵존맛', '텁텁한맛'],\n",
    "                '가격':['가격', '금액', '값', '단가', '할인', '가성', '득템', '창렬', '혜자', '정가', '사기'],\n",
    "                '양':['용량', '양은', '양도', '양으로', '개수', '인분', '분량', '물량', '사이즈', '수량','양이', '남았', '남아','많'],\n",
    "                '품질':['품질', '상태', '아이스', '얼음', '비닐', '아이스팩', '뾱뾱', '뽁뽁이팩','드라이아이스', '아이스박스', '보냉', '상자',\n",
    "                      '종이팩', '종이', '상온', '실온','상한','상했','썩',\n",
    "                        '소재', '박스', '뽁뽁이', '비닐봉투', '밀봉', '보냉팩', '배송', '발송', '택배', '배달', '검사', '퀄리티', '퀄러티','환경',\n",
    "                       '검증', '신뢰', '신선',  '유통기한', '유효기한', '싱싱', '상한', '부패', '냄새'],\n",
    "                '간편':['간편', '간단', '초보', '방법', '쉬움', '어려움', '단시간', '출퇴근시간', '간편식', '전문식','편리', '손쉽', '혼밥', '꽝손', \n",
    "                      '불편', '똥손', '금손', '편의'],\n",
    "                '외관':['외관', '육안', '디자인', '실물', '겉보기', '보고', '보임', '볼때', '볼 때', '보고', '맛보다', '봣', '눈으로', '사진찍기 좋은',\n",
    "                      '먹음직한', '말쌀나는', '푸디용', '색감', '색깔', '색이', '모양새'],\n",
    "                '웰빙':['웰빙', 'msg', '인스턴트', '건강식', '특수식품', '즉석식품', '건강', '다이어트', '다이어터', '헬스', '무첨가', '식단', '단백질',\n",
    "                      '영양', '효과', '예방', '체중', '영양소', '탄수화물', '칼로리', '성분', '소화효소', '체중감량', '면역', '근육', '야맹증',\n",
    "                      '질환', '보조', '미용', '운동', '에너지', '호르몬', '칼슘', '성인병', '갱년기', '성장', '비료', '노화', \n",
    "                      '치매', '효능', '염분', '두뇌', '불균형', '뇌', '알츠하이머', '코로나', '영양분', '소화']}"
   ]
  },
  {
   "cell_type": "code",
   "execution_count": 18,
   "metadata": {
    "colab": {
     "base_uri": "https://localhost:8080/",
     "height": 402
    },
    "colab_type": "code",
    "id": "b-P1UYDENyV3",
    "outputId": "1fb067bc-80fd-458a-ad61-15193074afa9"
   },
   "outputs": [
    {
     "data": {
      "text/html": [
       "<div>\n",
       "<style scoped>\n",
       "    .dataframe tbody tr th:only-of-type {\n",
       "        vertical-align: middle;\n",
       "    }\n",
       "\n",
       "    .dataframe tbody tr th {\n",
       "        vertical-align: top;\n",
       "    }\n",
       "\n",
       "    .dataframe thead th {\n",
       "        text-align: right;\n",
       "    }\n",
       "</style>\n",
       "<table border=\"1\" class=\"dataframe\">\n",
       "  <thead>\n",
       "    <tr style=\"text-align: right;\">\n",
       "      <th></th>\n",
       "      <th>review</th>\n",
       "      <th>맛</th>\n",
       "      <th>가격</th>\n",
       "      <th>양</th>\n",
       "      <th>품질</th>\n",
       "      <th>간편</th>\n",
       "      <th>외관</th>\n",
       "      <th>웰빙</th>\n",
       "    </tr>\n",
       "  </thead>\n",
       "  <tbody>\n",
       "    <tr>\n",
       "      <th>0</th>\n",
       "      <td>포장지 열자마자 유부초밥 냄새가 나서 자세히 봤더니 사진 처럼 국물이 고여있었어요 ...</td>\n",
       "      <td>-1</td>\n",
       "      <td>-1</td>\n",
       "      <td>-1</td>\n",
       "      <td>-1</td>\n",
       "      <td>-1</td>\n",
       "      <td>-1</td>\n",
       "      <td>-1</td>\n",
       "    </tr>\n",
       "    <tr>\n",
       "      <th>1</th>\n",
       "      <td>세 번째 시켜 먹었는데 깜짝 놀랐네요. 두부 넣어서 먹는 게 맛있어서 이번에도 시켰...</td>\n",
       "      <td>-1</td>\n",
       "      <td>-1</td>\n",
       "      <td>-1</td>\n",
       "      <td>-1</td>\n",
       "      <td>-1</td>\n",
       "      <td>-1</td>\n",
       "      <td>-1</td>\n",
       "    </tr>\n",
       "    <tr>\n",
       "      <th>2</th>\n",
       "      <td>안에 들어있는 유부팩 하나가 터져서 국물이 냉장고 안에 줄줄 흘렀어요.. 안에서 터...</td>\n",
       "      <td>-1</td>\n",
       "      <td>-1</td>\n",
       "      <td>-1</td>\n",
       "      <td>-1</td>\n",
       "      <td>-1</td>\n",
       "      <td>-1</td>\n",
       "      <td>-1</td>\n",
       "    </tr>\n",
       "    <tr>\n",
       "      <th>3</th>\n",
       "      <td>삼각은 싸서 입구를 막는데 사각은 토핑용인듯요 삼각보다 불편해요... ㅠㅠ</td>\n",
       "      <td>-1</td>\n",
       "      <td>-1</td>\n",
       "      <td>-1</td>\n",
       "      <td>-1</td>\n",
       "      <td>-1</td>\n",
       "      <td>-1</td>\n",
       "      <td>-1</td>\n",
       "    </tr>\n",
       "    <tr>\n",
       "      <th>4</th>\n",
       "      <td>맛이 좋아요 맛 만족도 예상보다 맛있어요</td>\n",
       "      <td>-1</td>\n",
       "      <td>-1</td>\n",
       "      <td>-1</td>\n",
       "      <td>-1</td>\n",
       "      <td>-1</td>\n",
       "      <td>-1</td>\n",
       "      <td>-1</td>\n",
       "    </tr>\n",
       "    <tr>\n",
       "      <th>...</th>\n",
       "      <td>...</td>\n",
       "      <td>...</td>\n",
       "      <td>...</td>\n",
       "      <td>...</td>\n",
       "      <td>...</td>\n",
       "      <td>...</td>\n",
       "      <td>...</td>\n",
       "      <td>...</td>\n",
       "    </tr>\n",
       "    <tr>\n",
       "      <th>87406</th>\n",
       "      <td>편리성 사용하기 편리해요 신선도 예상만큼 신선해요 맛 만족도 예상보다 맛있어요</td>\n",
       "      <td>-1</td>\n",
       "      <td>-1</td>\n",
       "      <td>-1</td>\n",
       "      <td>-1</td>\n",
       "      <td>-1</td>\n",
       "      <td>-1</td>\n",
       "      <td>-1</td>\n",
       "    </tr>\n",
       "    <tr>\n",
       "      <th>87407</th>\n",
       "      <td>편리성 그저 그래요 신선도 예상보다 신선해요 맛 만족도 괜찮아요</td>\n",
       "      <td>-1</td>\n",
       "      <td>-1</td>\n",
       "      <td>-1</td>\n",
       "      <td>-1</td>\n",
       "      <td>-1</td>\n",
       "      <td>-1</td>\n",
       "      <td>-1</td>\n",
       "    </tr>\n",
       "    <tr>\n",
       "      <th>87408</th>\n",
       "      <td>편리성 그저 그래요 신선도 예상만큼 신선해요 맛 만족도 괜찮아요</td>\n",
       "      <td>-1</td>\n",
       "      <td>-1</td>\n",
       "      <td>-1</td>\n",
       "      <td>-1</td>\n",
       "      <td>-1</td>\n",
       "      <td>-1</td>\n",
       "      <td>-1</td>\n",
       "    </tr>\n",
       "    <tr>\n",
       "      <th>87409</th>\n",
       "      <td>신선도 예상보다 신선해요 맛 만족도 예상보다 맛있어요</td>\n",
       "      <td>-1</td>\n",
       "      <td>-1</td>\n",
       "      <td>-1</td>\n",
       "      <td>-1</td>\n",
       "      <td>-1</td>\n",
       "      <td>-1</td>\n",
       "      <td>-1</td>\n",
       "    </tr>\n",
       "    <tr>\n",
       "      <th>87410</th>\n",
       "      <td>편리성 사용하기 편리해요 신선도 예상만큼 신선해요 맛 만족도 괜찮아요</td>\n",
       "      <td>-1</td>\n",
       "      <td>-1</td>\n",
       "      <td>-1</td>\n",
       "      <td>-1</td>\n",
       "      <td>-1</td>\n",
       "      <td>-1</td>\n",
       "      <td>-1</td>\n",
       "    </tr>\n",
       "  </tbody>\n",
       "</table>\n",
       "<p>87411 rows × 8 columns</p>\n",
       "</div>"
      ],
      "text/plain": [
       "                                                  review  맛  가격  ...  간편  외관  웰빙\n",
       "0      포장지 열자마자 유부초밥 냄새가 나서 자세히 봤더니 사진 처럼 국물이 고여있었어요 ... -1  -1  ...  -1  -1  -1\n",
       "1      세 번째 시켜 먹었는데 깜짝 놀랐네요. 두부 넣어서 먹는 게 맛있어서 이번에도 시켰... -1  -1  ...  -1  -1  -1\n",
       "2      안에 들어있는 유부팩 하나가 터져서 국물이 냉장고 안에 줄줄 흘렀어요.. 안에서 터... -1  -1  ...  -1  -1  -1\n",
       "3              삼각은 싸서 입구를 막는데 사각은 토핑용인듯요 삼각보다 불편해요... ㅠㅠ -1  -1  ...  -1  -1  -1\n",
       "4                                 맛이 좋아요 맛 만족도 예상보다 맛있어요 -1  -1  ...  -1  -1  -1\n",
       "...                                                  ... ..  ..  ...  ..  ..  ..\n",
       "87406        편리성 사용하기 편리해요 신선도 예상만큼 신선해요 맛 만족도 예상보다 맛있어요 -1  -1  ...  -1  -1  -1\n",
       "87407                편리성 그저 그래요 신선도 예상보다 신선해요 맛 만족도 괜찮아요 -1  -1  ...  -1  -1  -1\n",
       "87408                편리성 그저 그래요 신선도 예상만큼 신선해요 맛 만족도 괜찮아요 -1  -1  ...  -1  -1  -1\n",
       "87409                      신선도 예상보다 신선해요 맛 만족도 예상보다 맛있어요 -1  -1  ...  -1  -1  -1\n",
       "87410             편리성 사용하기 편리해요 신선도 예상만큼 신선해요 맛 만족도 괜찮아요 -1  -1  ...  -1  -1  -1\n",
       "\n",
       "[87411 rows x 8 columns]"
      ]
     },
     "execution_count": 18,
     "metadata": {
      "tags": []
     },
     "output_type": "execute_result"
    }
   ],
   "source": [
    "for keyword in keyword_list:\n",
    "  test_data[keyword] = -1\n",
    "test_data"
   ]
  },
  {
   "cell_type": "code",
   "execution_count": 86,
   "metadata": {
    "colab": {},
    "colab_type": "code",
    "id": "iQ94NtVHdiHu"
   },
   "outputs": [],
   "source": [
    "# tokenizing\n",
    "okt = Okt()\n",
    "def tokenize(doc):\n",
    "    # 한글 자음, 모음 제거\n",
    "    doc = re.sub(pattern='([ㄱ-ㅎㅏ-ㅣ]+)', repl='', string=doc)\n",
    "    # 특수기호 제거\n",
    "    doc = re.sub(pattern='[^\\w\\s]', repl='', string=doc)\n",
    "    # norm은 정규화, stem은 근어로 표시하기를 나타냄\n",
    "    doc = okt.pos(doc, norm=True, stem=True)\n",
    "    # 명사, 형용사, 부사, 동사 채택\n",
    "    token = []\n",
    "    for i in doc:\n",
    "        if i[1] == 'Noun' or i[1] == 'Verb' or i[1] == 'Adverb' or i[1] == 'Adjective':\n",
    "          token.append(i)\n",
    "\n",
    "    return ['/'.join(t) for t in token]"
   ]
  },
  {
   "cell_type": "code",
   "execution_count": 96,
   "metadata": {
    "colab": {},
    "colab_type": "code",
    "id": "DB-nkb0xd7i0"
   },
   "outputs": [],
   "source": [
    "def vectorize(sentence, encoder):\n",
    "  l = []\n",
    "  token = tokenize(sentence)\n",
    "  l.append(token)\n",
    "  result = encoder.texts_to_sequences(l)\n",
    "  return pad_sequences(result, 100)"
   ]
  },
  {
   "cell_type": "code",
   "execution_count": 93,
   "metadata": {
    "colab": {},
    "colab_type": "code",
    "id": "-RnsXegjeIX_"
   },
   "outputs": [],
   "source": [
    "# 인코더 기존 학습된 모델 사용\n",
    "import pickle\n",
    "with open('drive/My Drive/datasets/encoder_v2.pickle', 'rb') as handle:\n",
    "    encoder = pickle.load(handle)"
   ]
  },
  {
   "cell_type": "code",
   "execution_count": 107,
   "metadata": {
    "colab": {},
    "colab_type": "code",
    "id": "QoFmVZ0lO_9b"
   },
   "outputs": [],
   "source": [
    "def inject_keyword(text, window):\n",
    "  # 결과값\n",
    "  result = {'맛':'', '가격': '', '양':'', '품질':'', '간편':'', '외관':'', '웰빙':''}\n",
    "  sentences = re.split(', |m |; |? ', text) # 문장 분리 by \",.;?\"\n",
    "\n",
    "  # 맛 ~ 웰빙까지\n",
    "  for key in keyword_list.keys():\n",
    "    keys = keyword_list[key] # 키워드 + 연관 키워드 리스트\n",
    "    injected = '' # 추출할 문장\n",
    "\n",
    "    for k in keys: \n",
    "      for sentence in sentences:\n",
    "        words = sentence.split(' ') # 각 문장 띄어쓰기 분리\n",
    "        for word in words:\n",
    "          if k == word:\n",
    "            index = words.index(word)\n",
    "            # 키워드에 해당하는 단어의 인덱스를 기준으로 앞 뒤 몇 글자씩 잘라내서 추출\n",
    "            # window 파라미터로 몇 글자를 잘라낼 것인지 설정\n",
    "            # 문맥 상 키워드의 이전 단어들 보다 이후에 등장하는 단어들을 더 많이 추출\n",
    "            for i in range(window-2):\n",
    "              if index - (window-2 - i) >= 0:\n",
    "                injected += words.pop(index - (window-2 -i))\n",
    "                injected += ' '\n",
    "            for i in range(window+2):\n",
    "              if index + i < len(words):\n",
    "                injected += words.pop(index + i)\n",
    "                injected += ' '    \n",
    "            injected += '.'\n",
    "                 \n",
    "      result[key] = injected\n",
    "      \n",
    "  return result"
   ]
  },
  {
   "cell_type": "code",
   "execution_count": 8,
   "metadata": {},
   "outputs": [
    {
     "data": {
      "text/plain": [
       "['다른', '것에', '대비', '가격대비', '살~~짝', '비싸지만', '맛있어요']"
      ]
     },
     "execution_count": 8,
     "metadata": {},
     "output_type": "execute_result"
    }
   ],
   "source": [
    "s = '다른 것에 대비 가격대비 살~~짝 비싸지만 맛있어요'\n",
    "s1 = s.split(' ')\n",
    "s1"
   ]
  },
  {
   "cell_type": "code",
   "execution_count": 10,
   "metadata": {},
   "outputs": [],
   "source": [
    "s1.remove('다른')"
   ]
  },
  {
   "cell_type": "code",
   "execution_count": 13,
   "metadata": {},
   "outputs": [
    {
     "data": {
      "text/plain": [
       "'것에'"
      ]
     },
     "execution_count": 13,
     "metadata": {},
     "output_type": "execute_result"
    }
   ],
   "source": [
    "s1.pop(0)"
   ]
  },
  {
   "cell_type": "code",
   "execution_count": 15,
   "metadata": {},
   "outputs": [
    {
     "data": {
      "text/plain": [
       "['가격대비', '살~~짝', '비싸지만', '맛있어요']"
      ]
     },
     "execution_count": 15,
     "metadata": {},
     "output_type": "execute_result"
    }
   ],
   "source": [
    "a = s1.pop(0)\n",
    "s1"
   ]
  },
  {
   "cell_type": "code",
   "execution_count": 83,
   "metadata": {
    "colab": {
     "base_uri": "https://localhost:8080/",
     "height": 140
    },
    "colab_type": "code",
    "id": "WFVyaPfbTFYs",
    "outputId": "2cb26427-c301-4923-d56c-de73da495384"
   },
   "outputs": [
    {
     "data": {
      "text/plain": [
       "{'가격': ' 다른 것에 비해 가격대비 살~~ 짝 비싸지만 고 소함이 느껴지네요  남편 ',\n",
       " '간편': '',\n",
       " '맛': '맛나는 미니미 돈까스 항시 두 개씩 쟁여 두며 구매하고 ',\n",
       " '양': '',\n",
       " '외관': '',\n",
       " '웰빙': '',\n",
       " '품질': ''}"
      ]
     },
     "execution_count": 83,
     "metadata": {
      "tags": []
     },
     "output_type": "execute_result"
    }
   ],
   "source": [
    "inject_keyword(test_data['review'][1681], 7)"
   ]
  },
  {
   "cell_type": "code",
   "execution_count": null,
   "metadata": {
    "colab": {},
    "colab_type": "code",
    "id": "vYLietapRnlm"
   },
   "outputs": [],
   "source": [
    "# 테스트용 3000개 데이터 사용\n",
    "samples = test_data[:3000]\n",
    "# 사전 학습된 LSTM 모델 사용\n",
    "model = load_model('drive/My Drive/datasets/LSTM_binary.h5')\n",
    "for sample in samples['review']:\n",
    "  inject_result = inject_keyword(sample, 5)\n",
    "  for key in keyword_list.keys():\n",
    "    inject_sentence = inject_result[key]\n",
    "    # 해당 키워드가 없으면 점수는 -1\n",
    "    if inject_sentence == '':\n",
    "      samples.loc[sample, key] = -1\n",
    "    else:\n",
    "      samples.loc[sample, key] = model.predict(vectorize(inject_sentence, encoder))[0][0] * 100"
   ]
  },
  {
   "cell_type": "code",
   "execution_count": 117,
   "metadata": {
    "colab": {
     "base_uri": "https://localhost:8080/",
     "height": 502
    },
    "colab_type": "code",
    "id": "wJu9UyyAiisq",
    "outputId": "0dc3d410-a55e-4757-ba9f-6bd4db71ce37"
   },
   "outputs": [
    {
     "data": {
      "text/html": [
       "<div>\n",
       "<style scoped>\n",
       "    .dataframe tbody tr th:only-of-type {\n",
       "        vertical-align: middle;\n",
       "    }\n",
       "\n",
       "    .dataframe tbody tr th {\n",
       "        vertical-align: top;\n",
       "    }\n",
       "\n",
       "    .dataframe thead th {\n",
       "        text-align: right;\n",
       "    }\n",
       "</style>\n",
       "<table border=\"1\" class=\"dataframe\">\n",
       "  <thead>\n",
       "    <tr style=\"text-align: right;\">\n",
       "      <th></th>\n",
       "      <th>review</th>\n",
       "      <th>맛</th>\n",
       "      <th>가격</th>\n",
       "      <th>양</th>\n",
       "      <th>품질</th>\n",
       "      <th>간편</th>\n",
       "      <th>외관</th>\n",
       "      <th>웰빙</th>\n",
       "    </tr>\n",
       "  </thead>\n",
       "  <tbody>\n",
       "    <tr>\n",
       "      <th>포장지 열자마자 유부초밥 냄새가 나서 자세히 봤더니 사진 처럼 국물이 고여있었어요 상품 포장상태가 안좋았던 건지 아니면 배송하시는 분이 던져서 터진 건지는 모르겠지만  별로네요 그냥 다 버려서 맛은 모르겠어요 맛 만족도 괜찮아요</th>\n",
       "      <td>NaN</td>\n",
       "      <td>99.252433</td>\n",
       "      <td>-1.000000</td>\n",
       "      <td>-1.000000</td>\n",
       "      <td>99.911231</td>\n",
       "      <td>-1.0</td>\n",
       "      <td>-1.0</td>\n",
       "      <td>-1.0</td>\n",
       "    </tr>\n",
       "    <tr>\n",
       "      <th>세 번째 시켜 먹었는데 깜짝 놀랐네요. 두부 넣어서 먹는 게 맛있어서 이번에도 시켰는데  유부초밥에서 플라스틱이 나왔네요.. 만약에 손님 대접하고 씹어먹다가 걸렸으면 어쩔 뻔 했는지..  믿고 시켰는데 화나고, 당황스러워서 여기에 평 남겨요. 신선도 예상만큼 신선해요</th>\n",
       "      <td>NaN</td>\n",
       "      <td>90.364802</td>\n",
       "      <td>-1.000000</td>\n",
       "      <td>-1.000000</td>\n",
       "      <td>93.207037</td>\n",
       "      <td>-1.0</td>\n",
       "      <td>-1.0</td>\n",
       "      <td>-1.0</td>\n",
       "    </tr>\n",
       "    <tr>\n",
       "      <th>맛이 좋아요 맛 만족도 예상보다 맛있어요</th>\n",
       "      <td>NaN</td>\n",
       "      <td>95.301169</td>\n",
       "      <td>-1.000000</td>\n",
       "      <td>-1.000000</td>\n",
       "      <td>-1.000000</td>\n",
       "      <td>-1.0</td>\n",
       "      <td>-1.0</td>\n",
       "      <td>-1.0</td>\n",
       "    </tr>\n",
       "    <tr>\n",
       "      <th>유부가 조금 더 크면 좋겠어요 맛있네요 저한테는 좀 유부가 작네요 치즈랑 같이 먹으니 더 맛있어요</th>\n",
       "      <td>NaN</td>\n",
       "      <td>99.976724</td>\n",
       "      <td>-1.000000</td>\n",
       "      <td>-1.000000</td>\n",
       "      <td>-1.000000</td>\n",
       "      <td>-1.0</td>\n",
       "      <td>-1.0</td>\n",
       "      <td>-1.0</td>\n",
       "    </tr>\n",
       "    <tr>\n",
       "      <th>유부초밥 비법은 밥에 양!! 전비법을 모름ㅋ 큰 사각 유부를 찾고 있었는데 시중에 파는 유부초밥은 삼각!! 이건 그냥 사각으로 자른 삼각 유부와 비슷한 사이즈네요~ 유부초밥도 회사마다 은근 맛차이 있던데, 어디 회사 유부가 진짜 맛이 없었는데 어딘지 생각이 안나는데 이건 맛있네요. 유부 초밥 만들 때마다 고민하는 게 밥양인데 이번에도 역시 밥이 남았어용 ㅋ 실생활 밥양 표기가 됐으면 좋겠어요 ㅋ 한그릇 반을 두그릇을 준시하시오. 이런식으로 ㅋ</th>\n",
       "      <td>NaN</td>\n",
       "      <td>99.686521</td>\n",
       "      <td>-1.000000</td>\n",
       "      <td>99.964964</td>\n",
       "      <td>-1.000000</td>\n",
       "      <td>-1.0</td>\n",
       "      <td>-1.0</td>\n",
       "      <td>-1.0</td>\n",
       "    </tr>\n",
       "    <tr>\n",
       "      <th>...</th>\n",
       "      <td>...</td>\n",
       "      <td>...</td>\n",
       "      <td>...</td>\n",
       "      <td>...</td>\n",
       "      <td>...</td>\n",
       "      <td>...</td>\n",
       "      <td>...</td>\n",
       "      <td>...</td>\n",
       "    </tr>\n",
       "    <tr>\n",
       "      <th>베이컨은 베이컨 베이컨 맛이야 거기서 거기라 이 베이컨도 그냥 평범한 한국 베이컨 맛이에요  생각보다 양이 많아서 좋았어요!</th>\n",
       "      <td>NaN</td>\n",
       "      <td>99.803978</td>\n",
       "      <td>-1.000000</td>\n",
       "      <td>99.355477</td>\n",
       "      <td>-1.000000</td>\n",
       "      <td>-1.0</td>\n",
       "      <td>-1.0</td>\n",
       "      <td>-1.0</td>\n",
       "    </tr>\n",
       "    <tr>\n",
       "      <th>아이소 풍용으로 샀어요 베이컨 말이 밥을 넘 좋아해서요 안 찢어지구 잘 말아지네요 맛 만족도 예상보다 맛있어요</th>\n",
       "      <td>NaN</td>\n",
       "      <td>69.117290</td>\n",
       "      <td>-1.000000</td>\n",
       "      <td>-1.000000</td>\n",
       "      <td>-1.000000</td>\n",
       "      <td>-1.0</td>\n",
       "      <td>-1.0</td>\n",
       "      <td>-1.0</td>\n",
       "    </tr>\n",
       "    <tr>\n",
       "      <th>1+1이라 마트보다 싼 가격에 잘 구매해서 맛나게 요리해 먹었어요 맛 만족도 예상보다 맛있어요</th>\n",
       "      <td>NaN</td>\n",
       "      <td>99.036485</td>\n",
       "      <td>99.463236</td>\n",
       "      <td>-1.000000</td>\n",
       "      <td>-1.000000</td>\n",
       "      <td>-1.0</td>\n",
       "      <td>-1.0</td>\n",
       "      <td>-1.0</td>\n",
       "    </tr>\n",
       "    <tr>\n",
       "      <th>베이컨 말이용으로 샀는데요~! 맛있고 부드럽고 좋았습니다. 맛 만족도 예상보다 맛있어요</th>\n",
       "      <td>NaN</td>\n",
       "      <td>98.379654</td>\n",
       "      <td>-1.000000</td>\n",
       "      <td>-1.000000</td>\n",
       "      <td>-1.000000</td>\n",
       "      <td>-1.0</td>\n",
       "      <td>-1.0</td>\n",
       "      <td>-1.0</td>\n",
       "    </tr>\n",
       "    <tr>\n",
       "      <th>브런치에 먹으려 샀는데 맛있네 묘. 조금 짰지만 계란 후라이랑 먹으면 간이 맞아요</th>\n",
       "      <td>NaN</td>\n",
       "      <td>61.663002</td>\n",
       "      <td>-1.000000</td>\n",
       "      <td>-1.000000</td>\n",
       "      <td>-1.000000</td>\n",
       "      <td>-1.0</td>\n",
       "      <td>-1.0</td>\n",
       "      <td>-1.0</td>\n",
       "    </tr>\n",
       "  </tbody>\n",
       "</table>\n",
       "<p>2086 rows × 8 columns</p>\n",
       "</div>"
      ],
      "text/plain": [
       "                                                   review          맛  ...   외관   웰빙\n",
       "포장지 열자마자 유부초밥 냄새가 나서 자세히 봤더니 사진 처럼 국물이 고여있었어요 상...    NaN  99.252433  ... -1.0 -1.0\n",
       "세 번째 시켜 먹었는데 깜짝 놀랐네요. 두부 넣어서 먹는 게 맛있어서 이번에도 시켰는...    NaN  90.364802  ... -1.0 -1.0\n",
       "맛이 좋아요 맛 만족도 예상보다 맛있어요                                NaN  95.301169  ... -1.0 -1.0\n",
       "유부가 조금 더 크면 좋겠어요 맛있네요 저한테는 좀 유부가 작네요 치즈랑 같이 먹으니...    NaN  99.976724  ... -1.0 -1.0\n",
       "유부초밥 비법은 밥에 양!! 전비법을 모름ㅋ 큰 사각 유부를 찾고 있었는데 시중에 파...    NaN  99.686521  ... -1.0 -1.0\n",
       "...                                                   ...        ...  ...  ...  ...\n",
       "베이컨은 베이컨 베이컨 맛이야 거기서 거기라 이 베이컨도 그냥 평범한 한국 베이컨 맛...    NaN  99.803978  ... -1.0 -1.0\n",
       "아이소 풍용으로 샀어요 베이컨 말이 밥을 넘 좋아해서요 안 찢어지구 잘 말아지네요 맛...    NaN  69.117290  ... -1.0 -1.0\n",
       "1+1이라 마트보다 싼 가격에 잘 구매해서 맛나게 요리해 먹었어요 맛 만족도 예상보다...    NaN  99.036485  ... -1.0 -1.0\n",
       "베이컨 말이용으로 샀는데요~! 맛있고 부드럽고 좋았습니다. 맛 만족도 예상보다 맛있어요      NaN  98.379654  ... -1.0 -1.0\n",
       "브런치에 먹으려 샀는데 맛있네 묘. 조금 짰지만 계란 후라이랑 먹으면 간이 맞아요         NaN  61.663002  ... -1.0 -1.0\n",
       "\n",
       "[2086 rows x 8 columns]"
      ]
     },
     "execution_count": 117,
     "metadata": {
      "tags": []
     },
     "output_type": "execute_result"
    }
   ],
   "source": [
    "samples[samples['맛'] != -1]"
   ]
  },
  {
   "cell_type": "code",
   "execution_count": 118,
   "metadata": {
    "colab": {
     "base_uri": "https://localhost:8080/",
     "height": 838
    },
    "colab_type": "code",
    "id": "OiTs3OHTkGlw",
    "outputId": "f1bae3a7-e41f-4843-f9f6-e70ef03e47cb"
   },
   "outputs": [
    {
     "data": {
      "text/html": [
       "<div>\n",
       "<style scoped>\n",
       "    .dataframe tbody tr th:only-of-type {\n",
       "        vertical-align: middle;\n",
       "    }\n",
       "\n",
       "    .dataframe tbody tr th {\n",
       "        vertical-align: top;\n",
       "    }\n",
       "\n",
       "    .dataframe thead th {\n",
       "        text-align: right;\n",
       "    }\n",
       "</style>\n",
       "<table border=\"1\" class=\"dataframe\">\n",
       "  <thead>\n",
       "    <tr style=\"text-align: right;\">\n",
       "      <th></th>\n",
       "      <th>review</th>\n",
       "      <th>맛</th>\n",
       "      <th>가격</th>\n",
       "      <th>양</th>\n",
       "      <th>품질</th>\n",
       "      <th>간편</th>\n",
       "      <th>외관</th>\n",
       "      <th>웰빙</th>\n",
       "    </tr>\n",
       "  </thead>\n",
       "  <tbody>\n",
       "    <tr>\n",
       "      <th>토핑한 유부초밥이 안쓰러지고 이쁘게 도시락 싸려면 사각 유부초밥이 좋을 것 같고, 또 다른 사각 유부초밥에 비하면 가격도 되게 저렴해서 구매를 했는데  너무 얇고 작아요. 예를 들어 10개중 3개는 찢어졌고 유보 안 찢어지게 담으려고 밥도 조금씩 조금씩 꾹꾹 누르다가 손에 쥐날 뻔 했어요. 다른 유부초밥에 비해 유부의 그 짭쪼른한 맛도 없고 토핑이 유부초밥 맛을 살렸어요. 재구매 의사는 없습니다 맛 만족도 예상보다 맛 없어요</th>\n",
       "      <td>NaN</td>\n",
       "      <td>98.946571</td>\n",
       "      <td>99.244928</td>\n",
       "      <td>-1.000000</td>\n",
       "      <td>-1.000000</td>\n",
       "      <td>-1.000000</td>\n",
       "      <td>-1.0</td>\n",
       "      <td>-1.0</td>\n",
       "    </tr>\n",
       "    <tr>\n",
       "      <th>괜찮아요 맛있어요  요즘 유부초밥에 꽂혀서 이틀에 한번씩 해먹네요  가격은 싸서 좋은데 유부피가 찢어지네요 맛은 있어요~ ^^</th>\n",
       "      <td>NaN</td>\n",
       "      <td>77.510256</td>\n",
       "      <td>98.147339</td>\n",
       "      <td>-1.000000</td>\n",
       "      <td>-1.000000</td>\n",
       "      <td>-1.000000</td>\n",
       "      <td>-1.0</td>\n",
       "      <td>-1.0</td>\n",
       "    </tr>\n",
       "    <tr>\n",
       "      <th>가성비 좋아요 가성비 좋아요</th>\n",
       "      <td>NaN</td>\n",
       "      <td>-1.000000</td>\n",
       "      <td>99.884892</td>\n",
       "      <td>-1.000000</td>\n",
       "      <td>-1.000000</td>\n",
       "      <td>-1.000000</td>\n",
       "      <td>-1.0</td>\n",
       "      <td>-1.0</td>\n",
       "    </tr>\n",
       "    <tr>\n",
       "      <th>아 이용, 도시락용 추천 맛있어요! 구매일 20. 08. 15 제조일 20. 08. 06 유통기한 20. 10. 06구매 가격 3, 920 유부초밥은 냉장고에 한봉씩 구비해두면 든든해요 해 먹기도 편하고 맛도 있고 아이도 좋아해서요! ●맛새콤달콤한 유부초밥의 정석인 맛이예요. 유부 초밥이 맛은 비슷비슷한데 가끔 신 맛만 나는 유부초밥이 있는데 이 제품은 맛있어요. 유부맛도 진하구요 ●유부 두께이 제품은 유부가 그리 두껍지 않아요.  그렇다고 너무 얇지도 않은데 만들면서 조금 더 두꺼웠음 좋겠단 생각했었어요, 그런데 먹어보니 유부맛이 진해서 더 두꺼웠으면 너무 유부맛만 나지 않았을까 싶어요! 아마 일반 유부보다 작은 크기라 이 두께가 적당한 것 같습니다. 유부 초밥 만들 때 유부가 너무 얇으면 만들 때 찢어지는데 이 제품은 유부가 5~7개중 1개 정도? ㅎㅎㅎ 삑사리나서 살짝 찢어지네요. ● 완성된 크기 밥 크게 한숟갈 넣으면 되는 크기예요. 유부 초밥 먹는 건 쉬운데 은근 손이 많이 가거든요. 이 제품은 한입 유부 초밥이라 일반 초밥보다 더 많이 만들어야 해요 ㅋㅋㅋ ㅠㅠㅠ 솔직히 성인만 있는 집에서 먹을꺼면 그냥 큰 유부 초밥 사먹을래요 ㅋㅋㅋ 하지만... 만들고 보니3살아이도 안흘리고 잘 먹는 거예요 일반 삼각보다 밥이 잘 안빠지더라구요. 만드는 건 힘들지만 먹을 때는 정말 편해서 도시락을 쌀때나 아이랑 먹을 때는 이 제품 추천해요!! ● 양 저희는 한봉 36 매입 4~ 5인분이라고 되어있는데  우리 가족은 많이 먹는 편이라 성인2, 3살아이 총 셋이서 라면 하나까지 끓여서 한번에 다 먹었습니다 ㅋㅋㅋ ●조리 법 유부초밥은 상온으로 먹는 게 맛있는 것 같아요 미리 밥을 꺼내놔서 식힌 후에 동봉된 소스와 채소 가루를 섞으면 됩니다. 저는 참기름 안넣은 게 더 새콤하니 맛잇는 거 같아요!  좀 더 신경 써서 먹으려면 다 짐육에 단짠 소스 (간장 3: 설탕 1: 후추 참기름 살짝) 버무리고 볶은 다음 넣어서 먹으면 더 맛있어요. 저는 단무지랑 우엉 남은 것, 다 진고기 있어서 다져넣었더니 더 맛있었습니다. 냉장고 파먹기에도 도움이 돼요 ㅋㅋㅋ 총평- 맛있음- 아이랑 먹을 때, 도시락용으로 추천- 집에서 성인이 간단하기 끼니 떼우는 용이면 그냥 큰 유부초밥 사세요 ㅎㅎㅎ 만들기 귀찮음  도움이 되셨나요? :)</th>\n",
       "      <td>NaN</td>\n",
       "      <td>99.933356</td>\n",
       "      <td>99.813581</td>\n",
       "      <td>99.968410</td>\n",
       "      <td>99.476153</td>\n",
       "      <td>99.923706</td>\n",
       "      <td>-1.0</td>\n",
       "      <td>-1.0</td>\n",
       "    </tr>\n",
       "    <tr>\n",
       "      <th>간 편하게 한입 쏙 ! 사각 유부초밥~~ 결론부터 말하자면 세모 유부초밥보다 사각 유부 초밥이 만들기 훨~ 쉬워요! 솜씨가 없는데 매끼니 신랑을 뭘 해주나.. 생각하다 간단히 따라 할 수 있는 크래미 유부초밥을 만들려구 쿠팡으로 CJ사각 유부초밥을 구매했답니다 ! 사각 형태라서 세모 유부초밥보다 밥을 넣기도 편했구요  유부초밥을 만들다 보면 유부가 종종 찢어지기도 했는데 이번에는 찢어지는 것 없이 완성했어요~~ 기존에 마트에서 사먹던 다른 업체 유부초밥보다 많이 짜지 않고 간간하니 너무 맛있었어요! 4~5인분이라 개봉하면 봉지가 두 개씩 나 뉘어져 있구요 오늘 저녁 하나만 뜯어서 크래미 유부초밥을 만들어 먹었더니, 둘이 먹기에 정말 딱이더라구요 포만 감도 크구 한팩에 2인이 먹기에 좋아요~~~ 쿠팡으로 유부초밥은 처음 사봤는데, 마트보다 가격도 저렴하구 배송도 로켓 배송되니 이만큼 편한 게 없네요 ㅜㅜ 저처럼 마트와 멀리 사는 사람에게 쿠팡은 정말.. 사랑입니다 ㅜㅜCJ씨 푸드 한입사각 유부초밥 재구매의사 100% 이구용! 다음번엔 두부를 넣어서 두부 유부초밥을 만들어 먹어보려구요~~  잘 먹겠습니다 ^^ 감사합니다.</th>\n",
       "      <td>NaN</td>\n",
       "      <td>99.952257</td>\n",
       "      <td>93.992954</td>\n",
       "      <td>99.960583</td>\n",
       "      <td>98.902565</td>\n",
       "      <td>99.898154</td>\n",
       "      <td>-1.0</td>\n",
       "      <td>-1.0</td>\n",
       "    </tr>\n",
       "    <tr>\n",
       "      <th>...</th>\n",
       "      <td>...</td>\n",
       "      <td>...</td>\n",
       "      <td>...</td>\n",
       "      <td>...</td>\n",
       "      <td>...</td>\n",
       "      <td>...</td>\n",
       "      <td>...</td>\n",
       "      <td>...</td>\n",
       "    </tr>\n",
       "    <tr>\n",
       "      <th>베이컨은 항상 요기꺼만! 가격대비 참이나 양이 굿입니다! 파스타나 볶음밥 여기 저기 잘 해먹었네요!  또 시키려구요 베이컨은 항상 요걸로 시켜야겠습니다용</th>\n",
       "      <td>NaN</td>\n",
       "      <td>-1.000000</td>\n",
       "      <td>99.948740</td>\n",
       "      <td>99.775606</td>\n",
       "      <td>-1.000000</td>\n",
       "      <td>-1.000000</td>\n",
       "      <td>-1.0</td>\n",
       "      <td>-1.0</td>\n",
       "    </tr>\n",
       "    <tr>\n",
       "      <th>적당한 양에 좋은 가격 좋았어요. 파스타 하려고 구매했어요. 저는 가격도 적당하고 맛있게 잘 먹었네요 ^^</th>\n",
       "      <td>NaN</td>\n",
       "      <td>99.390054</td>\n",
       "      <td>99.928766</td>\n",
       "      <td>-1.000000</td>\n",
       "      <td>-1.000000</td>\n",
       "      <td>-1.000000</td>\n",
       "      <td>-1.0</td>\n",
       "      <td>-1.0</td>\n",
       "    </tr>\n",
       "    <tr>\n",
       "      <th>배송굿이네요 가격 제한 없이 무료 로켓 배송 계속 가즈아~~ 베이컨 가격 내려주세요 우리 딸램 넘 좋아하는데 가격 쬠만 내려주삼ㅜ</th>\n",
       "      <td>NaN</td>\n",
       "      <td>-1.000000</td>\n",
       "      <td>98.519856</td>\n",
       "      <td>-1.000000</td>\n",
       "      <td>99.655473</td>\n",
       "      <td>-1.000000</td>\n",
       "      <td>-1.0</td>\n",
       "      <td>-1.0</td>\n",
       "    </tr>\n",
       "    <tr>\n",
       "      <th>1+1이라 마트보다 싼 가격에 잘 구매해서 맛나게 요리해 먹었어요 맛 만족도 예상보다 맛있어요</th>\n",
       "      <td>NaN</td>\n",
       "      <td>99.036485</td>\n",
       "      <td>99.463236</td>\n",
       "      <td>-1.000000</td>\n",
       "      <td>-1.000000</td>\n",
       "      <td>-1.000000</td>\n",
       "      <td>-1.0</td>\n",
       "      <td>-1.0</td>\n",
       "    </tr>\n",
       "    <tr>\n",
       "      <th>만족합니다.. 급할 때 정말 최고입니다  가격도 새벽 배송하면 최고이고요</th>\n",
       "      <td>NaN</td>\n",
       "      <td>-1.000000</td>\n",
       "      <td>99.973613</td>\n",
       "      <td>-1.000000</td>\n",
       "      <td>99.934369</td>\n",
       "      <td>-1.000000</td>\n",
       "      <td>-1.0</td>\n",
       "      <td>-1.0</td>\n",
       "    </tr>\n",
       "  </tbody>\n",
       "</table>\n",
       "<p>315 rows × 8 columns</p>\n",
       "</div>"
      ],
      "text/plain": [
       "                                                   review          맛  ...   외관   웰빙\n",
       "토핑한 유부초밥이 안쓰러지고 이쁘게 도시락 싸려면 사각 유부초밥이 좋을 것 같고, 또...    NaN  98.946571  ... -1.0 -1.0\n",
       "괜찮아요 맛있어요  요즘 유부초밥에 꽂혀서 이틀에 한번씩 해먹네요  가격은 싸서 좋은...    NaN  77.510256  ... -1.0 -1.0\n",
       "가성비 좋아요 가성비 좋아요                                       NaN  -1.000000  ... -1.0 -1.0\n",
       "아 이용, 도시락용 추천 맛있어요! 구매일 20. 08. 15 제조일 20. 08. ...    NaN  99.933356  ... -1.0 -1.0\n",
       "간 편하게 한입 쏙 ! 사각 유부초밥~~ 결론부터 말하자면 세모 유부초밥보다 사각 유...    NaN  99.952257  ... -1.0 -1.0\n",
       "...                                                   ...        ...  ...  ...  ...\n",
       "베이컨은 항상 요기꺼만! 가격대비 참이나 양이 굿입니다! 파스타나 볶음밥 여기 저기 ...    NaN  -1.000000  ... -1.0 -1.0\n",
       "적당한 양에 좋은 가격 좋았어요. 파스타 하려고 구매했어요. 저는 가격도 적당하고 맛...    NaN  99.390054  ... -1.0 -1.0\n",
       "배송굿이네요 가격 제한 없이 무료 로켓 배송 계속 가즈아~~ 베이컨 가격 내려주세요 ...    NaN  -1.000000  ... -1.0 -1.0\n",
       "1+1이라 마트보다 싼 가격에 잘 구매해서 맛나게 요리해 먹었어요 맛 만족도 예상보다...    NaN  99.036485  ... -1.0 -1.0\n",
       "만족합니다.. 급할 때 정말 최고입니다  가격도 새벽 배송하면 최고이고요              NaN  -1.000000  ... -1.0 -1.0\n",
       "\n",
       "[315 rows x 8 columns]"
      ]
     },
     "execution_count": 118,
     "metadata": {
      "tags": []
     },
     "output_type": "execute_result"
    }
   ],
   "source": [
    "samples[samples['가격']!= -1]"
   ]
  },
  {
   "cell_type": "markdown",
   "metadata": {
    "colab_type": "text",
    "id": "YXgTR-BSkj6s"
   },
   "source": [
    "비고 \n",
    " * 아직까지 정확도에 한계가 있다. 키워드 추출 로직도 보완 필요.\n",
    " * 키워드 연관 단어 사전 역시 보완 필요\n",
    " * POC 나 프로토타입 때 보여주기 용으로는 나쁘지 않은듯.\n",
    " * 계산 시간 비용이 많이 든다. 3000개 학습 시 10분 정도, 9만 개 학습 시 5시간"
   ]
  },
  {
   "cell_type": "code",
   "execution_count": null,
   "metadata": {
    "colab": {},
    "colab_type": "code",
    "id": "7OPBbCB4kZ5S"
   },
   "outputs": [],
   "source": []
  }
 ],
 "metadata": {
  "accelerator": "GPU",
  "colab": {
   "name": "keyword_model.ipynb",
   "provenance": []
  },
  "kernelspec": {
   "display_name": "Python 3",
   "language": "python",
   "name": "python3"
  },
  "language_info": {
   "codemirror_mode": {
    "name": "ipython",
    "version": 3
   },
   "file_extension": ".py",
   "mimetype": "text/x-python",
   "name": "python",
   "nbconvert_exporter": "python",
   "pygments_lexer": "ipython3",
   "version": "3.7.3"
  }
 },
 "nbformat": 4,
 "nbformat_minor": 1
}
