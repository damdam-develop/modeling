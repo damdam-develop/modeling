{
  "nbformat": 4,
  "nbformat_minor": 0,
  "metadata": {
    "colab": {
      "name": "keyword_model.ipynb",
      "provenance": []
    },
    "kernelspec": {
      "name": "python3",
      "display_name": "Python 3"
    },
    "accelerator": "GPU"
  },
  "cells": [
    {
      "cell_type": "code",
      "metadata": {
        "id": "o3FawAMcCd8a",
        "colab_type": "code",
        "colab": {}
      },
      "source": [
        "!pip install konlpy\n",
        "import re\n",
        "import pandas as pd\n",
        "import numpy as np\n",
        "from konlpy.tag import Okt\n",
        "from tensorflow.keras.models import load_model\n",
        "from tensorflow.keras.preprocessing.text import Tokenizer\n",
        "from tensorflow.keras.preprocessing.sequence import pad_sequences"
      ],
      "execution_count": 95,
      "outputs": []
    },
    {
      "cell_type": "code",
      "metadata": {
        "id": "fuUv69bTCt2b",
        "colab_type": "code",
        "colab": {}
      },
      "source": [
        "reviews = pd.read_csv('drive/My Drive/datasets/review_final.csv')\n",
        "reviews = reviews.loc[:,['댓글내용']]"
      ],
      "execution_count": 5,
      "outputs": []
    },
    {
      "cell_type": "code",
      "metadata": {
        "id": "D8rK0tVcDKJ8",
        "colab_type": "code",
        "colab": {}
      },
      "source": [
        "reviews.sample(frac=1).reset_index(drop=True)"
      ],
      "execution_count": null,
      "outputs": []
    },
    {
      "cell_type": "code",
      "metadata": {
        "id": "vUyIVvaLD5rD",
        "colab_type": "code",
        "colab": {}
      },
      "source": [
        "!pip install chatspace"
      ],
      "execution_count": null,
      "outputs": []
    },
    {
      "cell_type": "code",
      "metadata": {
        "id": "AdG49SWaEnqy",
        "colab_type": "code",
        "colab": {
          "base_uri": "https://localhost:8080/",
          "height": 70
        },
        "outputId": "d35b2b5d-d4a9-4af9-ff55-a0787c31c438"
      },
      "source": [
        "# 띄어쓰기 보정 오픈소스\n",
        "from chatspace import ChatSpace\n",
        "\n",
        "spacer = ChatSpace()\n",
        "spacer.space(reviews['댓글내용'][0].replace('\\n',''))"
      ],
      "execution_count": 11,
      "outputs": [
        {
          "output_type": "stream",
          "text": [
            "Loading JIT Compiled ChatSpace Model\n"
          ],
          "name": "stdout"
        },
        {
          "output_type": "execute_result",
          "data": {
            "application/vnd.google.colaboratory.intrinsic+json": {
              "type": "string"
            },
            "text/plain": [
              "'포장지 열자마자 유부초밥 냄새가 나서 자세히 봤더니 사진 처럼 국물이 고여있었어요 상품 포장상태가 안좋았던 건지 아니면 배송하시는 분이 던져서 터진 건지는 모르겠지만 별로네요 그냥 다 버려서 맛은 모르겠어요 맛 만족도 괜찮아요'"
            ]
          },
          "metadata": {
            "tags": []
          },
          "execution_count": 11
        }
      ]
    },
    {
      "cell_type": "code",
      "metadata": {
        "id": "jAMtg__sE12g",
        "colab_type": "code",
        "colab": {}
      },
      "source": [
        "test_data = []\n",
        "for text in reviews['댓글내용']:\n",
        "  test_data.append(spacer.space(text).replace('\\n',''))\n",
        "test_data"
      ],
      "execution_count": null,
      "outputs": []
    },
    {
      "cell_type": "code",
      "metadata": {
        "id": "uRcLWJEDFd68",
        "colab_type": "code",
        "colab": {}
      },
      "source": [
        "test_data = pd.DataFrame(test_data, columns=['review'])\n",
        "test_data"
      ],
      "execution_count": null,
      "outputs": []
    },
    {
      "cell_type": "code",
      "metadata": {
        "id": "WzlQHHOXLnnM",
        "colab_type": "code",
        "colab": {}
      },
      "source": [
        "keyword_list = {'맛': ['맛','불맛', '감칠맛', '쓴맛', '향', '단맛', '신맛', '냄새', '끝맛', '짠맛', '꼬순내', '햄맛',\n",
        "                      '햄향', '닭맛', '불향', '풋내', '조미료', '끝향', '쏘스맛', '닭내', '파맛', '존맛', '핵존맛', '텁텁한맛'],\n",
        "                '가격':['가격', '금액', '값', '단가', '할인', '가성', '득템', '창렬', '혜자', '정가', '사기'],\n",
        "                '양':['용량', '양은', '양도', '양으로', '개수', '인분', '분량', '물량', '사이즈', '수량','양이', '남았', '남아','많'],\n",
        "                '품질':['품질', '상태', '아이스', '얼음', '비닐', '아이스팩', '뾱뾱', '뽁뽁이팩','드라이아이스', '아이스박스', '보냉', '상자',\n",
        "                      '종이팩', '종이', '상온', '실온','상한','상했','썩',\n",
        "                        '소재', '박스', '뽁뽁이', '비닐봉투', '밀봉', '보냉팩', '배송', '발송', '택배', '배달', '검사', '퀄리티', '퀄러티','환경',\n",
        "                       '검증', '신뢰', '신선',  '유통기한', '유효기한', '싱싱', '상한', '부패', '냄새'],\n",
        "                '간편':['간편', '간단', '초보', '방법', '쉬움', '어려움', '단시간', '출퇴근시간', '간편식', '전문식','편리', '손쉽', '혼밥', '꽝손', \n",
        "                      '불편', '똥손', '금손', '편의'],\n",
        "                '외관':['외관', '육안', '디자인', '실물', '겉보기', '보고', '보임', '볼때', '볼 때', '보고', '맛보다', '봣', '눈으로', '사진찍기 좋은',\n",
        "                      '먹음직한', '말쌀나는', '푸디용', '색감', '색깔', '색이', '모양새'],\n",
        "                '웰빙':['웰빙', 'msg', '인스턴트', '건강식', '특수식품', '즉석식품', '건강', '다이어트', '다이어터', '헬스', '무첨가', '식단', '단백질',\n",
        "                      '영양', '효과', '예방', '체중', '영양소', '탄수화물', '칼로리', '성분', '소화효소', '체중감량', '면역', '근육', '야맹증',\n",
        "                      '질환', '보조', '미용', '운동', '에너지', '호르몬', '칼슘', '성인병', '갱년기', '성장', '비료', '노화', \n",
        "                      '치매', '효능', '염분', '두뇌', '불균형', '뇌', '알츠하이머', '코로나', '영양분', '소화']}"
      ],
      "execution_count": 106,
      "outputs": []
    },
    {
      "cell_type": "code",
      "metadata": {
        "id": "b-P1UYDENyV3",
        "colab_type": "code",
        "colab": {
          "base_uri": "https://localhost:8080/",
          "height": 402
        },
        "outputId": "1fb067bc-80fd-458a-ad61-15193074afa9"
      },
      "source": [
        "for keyword in keyword_list:\n",
        "  test_data[keyword] = -1\n",
        "test_data"
      ],
      "execution_count": 18,
      "outputs": [
        {
          "output_type": "execute_result",
          "data": {
            "text/html": [
              "<div>\n",
              "<style scoped>\n",
              "    .dataframe tbody tr th:only-of-type {\n",
              "        vertical-align: middle;\n",
              "    }\n",
              "\n",
              "    .dataframe tbody tr th {\n",
              "        vertical-align: top;\n",
              "    }\n",
              "\n",
              "    .dataframe thead th {\n",
              "        text-align: right;\n",
              "    }\n",
              "</style>\n",
              "<table border=\"1\" class=\"dataframe\">\n",
              "  <thead>\n",
              "    <tr style=\"text-align: right;\">\n",
              "      <th></th>\n",
              "      <th>review</th>\n",
              "      <th>맛</th>\n",
              "      <th>가격</th>\n",
              "      <th>양</th>\n",
              "      <th>품질</th>\n",
              "      <th>간편</th>\n",
              "      <th>외관</th>\n",
              "      <th>웰빙</th>\n",
              "    </tr>\n",
              "  </thead>\n",
              "  <tbody>\n",
              "    <tr>\n",
              "      <th>0</th>\n",
              "      <td>포장지 열자마자 유부초밥 냄새가 나서 자세히 봤더니 사진 처럼 국물이 고여있었어요 ...</td>\n",
              "      <td>-1</td>\n",
              "      <td>-1</td>\n",
              "      <td>-1</td>\n",
              "      <td>-1</td>\n",
              "      <td>-1</td>\n",
              "      <td>-1</td>\n",
              "      <td>-1</td>\n",
              "    </tr>\n",
              "    <tr>\n",
              "      <th>1</th>\n",
              "      <td>세 번째 시켜 먹었는데 깜짝 놀랐네요. 두부 넣어서 먹는 게 맛있어서 이번에도 시켰...</td>\n",
              "      <td>-1</td>\n",
              "      <td>-1</td>\n",
              "      <td>-1</td>\n",
              "      <td>-1</td>\n",
              "      <td>-1</td>\n",
              "      <td>-1</td>\n",
              "      <td>-1</td>\n",
              "    </tr>\n",
              "    <tr>\n",
              "      <th>2</th>\n",
              "      <td>안에 들어있는 유부팩 하나가 터져서 국물이 냉장고 안에 줄줄 흘렀어요.. 안에서 터...</td>\n",
              "      <td>-1</td>\n",
              "      <td>-1</td>\n",
              "      <td>-1</td>\n",
              "      <td>-1</td>\n",
              "      <td>-1</td>\n",
              "      <td>-1</td>\n",
              "      <td>-1</td>\n",
              "    </tr>\n",
              "    <tr>\n",
              "      <th>3</th>\n",
              "      <td>삼각은 싸서 입구를 막는데 사각은 토핑용인듯요 삼각보다 불편해요... ㅠㅠ</td>\n",
              "      <td>-1</td>\n",
              "      <td>-1</td>\n",
              "      <td>-1</td>\n",
              "      <td>-1</td>\n",
              "      <td>-1</td>\n",
              "      <td>-1</td>\n",
              "      <td>-1</td>\n",
              "    </tr>\n",
              "    <tr>\n",
              "      <th>4</th>\n",
              "      <td>맛이 좋아요 맛 만족도 예상보다 맛있어요</td>\n",
              "      <td>-1</td>\n",
              "      <td>-1</td>\n",
              "      <td>-1</td>\n",
              "      <td>-1</td>\n",
              "      <td>-1</td>\n",
              "      <td>-1</td>\n",
              "      <td>-1</td>\n",
              "    </tr>\n",
              "    <tr>\n",
              "      <th>...</th>\n",
              "      <td>...</td>\n",
              "      <td>...</td>\n",
              "      <td>...</td>\n",
              "      <td>...</td>\n",
              "      <td>...</td>\n",
              "      <td>...</td>\n",
              "      <td>...</td>\n",
              "      <td>...</td>\n",
              "    </tr>\n",
              "    <tr>\n",
              "      <th>87406</th>\n",
              "      <td>편리성 사용하기 편리해요 신선도 예상만큼 신선해요 맛 만족도 예상보다 맛있어요</td>\n",
              "      <td>-1</td>\n",
              "      <td>-1</td>\n",
              "      <td>-1</td>\n",
              "      <td>-1</td>\n",
              "      <td>-1</td>\n",
              "      <td>-1</td>\n",
              "      <td>-1</td>\n",
              "    </tr>\n",
              "    <tr>\n",
              "      <th>87407</th>\n",
              "      <td>편리성 그저 그래요 신선도 예상보다 신선해요 맛 만족도 괜찮아요</td>\n",
              "      <td>-1</td>\n",
              "      <td>-1</td>\n",
              "      <td>-1</td>\n",
              "      <td>-1</td>\n",
              "      <td>-1</td>\n",
              "      <td>-1</td>\n",
              "      <td>-1</td>\n",
              "    </tr>\n",
              "    <tr>\n",
              "      <th>87408</th>\n",
              "      <td>편리성 그저 그래요 신선도 예상만큼 신선해요 맛 만족도 괜찮아요</td>\n",
              "      <td>-1</td>\n",
              "      <td>-1</td>\n",
              "      <td>-1</td>\n",
              "      <td>-1</td>\n",
              "      <td>-1</td>\n",
              "      <td>-1</td>\n",
              "      <td>-1</td>\n",
              "    </tr>\n",
              "    <tr>\n",
              "      <th>87409</th>\n",
              "      <td>신선도 예상보다 신선해요 맛 만족도 예상보다 맛있어요</td>\n",
              "      <td>-1</td>\n",
              "      <td>-1</td>\n",
              "      <td>-1</td>\n",
              "      <td>-1</td>\n",
              "      <td>-1</td>\n",
              "      <td>-1</td>\n",
              "      <td>-1</td>\n",
              "    </tr>\n",
              "    <tr>\n",
              "      <th>87410</th>\n",
              "      <td>편리성 사용하기 편리해요 신선도 예상만큼 신선해요 맛 만족도 괜찮아요</td>\n",
              "      <td>-1</td>\n",
              "      <td>-1</td>\n",
              "      <td>-1</td>\n",
              "      <td>-1</td>\n",
              "      <td>-1</td>\n",
              "      <td>-1</td>\n",
              "      <td>-1</td>\n",
              "    </tr>\n",
              "  </tbody>\n",
              "</table>\n",
              "<p>87411 rows × 8 columns</p>\n",
              "</div>"
            ],
            "text/plain": [
              "                                                  review  맛  가격  ...  간편  외관  웰빙\n",
              "0      포장지 열자마자 유부초밥 냄새가 나서 자세히 봤더니 사진 처럼 국물이 고여있었어요 ... -1  -1  ...  -1  -1  -1\n",
              "1      세 번째 시켜 먹었는데 깜짝 놀랐네요. 두부 넣어서 먹는 게 맛있어서 이번에도 시켰... -1  -1  ...  -1  -1  -1\n",
              "2      안에 들어있는 유부팩 하나가 터져서 국물이 냉장고 안에 줄줄 흘렀어요.. 안에서 터... -1  -1  ...  -1  -1  -1\n",
              "3              삼각은 싸서 입구를 막는데 사각은 토핑용인듯요 삼각보다 불편해요... ㅠㅠ -1  -1  ...  -1  -1  -1\n",
              "4                                 맛이 좋아요 맛 만족도 예상보다 맛있어요 -1  -1  ...  -1  -1  -1\n",
              "...                                                  ... ..  ..  ...  ..  ..  ..\n",
              "87406        편리성 사용하기 편리해요 신선도 예상만큼 신선해요 맛 만족도 예상보다 맛있어요 -1  -1  ...  -1  -1  -1\n",
              "87407                편리성 그저 그래요 신선도 예상보다 신선해요 맛 만족도 괜찮아요 -1  -1  ...  -1  -1  -1\n",
              "87408                편리성 그저 그래요 신선도 예상만큼 신선해요 맛 만족도 괜찮아요 -1  -1  ...  -1  -1  -1\n",
              "87409                      신선도 예상보다 신선해요 맛 만족도 예상보다 맛있어요 -1  -1  ...  -1  -1  -1\n",
              "87410             편리성 사용하기 편리해요 신선도 예상만큼 신선해요 맛 만족도 괜찮아요 -1  -1  ...  -1  -1  -1\n",
              "\n",
              "[87411 rows x 8 columns]"
            ]
          },
          "metadata": {
            "tags": []
          },
          "execution_count": 18
        }
      ]
    },
    {
      "cell_type": "code",
      "metadata": {
        "id": "iQ94NtVHdiHu",
        "colab_type": "code",
        "colab": {}
      },
      "source": [
        "# tokenizing\n",
        "okt = Okt()\n",
        "def tokenize(doc):\n",
        "    # 한글 자음, 모음 제거\n",
        "    doc = re.sub(pattern='([ㄱ-ㅎㅏ-ㅣ]+)', repl='', string=doc)\n",
        "    # 특수기호 제거\n",
        "    doc = re.sub(pattern='[^\\w\\s]', repl='', string=doc)\n",
        "    # norm은 정규화, stem은 근어로 표시하기를 나타냄\n",
        "    doc = okt.pos(doc, norm=True, stem=True)\n",
        "    # 명사, 형용사, 부사, 동사 채택\n",
        "    token = []\n",
        "    for i in doc:\n",
        "        if i[1] == 'Noun' or i[1] == 'Verb' or i[1] == 'Adverb' or i[1] == 'Adjective':\n",
        "          token.append(i)\n",
        "\n",
        "    return ['/'.join(t) for t in token]"
      ],
      "execution_count": 86,
      "outputs": []
    },
    {
      "cell_type": "code",
      "metadata": {
        "id": "DB-nkb0xd7i0",
        "colab_type": "code",
        "colab": {}
      },
      "source": [
        "def vectorize(sentence, encoder):\n",
        "  l = []\n",
        "  token = tokenize(sentence)\n",
        "  l.append(token)\n",
        "  result = encoder.texts_to_sequences(l)\n",
        "  return pad_sequences(result, 100)"
      ],
      "execution_count": 96,
      "outputs": []
    },
    {
      "cell_type": "code",
      "metadata": {
        "id": "-RnsXegjeIX_",
        "colab_type": "code",
        "colab": {}
      },
      "source": [
        "# 인코더 기존 학습된 모델 사용\n",
        "import pickle\n",
        "with open('drive/My Drive/datasets/encoder_v2.pickle', 'rb') as handle:\n",
        "    encoder = pickle.load(handle)"
      ],
      "execution_count": 93,
      "outputs": []
    },
    {
      "cell_type": "code",
      "metadata": {
        "id": "QoFmVZ0lO_9b",
        "colab_type": "code",
        "colab": {}
      },
      "source": [
        "def inject_keyword(text, window):\n",
        "  # 결과값\n",
        "  result = {'맛':'', '가격': '', '양':'', '품질':'', '간편':'', '외관':'', '웰빙':''}\n",
        "  sentences = text.split('.') # 문장 분리\n",
        "\n",
        "  # 맛 ~ 웰빙까지\n",
        "  for key in keyword_list.keys():\n",
        "    keys = keyword_list[key] # 키워드 + 연관 키워드 리스트\n",
        "    injected = '' # 추출할 문장\n",
        "\n",
        "    for k in keys: \n",
        "      for sentence in sentences:\n",
        "        words = sentence.split(' ') # 각 문장 띄어쓰기 분리\n",
        "        for word in words:\n",
        "          if k in word:\n",
        "            index = words.index(word)\n",
        "            # 키워드에 해당하는 단어의 인덱스를 기준으로 앞 뒤 몇 글자씩 잘라내서 추출\n",
        "            # window 파라미터로 몇 글자를 잘라낼 것인지 설정\n",
        "            # 문맥 상 키워드의 이전 단어들 보다 이후에 등장하는 단어들을 더 많이 추출\n",
        "            for i in range(window-2):\n",
        "              if index - (window-2 - i) >= 0:\n",
        "                injected += words[index - (window-2 - i)]\n",
        "                injected += ' '\n",
        "            for i in range(window+2):\n",
        "              if index + i < len(words):\n",
        "                injected += words[index + i]\n",
        "                injected += ' '    \n",
        "            break\n",
        "                 \n",
        "      result[key] = injected\n",
        "      \n",
        "  return result"
      ],
      "execution_count": 107,
      "outputs": []
    },
    {
      "cell_type": "code",
      "metadata": {
        "id": "WFVyaPfbTFYs",
        "colab_type": "code",
        "colab": {
          "base_uri": "https://localhost:8080/",
          "height": 160
        },
        "outputId": "11161a7a-1ba1-4e4f-eecb-92aa9b043e32"
      },
      "source": [
        "inject_keyword(test_data['review'][0], 7)"
      ],
      "execution_count": 121,
      "outputs": [
        {
          "output_type": "execute_result",
          "data": {
            "text/plain": [
              "{'가격': '',\n",
              " '간편': '',\n",
              " '맛': ' 별로네요 그냥 다 버려서 맛은 모르겠어요 맛 만족도 괜찮아요 포장지 열자마자 유부초밥 냄새가 나서 자세히 봤더니 사진 처럼 국물이 고여있었어요 상품 ',\n",
              " '양': '',\n",
              " '외관': '',\n",
              " '웰빙': '',\n",
              " '품질': '사진 처럼 국물이 고여있었어요 상품 포장상태가 안좋았던 건지 아니면 배송하시는 분이 던져서 터진 건지는 상품 포장상태가 안좋았던 건지 아니면 배송하시는 분이 던져서 터진 건지는 모르겠지만  별로네요 그냥 포장지 열자마자 유부초밥 냄새가 나서 자세히 봤더니 사진 처럼 국물이 고여있었어요 상품 '}"
            ]
          },
          "metadata": {
            "tags": []
          },
          "execution_count": 121
        }
      ]
    },
    {
      "cell_type": "code",
      "metadata": {
        "id": "vYLietapRnlm",
        "colab_type": "code",
        "colab": {
          "base_uri": "https://localhost:8080/",
          "height": 105
        },
        "outputId": "81360832-593d-473e-b363-5404a70f469c"
      },
      "source": [
        "# 테스트용 3000개 데이터 사용\n",
        "samples = test_data[:3000]\n",
        "# 사전 학습된 LSTM 모델 사용\n",
        "model = load_model('drive/My Drive/datasets/LSTM_binary.h5')\n",
        "for sample in samples['review']:\n",
        "  inject_result = inject_keyword(sample, 3)\n",
        "  for key in keyword_list.keys():\n",
        "    inject_sentence = inject_result[key]\n",
        "    # 해당 키워드가 없으면 점수는 -1\n",
        "    if inject_sentence == '':\n",
        "      samples.loc[sample, key] = -1\n",
        "    else:\n",
        "      samples.loc[sample, key] = model.predict(vectorize(inject_sentence, encoder))[0][0] * 100"
      ],
      "execution_count": 119,
      "outputs": [
        {
          "output_type": "stream",
          "text": [
            "/usr/local/lib/python3.6/dist-packages/ipykernel_launcher.py:13: SettingWithCopyWarning: \n",
            "A value is trying to be set on a copy of a slice from a DataFrame\n",
            "\n",
            "See the caveats in the documentation: https://pandas.pydata.org/pandas-docs/stable/user_guide/indexing.html#returning-a-view-versus-a-copy\n",
            "  del sys.path[0]\n"
          ],
          "name": "stderr"
        }
      ]
    },
    {
      "cell_type": "code",
      "metadata": {
        "id": "wJu9UyyAiisq",
        "colab_type": "code",
        "colab": {}
      },
      "source": [
        "samples[samples['맛'] != -1]"
      ],
      "execution_count": null,
      "outputs": []
    },
    {
      "cell_type": "code",
      "metadata": {
        "id": "OiTs3OHTkGlw",
        "colab_type": "code",
        "colab": {}
      },
      "source": [
        "samples[samples['가격']!= -1]"
      ],
      "execution_count": null,
      "outputs": []
    },
    {
      "cell_type": "markdown",
      "metadata": {
        "id": "YXgTR-BSkj6s",
        "colab_type": "text"
      },
      "source": [
        "비고 \n",
        " * 아직까지 정확도에 한계가 있다. 키워드 추출 로직도 보완 필요.\n",
        " * 키워드 연관 단어 사전 역시 보완 필요\n",
        " * POC 나 프로토타입 때 보여주기 용으로는 나쁘지 않은듯.\n",
        " * 계산 시간 비용이 많이 든다. 3000개 학습 시 10분 정도, 9만 개 학습 시 5시간"
      ]
    },
    {
      "cell_type": "code",
      "metadata": {
        "id": "vkif0rCHzKp6",
        "colab_type": "code",
        "colab": {}
      },
      "source": [
        ""
      ],
      "execution_count": null,
      "outputs": []
    }
  ]
}