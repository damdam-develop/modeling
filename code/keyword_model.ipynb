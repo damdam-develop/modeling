{
  "nbformat": 4,
  "nbformat_minor": 0,
  "metadata": {
    "colab": {
      "name": "keyword_model.ipynb",
      "provenance": []
    },
    "kernelspec": {
      "name": "python3",
      "display_name": "Python 3"
    },
    "accelerator": "GPU"
  },
  "cells": [
    {
      "cell_type": "code",
      "metadata": {
        "id": "o3FawAMcCd8a",
        "colab_type": "code",
        "colab": {
          "base_uri": "https://localhost:8080/",
          "height": 598
        },
        "outputId": "7cdd8394-c20d-48b9-ac82-102685427ce9"
      },
      "source": [
        "!pip install konlpy\n",
        "import re\n",
        "import pandas as pd\n",
        "import numpy as np\n",
        "from konlpy.tag import Okt\n",
        "from tensorflow.keras.models import load_model\n",
        "from tensorflow.keras.preprocessing.text import Tokenizer\n",
        "from tensorflow.keras.preprocessing.sequence import pad_sequences"
      ],
      "execution_count": 1,
      "outputs": [
        {
          "output_type": "stream",
          "text": [
            "Collecting konlpy\n",
            "\u001b[?25l  Downloading https://files.pythonhosted.org/packages/85/0e/f385566fec837c0b83f216b2da65db9997b35dd675e107752005b7d392b1/konlpy-0.5.2-py2.py3-none-any.whl (19.4MB)\n",
            "\u001b[K     |████████████████████████████████| 19.4MB 1.2MB/s \n",
            "\u001b[?25hRequirement already satisfied: lxml>=4.1.0 in /usr/local/lib/python3.6/dist-packages (from konlpy) (4.2.6)\n",
            "Requirement already satisfied: numpy>=1.6 in /usr/local/lib/python3.6/dist-packages (from konlpy) (1.18.5)\n",
            "Collecting beautifulsoup4==4.6.0\n",
            "\u001b[?25l  Downloading https://files.pythonhosted.org/packages/9e/d4/10f46e5cfac773e22707237bfcd51bbffeaf0a576b0a847ec7ab15bd7ace/beautifulsoup4-4.6.0-py3-none-any.whl (86kB)\n",
            "\u001b[K     |████████████████████████████████| 92kB 11.8MB/s \n",
            "\u001b[?25hCollecting JPype1>=0.7.0\n",
            "\u001b[?25l  Downloading https://files.pythonhosted.org/packages/8b/f7/a368401e630f0e390dd0e62c39fb928e5b23741b53c2360ee7d376660927/JPype1-1.0.2-cp36-cp36m-manylinux2010_x86_64.whl (3.8MB)\n",
            "\u001b[K     |████████████████████████████████| 3.8MB 57.0MB/s \n",
            "\u001b[?25hCollecting colorama\n",
            "  Downloading https://files.pythonhosted.org/packages/c9/dc/45cdef1b4d119eb96316b3117e6d5708a08029992b2fee2c143c7a0a5cc5/colorama-0.4.3-py2.py3-none-any.whl\n",
            "Collecting tweepy>=3.7.0\n",
            "  Downloading https://files.pythonhosted.org/packages/bb/7c/99d51f80f3b77b107ebae2634108717362c059a41384a1810d13e2429a81/tweepy-3.9.0-py2.py3-none-any.whl\n",
            "Requirement already satisfied: typing-extensions; python_version < \"3.8\" in /usr/local/lib/python3.6/dist-packages (from JPype1>=0.7.0->konlpy) (3.7.4.3)\n",
            "Requirement already satisfied: requests-oauthlib>=0.7.0 in /usr/local/lib/python3.6/dist-packages (from tweepy>=3.7.0->konlpy) (1.3.0)\n",
            "Requirement already satisfied: six>=1.10.0 in /usr/local/lib/python3.6/dist-packages (from tweepy>=3.7.0->konlpy) (1.15.0)\n",
            "Requirement already satisfied: requests[socks]>=2.11.1 in /usr/local/lib/python3.6/dist-packages (from tweepy>=3.7.0->konlpy) (2.23.0)\n",
            "Requirement already satisfied: oauthlib>=3.0.0 in /usr/local/lib/python3.6/dist-packages (from requests-oauthlib>=0.7.0->tweepy>=3.7.0->konlpy) (3.1.0)\n",
            "Requirement already satisfied: idna<3,>=2.5 in /usr/local/lib/python3.6/dist-packages (from requests[socks]>=2.11.1->tweepy>=3.7.0->konlpy) (2.10)\n",
            "Requirement already satisfied: urllib3!=1.25.0,!=1.25.1,<1.26,>=1.21.1 in /usr/local/lib/python3.6/dist-packages (from requests[socks]>=2.11.1->tweepy>=3.7.0->konlpy) (1.24.3)\n",
            "Requirement already satisfied: certifi>=2017.4.17 in /usr/local/lib/python3.6/dist-packages (from requests[socks]>=2.11.1->tweepy>=3.7.0->konlpy) (2020.6.20)\n",
            "Requirement already satisfied: chardet<4,>=3.0.2 in /usr/local/lib/python3.6/dist-packages (from requests[socks]>=2.11.1->tweepy>=3.7.0->konlpy) (3.0.4)\n",
            "Requirement already satisfied: PySocks!=1.5.7,>=1.5.6; extra == \"socks\" in /usr/local/lib/python3.6/dist-packages (from requests[socks]>=2.11.1->tweepy>=3.7.0->konlpy) (1.7.1)\n",
            "Installing collected packages: beautifulsoup4, JPype1, colorama, tweepy, konlpy\n",
            "  Found existing installation: beautifulsoup4 4.6.3\n",
            "    Uninstalling beautifulsoup4-4.6.3:\n",
            "      Successfully uninstalled beautifulsoup4-4.6.3\n",
            "  Found existing installation: tweepy 3.6.0\n",
            "    Uninstalling tweepy-3.6.0:\n",
            "      Successfully uninstalled tweepy-3.6.0\n",
            "Successfully installed JPype1-1.0.2 beautifulsoup4-4.6.0 colorama-0.4.3 konlpy-0.5.2 tweepy-3.9.0\n"
          ],
          "name": "stdout"
        }
      ]
    },
    {
      "cell_type": "code",
      "metadata": {
        "id": "fuUv69bTCt2b",
        "colab_type": "code",
        "colab": {}
      },
      "source": [
        "reviews = pd.read_csv('drive/My Drive/datasets/review_coupang_1.csv')\n",
        "reviews = reviews.loc[:,['content']]"
      ],
      "execution_count": 2,
      "outputs": []
    },
    {
      "cell_type": "code",
      "metadata": {
        "id": "D8rK0tVcDKJ8",
        "colab_type": "code",
        "colab": {
          "base_uri": "https://localhost:8080/",
          "height": 402
        },
        "outputId": "0fb6fbb0-c650-480e-a865-10f53dad6925"
      },
      "source": [
        "reviews.sample(frac=1).reset_index(drop=True)"
      ],
      "execution_count": 3,
      "outputs": [
        {
          "output_type": "execute_result",
          "data": {
            "text/html": [
              "<div>\n",
              "<style scoped>\n",
              "    .dataframe tbody tr th:only-of-type {\n",
              "        vertical-align: middle;\n",
              "    }\n",
              "\n",
              "    .dataframe tbody tr th {\n",
              "        vertical-align: top;\n",
              "    }\n",
              "\n",
              "    .dataframe thead th {\n",
              "        text-align: right;\n",
              "    }\n",
              "</style>\n",
              "<table border=\"1\" class=\"dataframe\">\n",
              "  <thead>\n",
              "    <tr style=\"text-align: right;\">\n",
              "      <th></th>\n",
              "      <th>content</th>\n",
              "    </tr>\n",
              "  </thead>\n",
              "  <tbody>\n",
              "    <tr>\n",
              "      <th>0</th>\n",
              "      <td>양이 적다 맛은 괜찮은데.. 양이 너무 작아요. 2개 들어 있는데 다 먹어도 부족할...</td>\n",
              "    </tr>\n",
              "    <tr>\n",
              "      <th>1</th>\n",
              "      <td>신선하고 맛있어요 샐러리 통채로 사려하니 손질하기 귀찮기도 하고 양도 많을 것 같아...</td>\n",
              "    </tr>\n",
              "    <tr>\n",
              "      <th>2</th>\n",
              "      <td>간편식으로ㅠ부담없이 좋아요\\n맛있어요..신선하고~~ 맛 만족도 예상보다 맛있어요</td>\n",
              "    </tr>\n",
              "    <tr>\n",
              "      <th>3</th>\n",
              "      <td>맛있어요 늘 맛이게 잘 먹고 있는 떡볶이입니다! 냉동실에 쟁여두고 뭐 먹을까 고민될...</td>\n",
              "    </tr>\n",
              "    <tr>\n",
              "      <th>4</th>\n",
              "      <td>고춧가루도 국산이고 새콤하고 와사비의 알싸한 맛까지 아주 좋아요.\\n단짠 유행이지만...</td>\n",
              "    </tr>\n",
              "    <tr>\n",
              "      <th>...</th>\n",
              "      <td>...</td>\n",
              "    </tr>\n",
              "    <tr>\n",
              "      <th>146887</th>\n",
              "      <td>애기들이좋아할것같음 작아서 한입에먹기 편리하고 애기들이 좋아할것같아요</td>\n",
              "    </tr>\n",
              "    <tr>\n",
              "      <th>146888</th>\n",
              "      <td>너무 기대를 했는지 조금은 밍밍했어요 물보다 우유를 넣고 끓이면 좀 낫고 매운맛은 ...</td>\n",
              "    </tr>\n",
              "    <tr>\n",
              "      <th>146889</th>\n",
              "      <td>자취생 아이 어르신계신 집에서는 쟁여놓고 먹기 좋아요 간편하게 과일먹고싶을때 딱좋아</td>\n",
              "    </tr>\n",
              "    <tr>\n",
              "      <th>146890</th>\n",
              "      <td>오늘처럼 펑펑 눈오는 날..바로 시식해야겠어요 막내가 좋아하는 라면...저렴하게 잘...</td>\n",
              "    </tr>\n",
              "    <tr>\n",
              "      <th>146891</th>\n",
              "      <td>먼저 연어장을 먹어 본 아들이 맛있다해서\\n아침식사로 주문합니다</td>\n",
              "    </tr>\n",
              "  </tbody>\n",
              "</table>\n",
              "<p>146892 rows × 1 columns</p>\n",
              "</div>"
            ],
            "text/plain": [
              "                                                  content\n",
              "0       양이 적다 맛은 괜찮은데.. 양이 너무 작아요. 2개 들어 있는데 다 먹어도 부족할...\n",
              "1       신선하고 맛있어요 샐러리 통채로 사려하니 손질하기 귀찮기도 하고 양도 많을 것 같아...\n",
              "2            간편식으로ㅠ부담없이 좋아요\\n맛있어요..신선하고~~ 맛 만족도 예상보다 맛있어요\n",
              "3       맛있어요 늘 맛이게 잘 먹고 있는 떡볶이입니다! 냉동실에 쟁여두고 뭐 먹을까 고민될...\n",
              "4       고춧가루도 국산이고 새콤하고 와사비의 알싸한 맛까지 아주 좋아요.\\n단짠 유행이지만...\n",
              "...                                                   ...\n",
              "146887             애기들이좋아할것같음 작아서 한입에먹기 편리하고 애기들이 좋아할것같아요\n",
              "146888  너무 기대를 했는지 조금은 밍밍했어요 물보다 우유를 넣고 끓이면 좀 낫고 매운맛은 ...\n",
              "146889     자취생 아이 어르신계신 집에서는 쟁여놓고 먹기 좋아요 간편하게 과일먹고싶을때 딱좋아\n",
              "146890  오늘처럼 펑펑 눈오는 날..바로 시식해야겠어요 막내가 좋아하는 라면...저렴하게 잘...\n",
              "146891               먼저 연어장을 먹어 본 아들이 맛있다해서\\n아침식사로 주문합니다 \n",
              "\n",
              "[146892 rows x 1 columns]"
            ]
          },
          "metadata": {
            "tags": []
          },
          "execution_count": 3
        }
      ]
    },
    {
      "cell_type": "code",
      "metadata": {
        "id": "vUyIVvaLD5rD",
        "colab_type": "code",
        "colab": {
          "base_uri": "https://localhost:8080/",
          "height": 158
        },
        "outputId": "2030d58e-c00f-4905-e78f-28685c9c4aa2"
      },
      "source": [
        "!pip install chatspace"
      ],
      "execution_count": 4,
      "outputs": [
        {
          "output_type": "stream",
          "text": [
            "Collecting chatspace\n",
            "\u001b[?25l  Downloading https://files.pythonhosted.org/packages/55/56/2e80cd5f6a639e206f5ed86b13d1db47f688d7f390dd30b49af4b562d6c9/chatspace-1.0.1-py3-none-any.whl (10.7MB)\n",
            "\u001b[K     |████████████████████████████████| 10.7MB 5.9MB/s \n",
            "\u001b[?25hRequirement already satisfied: torch in /usr/local/lib/python3.6/dist-packages (from chatspace) (1.6.0+cu101)\n",
            "Requirement already satisfied: numpy in /usr/local/lib/python3.6/dist-packages (from torch->chatspace) (1.18.5)\n",
            "Requirement already satisfied: future in /usr/local/lib/python3.6/dist-packages (from torch->chatspace) (0.16.0)\n",
            "Installing collected packages: chatspace\n",
            "Successfully installed chatspace-1.0.1\n"
          ],
          "name": "stdout"
        }
      ]
    },
    {
      "cell_type": "code",
      "metadata": {
        "id": "AdG49SWaEnqy",
        "colab_type": "code",
        "colab": {
          "base_uri": "https://localhost:8080/",
          "height": 34
        },
        "outputId": "5fb7ba7f-4d35-4f28-c20e-b9858f917c68"
      },
      "source": [
        "# 띄어쓰기 보정 오픈소스\n",
        "from chatspace import ChatSpace\n",
        "\n",
        "spacer = ChatSpace()"
      ],
      "execution_count": 7,
      "outputs": [
        {
          "output_type": "stream",
          "text": [
            "Loading JIT Compiled ChatSpace Model\n"
          ],
          "name": "stdout"
        }
      ]
    },
    {
      "cell_type": "code",
      "metadata": {
        "id": "PDRd88C0wbvq",
        "colab_type": "code",
        "colab": {}
      },
      "source": [
        "reviews = reviews.dropna()"
      ],
      "execution_count": 21,
      "outputs": []
    },
    {
      "cell_type": "code",
      "metadata": {
        "id": "xigO_h-y28hW",
        "colab_type": "code",
        "colab": {}
      },
      "source": [
        "reviews"
      ],
      "execution_count": null,
      "outputs": []
    },
    {
      "cell_type": "code",
      "metadata": {
        "id": "jAMtg__sE12g",
        "colab_type": "code",
        "colab": {}
      },
      "source": [
        "test_data = []\n",
        "for text in reviews['content']:\n",
        "  test_data.append(spacer.space(text).replace('\\n',''))"
      ],
      "execution_count": null,
      "outputs": []
    },
    {
      "cell_type": "code",
      "metadata": {
        "id": "uRcLWJEDFd68",
        "colab_type": "code",
        "colab": {}
      },
      "source": [
        "test_data = pd.DataFrame(test_data, columns=['review'])\n",
        "test_data"
      ],
      "execution_count": null,
      "outputs": []
    },
    {
      "cell_type": "code",
      "metadata": {
        "id": "WzlQHHOXLnnM",
        "colab_type": "code",
        "colab": {}
      },
      "source": [
        "keyword_list = {'맛': ['맛','불맛', '감칠맛', '쓴맛', '향', '단맛', '신맛', '냄새', '끝맛', '짠맛', '꼬순내', '햄맛',\n",
        "                      '햄향', '닭맛', '불향', '풋내', '조미료', '끝향', '쏘스맛', '닭내', '파맛', '존맛', '핵존맛', '텁텁한맛'],\n",
        "                '가격':['가격', '금액', '값', '단가', '할인', '가성', '득템', '창렬', '혜자', '정가', '사기'],\n",
        "                '양':['용량', '양은', '양도', '양으로', '개수', '인분', '분량', '물량', '사이즈', '수량','남았', '남아'],\n",
        "                '품질':['품질', '상태', '아이스', '얼음', '비닐', '아이스팩', '뾱뾱', '뽁뽁','드라이아이스', '아이스박스', '보냉', '상자',\n",
        "                      '종이팩', '종이', '상온', '실온','상한',\n",
        "                        '소재', '박스', '비닐봉투', '밀봉', '보냉팩', '배송', '발송', '택배', '배달', '검사', '퀄리티', '퀄러티','환경',\n",
        "                       '검증', '신뢰', '신선',  '유통', '유효', '기한', '싱싱', '상한', '부패', '냄새'],\n",
        "                '간편':['간편', '간단', '초보', '방법', '쉬움', '어려움', '단시간', '출퇴근시간', '간편식', '전문식','편리', '손쉽', '혼밥', '꽝손', \n",
        "                      '불편', '똥손', '금손', '편의', '손쉬'],\n",
        "                '외관':['외관', '육안', '디자인', '실물', '겉보기', '보고', '보임', '볼때', '보고', '맛보다',\n",
        "                       '푸디', '색감', '색깔', '모양새'],\n",
        "                '웰빙':['웰빙', 'msg', '인스턴트', '나트륨', '특수', '식품', '즉석식품', '건강', '다이어트', '다이어터', '헬스', '첨가', '식단', '단백질',\n",
        "                      '영양', '효과', '예방', '체중', '영양소', '탄수화물', '칼로리', '성분', '소화효소', '체중감량', '면역', '근육', '야맹증',\n",
        "                      '질환', '보조', '미용', '운동', '에너지', '호르몬', '칼슘', '성인병', '갱년기', '성장', '비료', '노화', \n",
        "                      '치매', '효능', '염분', '두뇌', '불균형', '뇌', '알츠하이머', '코로나', '영양분', '소화','비만','뚱뚱', '살빼', '녹색','동물']}"
      ],
      "execution_count": null,
      "outputs": []
    },
    {
      "cell_type": "code",
      "metadata": {
        "id": "b-P1UYDENyV3",
        "colab_type": "code",
        "colab": {}
      },
      "source": [
        "for keyword in keyword_list:\n",
        "  test_data[keyword] = -1\n",
        "test_data"
      ],
      "execution_count": null,
      "outputs": []
    },
    {
      "cell_type": "code",
      "metadata": {
        "id": "iQ94NtVHdiHu",
        "colab_type": "code",
        "colab": {}
      },
      "source": [
        "# tokenizing\n",
        "okt = Okt()\n",
        "def tokenize(doc):\n",
        "    # 한글 자음, 모음 제거\n",
        "    doc = re.sub(pattern='([ㄱ-ㅎㅏ-ㅣ]+)', repl='', string=doc)\n",
        "    # 특수기호 제거\n",
        "    doc = re.sub(pattern='[^\\w\\s]', repl='', string=doc)\n",
        "    # norm은 정규화, stem은 근어로 표시하기를 나타냄\n",
        "    doc = okt.pos(doc, norm=True, stem=True)\n",
        "    # 명사, 형용사, 부사, 동사 채택\n",
        "    token = []\n",
        "    for i in doc:\n",
        "        if i[1] == 'Noun' or i[1] == 'Verb' or i[1] == 'Adverb' or i[1] == 'Adjective':\n",
        "          token.append(i)\n",
        "\n",
        "    return ['/'.join(t) for t in token]"
      ],
      "execution_count": 10,
      "outputs": []
    },
    {
      "cell_type": "code",
      "metadata": {
        "id": "DB-nkb0xd7i0",
        "colab_type": "code",
        "colab": {}
      },
      "source": [
        "def vectorize(sentence, encoder):\n",
        "  l = []\n",
        "  token = tokenize(sentence)\n",
        "  l.append(token)\n",
        "  result = encoder.texts_to_sequences(l)\n",
        "  return pad_sequences(result, 100)"
      ],
      "execution_count": 11,
      "outputs": []
    },
    {
      "cell_type": "code",
      "metadata": {
        "id": "-RnsXegjeIX_",
        "colab_type": "code",
        "colab": {}
      },
      "source": [
        "# 인코더 기존 학습된 모델 사용\n",
        "import pickle\n",
        "# with open('drive/My Drive/datasets/encoder_v2.pickle', 'rb') as handle:\n",
        "#     encoder = pickle.load(handle)\n",
        "encoder = Tokenizer(num_words=10000)\n",
        "encoder.fit_on_texts(test_data['review'])\n",
        "# saving\n",
        "with open('encoder_v3.pickle', 'wb') as handle:\n",
        "    pickle.dump(encoder, handle, protocol=pickle.HIGHEST_PROTOCOL)"
      ],
      "execution_count": 38,
      "outputs": []
    },
    {
      "cell_type": "code",
      "metadata": {
        "id": "QoFmVZ0lO_9b",
        "colab_type": "code",
        "colab": {}
      },
      "source": [
        "def inject_keyword(text, window):\n",
        "  # 결과값\n",
        "  result = {'맛':'', '가격': '', '양':'', '품질':'', '간편':'', '외관':'', '웰빙':''}\n",
        "  sentences = re.split('[,.;?!]+',text) # 문장 분리 by \",.;?\"\n",
        "\n",
        "  # 맛 ~ 웰빙까지\n",
        "  for key in keyword_list.keys():\n",
        "    keys = keyword_list[key] # 키워드 + 연관 키워드 리스트\n",
        "    injected = '' # 추출할 문장\n",
        "\n",
        "    for k in keys: \n",
        "      for sentence in sentences:\n",
        "        words = sentence.split(' ') # 각 문장 띄어쓰기 분리\n",
        "        for word in words:\n",
        "          if k in word:\n",
        "            index = words.index(word)\n",
        "            # 키워드에 해당하는 단어의 인덱스를 기준으로 앞 뒤 몇 글자씩 잘라내서 추출\n",
        "            # window 파라미터로 몇 글자를 잘라낼 것인지 설정\n",
        "            # 문맥 상 키워드의 이전 단어들 보다 이후에 등장하는 단어들을 더 많이 추출\n",
        "            for i in range(1,2):\n",
        "              if index - i >= 0:\n",
        "                injected += words.pop(index - i)\n",
        "                injected += ' '\n",
        "            # for i in range(window+2):\n",
        "            #   if index + i < len(words):\n",
        "            #     injected += words.pop(index + i)\n",
        "            #     injected += ' '\n",
        "            index = words.index(word)\n",
        "            for i in range(window):\n",
        "              if index < len(words):\n",
        "                injected += words.pop(index) + ' '\n",
        "            injected += '.'\n",
        "                 \n",
        "      result[key] = injected\n",
        "      \n",
        "  return result"
      ],
      "execution_count": 35,
      "outputs": []
    },
    {
      "cell_type": "code",
      "metadata": {
        "id": "WFVyaPfbTFYs",
        "colab_type": "code",
        "colab": {
          "base_uri": "https://localhost:8080/",
          "height": 72
        },
        "outputId": "6e03a23d-6ba7-46f9-cc05-2c3ac383bcd6"
      },
      "source": [
        "print(test_data['review'][0])\n",
        "print(inject_keyword(test_data['review'][0], 5))"
      ],
      "execution_count": 36,
      "outputs": [
        {
          "output_type": "stream",
          "text": [
            "포장지 열자마자 유부초밥 냄새가 나서 자세히 봤더니 사진 처럼 국물이 고여있었어요 상품 포장상태가 안좋았던 건지 아니면 배송하시는 분이 던져서 터진 건지는 모르겠지만  별로네요 그냥 다 버려서 맛은 모르겠어요 맛 만족도 괜찮아요\n",
            "{'맛': '맛은 모르겠어요 맛 만족도 괜찮아요 .냄새가 나서 자세히 봤더니 사진 .', '가격': '', '양': '', '품질': '포장상태가 안좋았던 건지 아니면 배송하시는 .배송하시는 분이 던져서 터진 건지는 .냄새가 나서 자세히 봤더니 사진 .', '간편': '', '외관': '', '웰빙': ''}\n"
          ],
          "name": "stdout"
        }
      ]
    },
    {
      "cell_type": "code",
      "metadata": {
        "id": "fLOaGxqRLzwP",
        "colab_type": "code",
        "colab": {
          "base_uri": "https://localhost:8080/",
          "height": 34
        },
        "outputId": "f1d640fe-af07-467b-8f21-e3c4bc12da8b"
      },
      "source": [
        "model.predict(vectorize('그냥 다 버렸어요', encoder))"
      ],
      "execution_count": 43,
      "outputs": [
        {
          "output_type": "execute_result",
          "data": {
            "text/plain": [
              "array([[0.93083215]], dtype=float32)"
            ]
          },
          "metadata": {
            "tags": []
          },
          "execution_count": 43
        }
      ]
    },
    {
      "cell_type": "code",
      "metadata": {
        "id": "vYLietapRnlm",
        "colab_type": "code",
        "colab": {}
      },
      "source": [
        "# 테스트용 3000개 데이터 사용\n",
        "samples = test_data[:3000]\n",
        "# 사전 학습된 LSTM 모델 사용\n",
        "model = load_model('drive/My Drive/datasets/LSTM_binary_v2.h5')\n",
        "for sample in samples['review']:\n",
        "  inject_result = inject_keyword(sample, 3)\n",
        "  for key in keyword_list.keys():\n",
        "    inject_sentence = inject_result[key]\n",
        "    # 해당 키워드가 없으면 점수는 -1\n",
        "    if inject_sentence == '':\n",
        "      samples.loc[sample, key] = -1\n",
        "    else:\n",
        "      samples.loc[sample, key] = model.predict(vectorize(inject_sentence, encoder))[0][0] * 100\n",
        "samples"
      ],
      "execution_count": null,
      "outputs": []
    },
    {
      "cell_type": "code",
      "metadata": {
        "id": "wJu9UyyAiisq",
        "colab_type": "code",
        "colab": {}
      },
      "source": [
        "samples[samples['맛'] != -1]"
      ],
      "execution_count": null,
      "outputs": []
    },
    {
      "cell_type": "code",
      "metadata": {
        "id": "OiTs3OHTkGlw",
        "colab_type": "code",
        "colab": {}
      },
      "source": [
        "samples[samples['가격']!= -1]"
      ],
      "execution_count": null,
      "outputs": []
    },
    {
      "cell_type": "markdown",
      "metadata": {
        "id": "YXgTR-BSkj6s",
        "colab_type": "text"
      },
      "source": [
        "비고 \n",
        " * 아직까지 정확도에 한계가 있다. 키워드 추출 로직도 보완 필요.\n",
        " * 키워드 연관 단어 사전 역시 보완 필요\n",
        " * POC 나 프로토타입 때 보여주기 용으로는 나쁘지 않은듯.\n",
        " * 계산 시간 비용이 많이 든다. 3000개 학습 시 10분 정도, 9만 개 학습 시 5시간"
      ]
    },
    {
      "cell_type": "code",
      "metadata": {
        "id": "xHbWQ-P6J1vU",
        "colab_type": "code",
        "colab": {
          "base_uri": "https://localhost:8080/",
          "height": 1000
        },
        "outputId": "49de7d33-1ec6-4181-a2bc-118e07f78eb4"
      },
      "source": [
        "# 키워드 형태소 분석\n",
        "\n",
        "for key in keyword_list.keys():\n",
        "  for word in keyword_list[key]:\n",
        "    print(okt.pos(word))"
      ],
      "execution_count": 45,
      "outputs": [
        {
          "output_type": "stream",
          "text": [
            "[('맛', 'Noun')]\n",
            "[('불맛', 'Noun')]\n",
            "[('감칠맛', 'Noun')]\n",
            "[('쓴맛', 'Noun')]\n",
            "[('향', 'Noun')]\n",
            "[('단맛', 'Noun')]\n",
            "[('신맛', 'Noun')]\n",
            "[('냄새', 'Noun')]\n",
            "[('끝맛', 'Noun')]\n",
            "[('짠맛', 'Noun')]\n",
            "[('꼬순내', 'Noun')]\n",
            "[('햄맛', 'Noun')]\n",
            "[('햄향', 'Noun')]\n",
            "[('닭맛', 'Noun')]\n",
            "[('불향', 'Noun')]\n",
            "[('풋내', 'Noun')]\n",
            "[('조미료', 'Noun')]\n",
            "[('끝향', 'Noun')]\n",
            "[('쏘스맛', 'Noun')]\n",
            "[('닭내', 'Noun')]\n",
            "[('파맛', 'Noun')]\n",
            "[('존맛', 'Noun')]\n",
            "[('핵존맛', 'Noun')]\n",
            "[('텁텁한맛', 'Noun')]\n",
            "[('가격', 'Noun')]\n",
            "[('금액', 'Noun')]\n",
            "[('값', 'Noun')]\n",
            "[('단가', 'Noun')]\n",
            "[('할인', 'Noun')]\n",
            "[('가성', 'Noun')]\n",
            "[('득템', 'Noun')]\n",
            "[('창렬', 'Noun')]\n",
            "[('혜자', 'Noun')]\n",
            "[('정가', 'Noun')]\n",
            "[('사기', 'Noun')]\n",
            "[('용량', 'Noun')]\n",
            "[('양은', 'Noun')]\n",
            "[('양도', 'Noun')]\n",
            "[('양으로', 'Noun')]\n",
            "[('개수', 'Noun')]\n",
            "[('인분', 'Noun')]\n",
            "[('분량', 'Noun')]\n",
            "[('물량', 'Noun')]\n",
            "[('사이즈', 'Noun')]\n",
            "[('수량', 'Noun')]\n",
            "[('양', 'Noun'), ('이', 'Josa')]\n",
            "[('남았', 'Verb')]\n",
            "[('남아', 'Noun')]\n",
            "[('많', 'Adjective')]\n",
            "[('품질', 'Noun')]\n",
            "[('상태', 'Noun')]\n",
            "[('아이스', 'Noun')]\n",
            "[('얼음', 'Noun')]\n",
            "[('비닐', 'Noun')]\n",
            "[('아이스팩', 'Noun')]\n",
            "[('뾱뾱', 'Noun')]\n",
            "[('뽁뽁이팩', 'Noun')]\n",
            "[('드라이아이스', 'Noun')]\n",
            "[('아이스박스', 'Noun')]\n",
            "[('보냉', 'Noun')]\n",
            "[('상자', 'Noun')]\n",
            "[('종이팩', 'Noun')]\n",
            "[('종이', 'Noun')]\n",
            "[('상온', 'Noun')]\n",
            "[('실온', 'Noun')]\n",
            "[('상한', 'Noun')]\n",
            "[('상', 'Noun'), ('했', 'Verb')]\n",
            "[('썩', 'Noun')]\n",
            "[('소재', 'Noun')]\n",
            "[('박스', 'Noun')]\n",
            "[('뽁뽁', 'Noun'), ('이', 'Josa')]\n",
            "[('비닐봉투', 'Noun')]\n",
            "[('밀봉', 'Noun')]\n",
            "[('보냉팩', 'Noun')]\n",
            "[('배송', 'Noun')]\n",
            "[('발송', 'Noun')]\n",
            "[('택배', 'Noun')]\n",
            "[('배달', 'Noun')]\n",
            "[('검사', 'Noun')]\n",
            "[('퀄리티', 'Noun')]\n",
            "[('퀄러티', 'Noun')]\n",
            "[('환경', 'Noun')]\n",
            "[('검증', 'Noun')]\n",
            "[('신뢰', 'Noun')]\n",
            "[('신선', 'Noun')]\n",
            "[('유통', 'Noun'), ('기한', 'Noun')]\n",
            "[('유효', 'Noun'), ('기한', 'Noun')]\n",
            "[('싱싱', 'Noun')]\n",
            "[('상한', 'Noun')]\n",
            "[('부패', 'Noun')]\n",
            "[('냄새', 'Noun')]\n",
            "[('간편', 'Noun')]\n",
            "[('간단', 'Noun')]\n",
            "[('초보', 'Noun')]\n",
            "[('방법', 'Noun')]\n",
            "[('쉬움', 'Noun')]\n",
            "[('어려움', 'Noun')]\n",
            "[('단시간', 'Noun')]\n",
            "[('출퇴근시간', 'Noun')]\n",
            "[('간편식', 'Noun')]\n",
            "[('전문식', 'Noun')]\n",
            "[('편리', 'Noun')]\n",
            "[('손쉽', 'Adjective')]\n",
            "[('혼밥', 'Noun')]\n",
            "[('꽝손', 'Noun')]\n",
            "[('불편', 'Noun')]\n",
            "[('똥손', 'Noun')]\n",
            "[('금손', 'Noun')]\n",
            "[('편의', 'Noun')]\n",
            "[('외관', 'Noun')]\n",
            "[('육안', 'Noun')]\n",
            "[('디자인', 'Noun')]\n",
            "[('실물', 'Noun')]\n",
            "[('겉보기', 'Noun')]\n",
            "[('보고', 'Noun')]\n",
            "[('보임', 'Noun')]\n",
            "[('볼때', 'Noun')]\n",
            "[('볼', 'Noun'), ('때', 'Noun')]\n",
            "[('보고', 'Noun')]\n",
            "[('맛보다', 'Verb')]\n",
            "[('봣', 'Noun')]\n",
            "[('눈', 'Noun'), ('으로', 'Josa')]\n",
            "[('사진', 'Noun'), ('찍기', 'Noun'), ('좋은', 'Adjective')]\n",
            "[('먹음', 'Noun'), ('직한', 'Adjective')]\n",
            "[('말', 'Noun'), ('쌀나는', 'Verb')]\n",
            "[('푸디', 'Verb'), ('용', 'Noun')]\n",
            "[('색감', 'Noun')]\n",
            "[('색깔', 'Noun')]\n",
            "[('색', 'Noun'), ('이', 'Josa')]\n",
            "[('모양새', 'Noun')]\n",
            "[('웰빙', 'Noun')]\n",
            "[('msg', 'Alpha')]\n",
            "[('인스턴트', 'Noun')]\n",
            "[('건강', 'Noun'), ('식', 'Suffix')]\n",
            "[('특수', 'Noun'), ('식품', 'Noun')]\n",
            "[('즉석식품', 'Noun')]\n",
            "[('건강', 'Noun')]\n",
            "[('다이어트', 'Noun')]\n",
            "[('다이어터', 'Noun')]\n",
            "[('헬스', 'Noun')]\n",
            "[('무', 'Noun'), ('첨가', 'Noun')]\n",
            "[('식단', 'Noun')]\n",
            "[('단백질', 'Noun')]\n",
            "[('영양', 'Noun')]\n",
            "[('효과', 'Noun')]\n",
            "[('예방', 'Noun')]\n",
            "[('체중', 'Noun')]\n",
            "[('영양소', 'Noun')]\n",
            "[('탄수화물', 'Noun')]\n",
            "[('칼로리', 'Noun')]\n",
            "[('성분', 'Noun')]\n",
            "[('소화효소', 'Noun')]\n",
            "[('체중감량', 'Noun')]\n",
            "[('면역', 'Noun')]\n",
            "[('근육', 'Noun')]\n",
            "[('야맹증', 'Noun')]\n",
            "[('질환', 'Noun')]\n",
            "[('보조', 'Noun')]\n",
            "[('미용', 'Noun')]\n",
            "[('운동', 'Noun')]\n",
            "[('에너지', 'Noun')]\n",
            "[('호르몬', 'Noun')]\n",
            "[('칼슘', 'Noun')]\n",
            "[('성인병', 'Noun')]\n",
            "[('갱년기', 'Noun')]\n",
            "[('성장', 'Noun')]\n",
            "[('비료', 'Noun')]\n",
            "[('노화', 'Noun')]\n",
            "[('치매', 'Noun')]\n",
            "[('효능', 'Noun')]\n",
            "[('염분', 'Noun')]\n",
            "[('두뇌', 'Noun')]\n",
            "[('불균형', 'Noun')]\n",
            "[('뇌', 'Noun')]\n",
            "[('알츠하이머', 'Noun')]\n",
            "[('코로나', 'Noun')]\n",
            "[('영양분', 'Noun')]\n",
            "[('소화', 'Noun')]\n"
          ],
          "name": "stdout"
        }
      ]
    },
    {
      "cell_type": "code",
      "metadata": {
        "id": "H7gxuDK0RS5i",
        "colab_type": "code",
        "colab": {}
      },
      "source": [
        "okt.pos(test_data['review'][0])"
      ],
      "execution_count": null,
      "outputs": []
    },
    {
      "cell_type": "code",
      "metadata": {
        "id": "3LN6lur5TVkq",
        "colab_type": "code",
        "colab": {}
      },
      "source": [
        ""
      ],
      "execution_count": null,
      "outputs": []
    }
  ]
}