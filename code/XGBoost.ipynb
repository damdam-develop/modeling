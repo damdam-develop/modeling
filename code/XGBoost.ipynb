{
 "cells": [
  {
   "cell_type": "markdown",
   "metadata": {},
   "source": [
    "## 저장내용 불러오기"
   ]
  },
  {
   "cell_type": "code",
<<<<<<< HEAD
   "execution_count": 1,
=======
   "execution_count": 2,
>>>>>>> master
   "metadata": {},
   "outputs": [
    {
     "name": "stdout",
     "output_type": "stream",
     "text": [
      "0    209\n",
      "1    197\n",
      "Name: 1, dtype: int64\n",
      "1    100\n",
      "0    100\n",
      "Name: 1, dtype: int64\n"
     ]
    }
   ],
   "source": [
    "import pandas as pd\n",
    "\n",
    "train_df = pd.read_csv('elect_training.csv', header=None, )\n",
    "print(train_df[1].value_counts())\n",
    "test_df = pd.read_csv('elect_test.csv', header=None)\n",
    "print(test_df[1].value_counts())"
   ]
  },
  {
   "cell_type": "markdown",
   "metadata": {},
   "source": [
<<<<<<< HEAD
    "## 데이터정제"
=======
    "## 단어 토큰화"
>>>>>>> master
   ]
  },
  {
   "cell_type": "code",
   "execution_count": 3,
   "metadata": {},
   "outputs": [
    {
<<<<<<< HEAD
     "name": "stdout",
     "output_type": "stream",
     "text": [
      "388\n",
      "전처리 후 테스트용 샘플의 개수 : 187\n"
=======
     "name": "stderr",
     "output_type": "stream",
     "text": [
      "C:\\Users\\user\\Anaconda3\\envs\\tensorflow\\lib\\site-packages\\konlpy\\tag\\_okt.py:16: UserWarning: \"Twitter\" has changed to \"Okt\" since KoNLPy v0.4.5.\n",
      "  warn('\"Twitter\" has changed to \"Okt\" since KoNLPy v0.4.5.')\n"
>>>>>>> master
     ]
    }
   ],
   "source": [
<<<<<<< HEAD
    "import numpy as np\n",
    "\n",
    "# train_df에 데이터의 중복이 있는지 확인\n",
    "train_df[0].nunique(), train_df[1].nunique()\n",
    "# document 열에서 중복인 내용이 있다면 중복 제거\n",
    "train_df.drop_duplicates(subset=[0], inplace=True) \n",
    "# 한글과 공백을 제외하고 모두 제거\n",
    "train_df[0] = train_df[0].str.replace(\"[^ㄱ-ㅎㅏ-ㅣ가-힣]\",\"\")\n",
    "train_df[0].replace('', np.nan, inplace=True)\n",
    "# 한글이 없는 리뷰 제거\n",
    "train_df = train_df.dropna(how = 'any')\n",
    "print(len(train_df))\n",
    "\n",
    "# test도 마찬가지로 수행\n",
    "test_df.drop_duplicates(subset = [0], inplace=True) # document 열에서 중복인 내용이 있다면 중복 제거\n",
    "test_df[0] = test_df[0].str.replace(\"[^ㄱ-ㅎㅏ-ㅣ가-힣]\",\"\") # 정규 표현식 수행\n",
    "test_df[0].replace('', np.nan, inplace=True) # 공백은 Null 값으로 변경\n",
    "test_df = test_df.dropna(how='any') # Null 값 제거\n",
    "print('전처리 후 테스트용 샘플의 개수 :',len(test_df))"
   ]
  },
  {
   "cell_type": "markdown",
   "metadata": {},
   "source": [
    "## 단어 토큰화"
   ]
  },
  {
   "cell_type": "code",
   "execution_count": 4,
   "metadata": {},
   "outputs": [],
   "source": [
=======
>>>>>>> master
    "from konlpy.tag import Twitter\n",
    "\n",
    "twitter = Twitter()\n",
    "def tw_tokenizer(text):\n",
    "    # 입력 인자로 들어온 텍스트를 형태소 단어로 토큰화해 리스트 형태로 반환\n",
    "    tokens_ko = twitter.morphs(text)\n",
    "    return tokens_ko"
   ]
  },
  {
   "cell_type": "code",
<<<<<<< HEAD
   "execution_count": 5,
=======
   "execution_count": 4,
>>>>>>> master
   "metadata": {},
   "outputs": [
    {
     "name": "stderr",
     "output_type": "stream",
     "text": [
      "C:\\Users\\user\\Anaconda3\\envs\\tensorflow\\lib\\site-packages\\sklearn\\feature_extraction\\text.py:484: UserWarning: The parameter 'token_pattern' will not be used since 'tokenizer' is not None'\n",
      "  warnings.warn(\"The parameter 'token_pattern' will not be used\"\n"
     ]
    }
   ],
   "source": [
    "from sklearn.feature_extraction.text import TfidfVectorizer\n",
    "from sklearn.linear_model import LogisticRegression\n",
    "from sklearn.model_selection import GridSearchCV\n",
    "\n",
    "# Twitter 객체의 morphs() 객체를 이용한 tokenizer를 사용. ngram_range는 (1,2)\n",
    "tfidf_vect = TfidfVectorizer(tokenizer=tw_tokenizer, ngram_range=(1,2), min_df=3, max_df=0.9)\n",
    "tfidf_vect.fit(train_df[0])\n",
    "tfidf_matrix_train = tfidf_vect.transform(train_df[0])\n",
    "tfidf_matrix_test = tfidf_vect.transform(test_df[0])"
   ]
  },
  {
<<<<<<< HEAD
=======
   "cell_type": "code",
   "execution_count": 5,
   "metadata": {},
   "outputs": [
    {
     "data": {
      "text/plain": [
       "<406x1890 sparse matrix of type '<class 'numpy.float64'>'\n",
       "\twith 16324 stored elements in Compressed Sparse Row format>"
      ]
     },
     "execution_count": 5,
     "metadata": {},
     "output_type": "execute_result"
    }
   ],
   "source": [
    "tfidf_matrix_train"
   ]
  },
  {
   "cell_type": "code",
   "execution_count": 6,
   "metadata": {},
   "outputs": [
    {
     "data": {
      "text/plain": [
       "(406,)"
      ]
     },
     "execution_count": 6,
     "metadata": {},
     "output_type": "execute_result"
    }
   ],
   "source": [
    "train_df[1].shape"
   ]
  },
  {
>>>>>>> master
   "cell_type": "markdown",
   "metadata": {},
   "source": [
    "## 모델생성"
   ]
  },
  {
   "cell_type": "code",
<<<<<<< HEAD
   "execution_count": 7,
=======
   "execution_count": 143,
>>>>>>> master
   "metadata": {
    "scrolled": true
   },
   "outputs": [
    {
     "name": "stdout",
     "output_type": "stream",
     "text": [
<<<<<<< HEAD
      "[19:02:11] WARNING: C:\\Users\\Administrator\\workspace\\xgboost-win64_release_1.1.0\\src\\learner.cc:480: \n",
=======
      "[21:51:29] WARNING: C:\\Users\\Administrator\\workspace\\xgboost-win64_release_1.1.0\\src\\learner.cc:480: \n",
>>>>>>> master
      "Parameters: { n_estimator } might not be used.\n",
      "\n",
      "  This may not be accurate due to some parameters are only used in language bindings but\n",
      "  passed down to XGBoost core.  Or some parameters are not used but slip through this\n",
      "  verification. Please open an issue if you find above cases.\n",
      "\n",
      "\n",
<<<<<<< HEAD
      "[0]\tvalidation_0-auc:0.83674\tvalidation_1-auc:0.60557\n",
      "Multiple eval metrics have been passed: 'validation_1-auc' will be used for early stopping.\n",
      "\n",
      "Will train until validation_1-auc hasn't improved in 30 rounds.\n",
      "[1]\tvalidation_0-auc:0.91239\tvalidation_1-auc:0.61207\n",
      "[2]\tvalidation_0-auc:0.93203\tvalidation_1-auc:0.63103\n",
      "[3]\tvalidation_0-auc:0.94631\tvalidation_1-auc:0.64856\n",
      "[4]\tvalidation_0-auc:0.95878\tvalidation_1-auc:0.66718\n",
      "[5]\tvalidation_0-auc:0.96426\tvalidation_1-auc:0.67368\n",
      "[6]\tvalidation_0-auc:0.96977\tvalidation_1-auc:0.67897\n",
      "[7]\tvalidation_0-auc:0.97316\tvalidation_1-auc:0.68845\n",
      "[8]\tvalidation_0-auc:0.97635\tvalidation_1-auc:0.68448\n",
      "[9]\tvalidation_0-auc:0.97834\tvalidation_1-auc:0.68793\n",
      "[10]\tvalidation_0-auc:0.98084\tvalidation_1-auc:0.69839\n",
      "[11]\tvalidation_0-auc:0.98313\tvalidation_1-auc:0.69638\n",
      "[12]\tvalidation_0-auc:0.98403\tvalidation_1-auc:0.69868\n",
      "[13]\tvalidation_0-auc:0.98508\tvalidation_1-auc:0.70144\n",
      "[14]\tvalidation_0-auc:0.98768\tvalidation_1-auc:0.70397\n",
      "[15]\tvalidation_0-auc:0.98937\tvalidation_1-auc:0.69782\n",
      "[16]\tvalidation_0-auc:0.99096\tvalidation_1-auc:0.70391\n",
      "[17]\tvalidation_0-auc:0.99332\tvalidation_1-auc:0.70103\n",
      "[18]\tvalidation_0-auc:0.99362\tvalidation_1-auc:0.71035\n",
      "[19]\tvalidation_0-auc:0.99405\tvalidation_1-auc:0.71960\n",
      "[20]\tvalidation_0-auc:0.99491\tvalidation_1-auc:0.72581\n",
      "[21]\tvalidation_0-auc:0.99478\tvalidation_1-auc:0.73063\n",
      "[22]\tvalidation_0-auc:0.99504\tvalidation_1-auc:0.72983\n",
      "[23]\tvalidation_0-auc:0.99526\tvalidation_1-auc:0.72937\n",
      "[24]\tvalidation_0-auc:0.99547\tvalidation_1-auc:0.72799\n",
      "[25]\tvalidation_0-auc:0.99552\tvalidation_1-auc:0.72592\n",
      "[26]\tvalidation_0-auc:0.99568\tvalidation_1-auc:0.72385\n",
      "[27]\tvalidation_0-auc:0.99576\tvalidation_1-auc:0.72575\n",
      "[28]\tvalidation_0-auc:0.99576\tvalidation_1-auc:0.72874\n",
      "[29]\tvalidation_0-auc:0.99632\tvalidation_1-auc:0.73086\n",
      "[30]\tvalidation_0-auc:0.99636\tvalidation_1-auc:0.72856\n",
      "[31]\tvalidation_0-auc:0.99655\tvalidation_1-auc:0.73172\n",
      "[32]\tvalidation_0-auc:0.99662\tvalidation_1-auc:0.73839\n",
      "[33]\tvalidation_0-auc:0.99673\tvalidation_1-auc:0.73862\n",
      "[34]\tvalidation_0-auc:0.99689\tvalidation_1-auc:0.73828\n",
      "[35]\tvalidation_0-auc:0.99748\tvalidation_1-auc:0.73724\n",
      "[36]\tvalidation_0-auc:0.99761\tvalidation_1-auc:0.73379\n",
      "[37]\tvalidation_0-auc:0.99774\tvalidation_1-auc:0.73011\n",
      "[38]\tvalidation_0-auc:0.99782\tvalidation_1-auc:0.73322\n",
      "[39]\tvalidation_0-auc:0.99818\tvalidation_1-auc:0.73563\n",
      "[40]\tvalidation_0-auc:0.99813\tvalidation_1-auc:0.73942\n",
      "[41]\tvalidation_0-auc:0.99810\tvalidation_1-auc:0.74293\n",
      "[42]\tvalidation_0-auc:0.99806\tvalidation_1-auc:0.74489\n",
      "[43]\tvalidation_0-auc:0.99809\tvalidation_1-auc:0.74385\n",
      "[44]\tvalidation_0-auc:0.99815\tvalidation_1-auc:0.74144\n",
      "[45]\tvalidation_0-auc:0.99823\tvalidation_1-auc:0.74351\n",
      "[46]\tvalidation_0-auc:0.99827\tvalidation_1-auc:0.74604\n",
      "[47]\tvalidation_0-auc:0.99827\tvalidation_1-auc:0.74604\n",
      "[48]\tvalidation_0-auc:0.99827\tvalidation_1-auc:0.74833\n",
      "[49]\tvalidation_0-auc:0.99835\tvalidation_1-auc:0.75052\n",
      "[50]\tvalidation_0-auc:0.99835\tvalidation_1-auc:0.74856\n",
      "[51]\tvalidation_0-auc:0.99835\tvalidation_1-auc:0.74649\n",
      "[52]\tvalidation_0-auc:0.99835\tvalidation_1-auc:0.74420\n",
      "[53]\tvalidation_0-auc:0.99838\tvalidation_1-auc:0.74500\n",
      "[54]\tvalidation_0-auc:0.99838\tvalidation_1-auc:0.74730\n",
      "[55]\tvalidation_0-auc:0.99835\tvalidation_1-auc:0.74535\n",
      "[56]\tvalidation_0-auc:0.99859\tvalidation_1-auc:0.74546\n",
      "[57]\tvalidation_0-auc:0.99841\tvalidation_1-auc:0.74718\n",
      "[58]\tvalidation_0-auc:0.99846\tvalidation_1-auc:0.74420\n",
      "[59]\tvalidation_0-auc:0.99851\tvalidation_1-auc:0.74489\n",
      "[60]\tvalidation_0-auc:0.99875\tvalidation_1-auc:0.74581\n",
      "[61]\tvalidation_0-auc:0.99875\tvalidation_1-auc:0.74787\n",
      "[62]\tvalidation_0-auc:0.99875\tvalidation_1-auc:0.74730\n",
      "[63]\tvalidation_0-auc:0.99875\tvalidation_1-auc:0.74535\n",
      "[64]\tvalidation_0-auc:0.99883\tvalidation_1-auc:0.74557\n",
      "[65]\tvalidation_0-auc:0.99883\tvalidation_1-auc:0.74695\n",
      "[66]\tvalidation_0-auc:0.99904\tvalidation_1-auc:0.74845\n",
      "[67]\tvalidation_0-auc:0.99904\tvalidation_1-auc:0.74799\n",
      "[68]\tvalidation_0-auc:0.99904\tvalidation_1-auc:0.74845\n",
      "[69]\tvalidation_0-auc:0.99904\tvalidation_1-auc:0.74644\n",
      "[70]\tvalidation_0-auc:0.99904\tvalidation_1-auc:0.74678\n",
      "[71]\tvalidation_0-auc:0.99904\tvalidation_1-auc:0.74575\n",
      "[72]\tvalidation_0-auc:0.99904\tvalidation_1-auc:0.74322\n",
      "[73]\tvalidation_0-auc:0.99904\tvalidation_1-auc:0.74402\n",
      "[74]\tvalidation_0-auc:0.99907\tvalidation_1-auc:0.74494\n",
      "[75]\tvalidation_0-auc:0.99904\tvalidation_1-auc:0.74609\n",
      "[76]\tvalidation_0-auc:0.99910\tvalidation_1-auc:0.74598\n",
      "[77]\tvalidation_0-auc:0.99910\tvalidation_1-auc:0.74770\n",
      "[78]\tvalidation_0-auc:0.99910\tvalidation_1-auc:0.74828\n",
      "[79]\tvalidation_0-auc:0.99910\tvalidation_1-auc:0.74828\n",
      "Stopping. Best iteration:\n",
      "[49]\tvalidation_0-auc:0.99835\tvalidation_1-auc:0.75052\n",
      "\n",
      "ROC AUC: 0.7505\n"
=======
      "[0]\tvalidation_0-auc:0.86863\tvalidation_1-auc:0.63180\n",
      "Multiple eval metrics have been passed: 'validation_1-auc' will be used for early stopping.\n",
      "\n",
      "Will train until validation_1-auc hasn't improved in 30 rounds.\n",
      "[1]\tvalidation_0-auc:0.92042\tvalidation_1-auc:0.67585\n",
      "[2]\tvalidation_0-auc:0.94314\tvalidation_1-auc:0.68985\n",
      "[3]\tvalidation_0-auc:0.95796\tvalidation_1-auc:0.72510\n",
      "[4]\tvalidation_0-auc:0.96844\tvalidation_1-auc:0.72290\n",
      "[5]\tvalidation_0-auc:0.97532\tvalidation_1-auc:0.73150\n",
      "[6]\tvalidation_0-auc:0.97564\tvalidation_1-auc:0.72650\n",
      "[7]\tvalidation_0-auc:0.97715\tvalidation_1-auc:0.73065\n",
      "[8]\tvalidation_0-auc:0.97956\tvalidation_1-auc:0.72070\n",
      "[9]\tvalidation_0-auc:0.98240\tvalidation_1-auc:0.73040\n",
      "[10]\tvalidation_0-auc:0.98521\tvalidation_1-auc:0.73300\n",
      "[11]\tvalidation_0-auc:0.98744\tvalidation_1-auc:0.75190\n",
      "[12]\tvalidation_0-auc:0.98970\tvalidation_1-auc:0.74870\n",
      "[13]\tvalidation_0-auc:0.99075\tvalidation_1-auc:0.76170\n",
      "[14]\tvalidation_0-auc:0.99109\tvalidation_1-auc:0.76450\n",
      "[15]\tvalidation_0-auc:0.99150\tvalidation_1-auc:0.76205\n",
      "[16]\tvalidation_0-auc:0.99213\tvalidation_1-auc:0.76860\n",
      "[17]\tvalidation_0-auc:0.99353\tvalidation_1-auc:0.77160\n",
      "[18]\tvalidation_0-auc:0.99403\tvalidation_1-auc:0.77515\n",
      "[19]\tvalidation_0-auc:0.99417\tvalidation_1-auc:0.77690\n",
      "[20]\tvalidation_0-auc:0.99480\tvalidation_1-auc:0.78185\n",
      "[21]\tvalidation_0-auc:0.99500\tvalidation_1-auc:0.78215\n",
      "[22]\tvalidation_0-auc:0.99524\tvalidation_1-auc:0.78645\n",
      "[23]\tvalidation_0-auc:0.99575\tvalidation_1-auc:0.78445\n",
      "[24]\tvalidation_0-auc:0.99633\tvalidation_1-auc:0.78940\n",
      "[25]\tvalidation_0-auc:0.99682\tvalidation_1-auc:0.78950\n",
      "[26]\tvalidation_0-auc:0.99733\tvalidation_1-auc:0.79310\n",
      "[27]\tvalidation_0-auc:0.99740\tvalidation_1-auc:0.79580\n",
      "[28]\tvalidation_0-auc:0.99773\tvalidation_1-auc:0.79990\n",
      "[29]\tvalidation_0-auc:0.99800\tvalidation_1-auc:0.79660\n",
      "[30]\tvalidation_0-auc:0.99814\tvalidation_1-auc:0.79510\n",
      "[31]\tvalidation_0-auc:0.99837\tvalidation_1-auc:0.79660\n",
      "[32]\tvalidation_0-auc:0.99857\tvalidation_1-auc:0.79890\n",
      "[33]\tvalidation_0-auc:0.99857\tvalidation_1-auc:0.79970\n",
      "[34]\tvalidation_0-auc:0.99857\tvalidation_1-auc:0.80220\n",
      "[35]\tvalidation_0-auc:0.99876\tvalidation_1-auc:0.80300\n",
      "[36]\tvalidation_0-auc:0.99871\tvalidation_1-auc:0.80470\n",
      "[37]\tvalidation_0-auc:0.99874\tvalidation_1-auc:0.80620\n",
      "[38]\tvalidation_0-auc:0.99874\tvalidation_1-auc:0.80570\n",
      "[39]\tvalidation_0-auc:0.99886\tvalidation_1-auc:0.80480\n",
      "[40]\tvalidation_0-auc:0.99886\tvalidation_1-auc:0.80250\n",
      "[41]\tvalidation_0-auc:0.99886\tvalidation_1-auc:0.79780\n",
      "[42]\tvalidation_0-auc:0.99886\tvalidation_1-auc:0.79560\n",
      "[43]\tvalidation_0-auc:0.99888\tvalidation_1-auc:0.79290\n",
      "[44]\tvalidation_0-auc:0.99888\tvalidation_1-auc:0.79350\n",
      "[45]\tvalidation_0-auc:0.99886\tvalidation_1-auc:0.79620\n",
      "[46]\tvalidation_0-auc:0.99886\tvalidation_1-auc:0.79720\n",
      "[47]\tvalidation_0-auc:0.99886\tvalidation_1-auc:0.79670\n",
      "[48]\tvalidation_0-auc:0.99886\tvalidation_1-auc:0.79600\n",
      "[49]\tvalidation_0-auc:0.99900\tvalidation_1-auc:0.79550\n",
      "[50]\tvalidation_0-auc:0.99917\tvalidation_1-auc:0.79870\n",
      "[51]\tvalidation_0-auc:0.99917\tvalidation_1-auc:0.80070\n",
      "[52]\tvalidation_0-auc:0.99917\tvalidation_1-auc:0.79910\n",
      "[53]\tvalidation_0-auc:0.99920\tvalidation_1-auc:0.79920\n",
      "[54]\tvalidation_0-auc:0.99920\tvalidation_1-auc:0.79540\n",
      "[55]\tvalidation_0-auc:0.99922\tvalidation_1-auc:0.79780\n",
      "[56]\tvalidation_0-auc:0.99934\tvalidation_1-auc:0.79930\n",
      "[57]\tvalidation_0-auc:0.99932\tvalidation_1-auc:0.79900\n",
      "[58]\tvalidation_0-auc:0.99934\tvalidation_1-auc:0.79910\n",
      "[59]\tvalidation_0-auc:0.99934\tvalidation_1-auc:0.80010\n",
      "[60]\tvalidation_0-auc:0.99934\tvalidation_1-auc:0.79970\n",
      "[61]\tvalidation_0-auc:0.99934\tvalidation_1-auc:0.80010\n",
      "[62]\tvalidation_0-auc:0.99949\tvalidation_1-auc:0.80080\n",
      "[63]\tvalidation_0-auc:0.99949\tvalidation_1-auc:0.80020\n",
      "[64]\tvalidation_0-auc:0.99949\tvalidation_1-auc:0.80210\n",
      "[65]\tvalidation_0-auc:0.99951\tvalidation_1-auc:0.80150\n",
      "[66]\tvalidation_0-auc:0.99951\tvalidation_1-auc:0.80230\n",
      "[67]\tvalidation_0-auc:0.99951\tvalidation_1-auc:0.80000\n",
      "Stopping. Best iteration:\n",
      "[37]\tvalidation_0-auc:0.99874\tvalidation_1-auc:0.80620\n",
      "\n",
      "ROC AUC: 0.8062\n"
>>>>>>> master
     ]
    }
   ],
   "source": [
    "from sklearn.metrics import roc_auc_score\n",
<<<<<<< HEAD
    "from xgboost import XGBClassifier\n",
=======
>>>>>>> master
    "\n",
    "# n_estimators는 100으로, random state는 예제 수행 시마다 동일 예측 결과를 위해 설정\n",
    "xgb_clf = XGBClassifier(n_estimator=100, random_state=0)\n",
    "\n",
    "# 성능 평가 지표를 auc로, 조기 중단 파리미터는 30으로 설정하고 학습 수행\n",
    "xgb_clf.fit(tfidf_matrix_train, train_df[1], early_stopping_rounds=30, eval_metric=\"auc\",\n",
    "            eval_set=[(tfidf_matrix_train, train_df[1]),(tfidf_matrix_test, test_df[1])])\n",
    "\n",
    "xgb_roc_score = roc_auc_score(test_df[1], xgb_clf.predict_proba(tfidf_matrix_test)[:,1], average='macro')\n",
    "print('ROC AUC: {0:.4f}'.format(xgb_roc_score))"
   ]
  },
  {
   "cell_type": "code",
<<<<<<< HEAD
   "execution_count": 8,
=======
   "execution_count": 148,
>>>>>>> master
   "metadata": {},
   "outputs": [
    {
     "name": "stdout",
     "output_type": "stream",
     "text": [
      "Fitting 3 folds for each of 36 candidates, totalling 108 fits\n",
<<<<<<< HEAD
      "[19:02:15] WARNING: C:\\Users\\Administrator\\workspace\\xgboost-win64_release_1.1.0\\src\\learner.cc:480: \n",
=======
      "[21:56:33] WARNING: C:\\Users\\Administrator\\workspace\\xgboost-win64_release_1.1.0\\src\\learner.cc:480: \n",
>>>>>>> master
      "Parameters: { n_estimator } might not be used.\n",
      "\n",
      "  This may not be accurate due to some parameters are only used in language bindings but\n",
      "  passed down to XGBoost core.  Or some parameters are not used but slip through this\n",
      "  verification. Please open an issue if you find above cases.\n",
      "\n",
      "\n"
     ]
    },
    {
     "name": "stderr",
     "output_type": "stream",
     "text": [
<<<<<<< HEAD
      "[Parallel(n_jobs=1)]: Using backend SequentialBackend with 1 concurrent workers.\n",
      "C:\\Users\\user\\Anaconda3\\envs\\tensorflow\\lib\\site-packages\\sklearn\\model_selection\\_validation.py:552: FitFailedWarning: Estimator fit failed. The score on this train-test partition for these parameters will be set to nan. Details: \n",
      "Traceback (most recent call last):\n",
      "  File \"C:\\Users\\user\\Anaconda3\\envs\\tensorflow\\lib\\site-packages\\sklearn\\model_selection\\_validation.py\", line 531, in _fit_and_score\n",
      "    estimator.fit(X_train, y_train, **fit_params)\n",
      "  File \"C:\\Users\\user\\Anaconda3\\envs\\tensorflow\\lib\\site-packages\\xgboost\\sklearn.py\", line 824, in fit\n",
      "    callbacks=callbacks)\n",
      "  File \"C:\\Users\\user\\Anaconda3\\envs\\tensorflow\\lib\\site-packages\\xgboost\\training.py\", line 212, in train\n",
      "    xgb_model=xgb_model, callbacks=callbacks)\n",
      "  File \"C:\\Users\\user\\Anaconda3\\envs\\tensorflow\\lib\\site-packages\\xgboost\\training.py\", line 75, in _train_internal\n",
      "    bst.update(dtrain, i, obj)\n",
      "  File \"C:\\Users\\user\\Anaconda3\\envs\\tensorflow\\lib\\site-packages\\xgboost\\core.py\", line 1369, in update\n",
      "    dtrain.handle))\n",
      "  File \"C:\\Users\\user\\Anaconda3\\envs\\tensorflow\\lib\\site-packages\\xgboost\\core.py\", line 190, in _check_call\n",
      "    raise XGBoostError(py_str(_LIB.XGBGetLastError()))\n",
      "xgboost.core.XGBoostError: Invalid Parameter format for max_depth expect int but value='0.5'\n",
      "\n",
      "  FitFailedWarning)\n"
=======
      "[Parallel(n_jobs=1)]: Using backend SequentialBackend with 1 concurrent workers.\n"
>>>>>>> master
     ]
    },
    {
     "name": "stdout",
     "output_type": "stream",
     "text": [
<<<<<<< HEAD
      "[19:02:15] WARNING: C:\\Users\\Administrator\\workspace\\xgboost-win64_release_1.1.0\\src\\learner.cc:480: \n",
=======
      "[21:56:33] WARNING: C:\\Users\\Administrator\\workspace\\xgboost-win64_release_1.1.0\\src\\learner.cc:480: \n",
>>>>>>> master
      "Parameters: { n_estimator } might not be used.\n",
      "\n",
      "  This may not be accurate due to some parameters are only used in language bindings but\n",
      "  passed down to XGBoost core.  Or some parameters are not used but slip through this\n",
      "  verification. Please open an issue if you find above cases.\n",
      "\n",
      "\n",
<<<<<<< HEAD
      "[19:02:15] WARNING: C:\\Users\\Administrator\\workspace\\xgboost-win64_release_1.1.0\\src\\learner.cc:480: \n",
=======
      "[21:56:33] WARNING: C:\\Users\\Administrator\\workspace\\xgboost-win64_release_1.1.0\\src\\learner.cc:480: \n",
>>>>>>> master
      "Parameters: { n_estimator } might not be used.\n",
      "\n",
      "  This may not be accurate due to some parameters are only used in language bindings but\n",
      "  passed down to XGBoost core.  Or some parameters are not used but slip through this\n",
      "  verification. Please open an issue if you find above cases.\n",
      "\n",
      "\n",
<<<<<<< HEAD
      "[19:02:15] WARNING: C:\\Users\\Administrator\\workspace\\xgboost-win64_release_1.1.0\\src\\learner.cc:480: \n",
=======
      "[21:56:33] WARNING: C:\\Users\\Administrator\\workspace\\xgboost-win64_release_1.1.0\\src\\learner.cc:480: \n",
>>>>>>> master
      "Parameters: { n_estimator } might not be used.\n",
      "\n",
      "  This may not be accurate due to some parameters are only used in language bindings but\n",
      "  passed down to XGBoost core.  Or some parameters are not used but slip through this\n",
      "  verification. Please open an issue if you find above cases.\n",
      "\n",
      "\n",
<<<<<<< HEAD
      "[19:02:15] WARNING: C:\\Users\\Administrator\\workspace\\xgboost-win64_release_1.1.0\\src\\learner.cc:480: \n",
=======
      "[21:56:34] WARNING: C:\\Users\\Administrator\\workspace\\xgboost-win64_release_1.1.0\\src\\learner.cc:480: \n",
>>>>>>> master
      "Parameters: { n_estimator } might not be used.\n",
      "\n",
      "  This may not be accurate due to some parameters are only used in language bindings but\n",
      "  passed down to XGBoost core.  Or some parameters are not used but slip through this\n",
      "  verification. Please open an issue if you find above cases.\n",
      "\n",
      "\n",
<<<<<<< HEAD
      "[19:02:16] WARNING: C:\\Users\\Administrator\\workspace\\xgboost-win64_release_1.1.0\\src\\learner.cc:480: \n",
=======
      "[21:56:34] WARNING: C:\\Users\\Administrator\\workspace\\xgboost-win64_release_1.1.0\\src\\learner.cc:480: \n",
>>>>>>> master
      "Parameters: { n_estimator } might not be used.\n",
      "\n",
      "  This may not be accurate due to some parameters are only used in language bindings but\n",
      "  passed down to XGBoost core.  Or some parameters are not used but slip through this\n",
      "  verification. Please open an issue if you find above cases.\n",
      "\n",
      "\n",
<<<<<<< HEAD
      "[19:02:16] WARNING: C:\\Users\\Administrator\\workspace\\xgboost-win64_release_1.1.0\\src\\learner.cc:480: \n",
=======
      "[21:56:34] WARNING: C:\\Users\\Administrator\\workspace\\xgboost-win64_release_1.1.0\\src\\learner.cc:480: \n",
>>>>>>> master
      "Parameters: { n_estimator } might not be used.\n",
      "\n",
      "  This may not be accurate due to some parameters are only used in language bindings but\n",
      "  passed down to XGBoost core.  Or some parameters are not used but slip through this\n",
      "  verification. Please open an issue if you find above cases.\n",
      "\n",
      "\n",
<<<<<<< HEAD
      "[19:02:16] WARNING: C:\\Users\\Administrator\\workspace\\xgboost-win64_release_1.1.0\\src\\learner.cc:480: \n",
=======
      "[21:56:34] WARNING: C:\\Users\\Administrator\\workspace\\xgboost-win64_release_1.1.0\\src\\learner.cc:480: \n",
>>>>>>> master
      "Parameters: { n_estimator } might not be used.\n",
      "\n",
      "  This may not be accurate due to some parameters are only used in language bindings but\n",
      "  passed down to XGBoost core.  Or some parameters are not used but slip through this\n",
      "  verification. Please open an issue if you find above cases.\n",
      "\n",
      "\n",
<<<<<<< HEAD
      "[19:02:16] WARNING: C:\\Users\\Administrator\\workspace\\xgboost-win64_release_1.1.0\\src\\learner.cc:480: \n",
=======
      "[21:56:34] WARNING: C:\\Users\\Administrator\\workspace\\xgboost-win64_release_1.1.0\\src\\learner.cc:480: \n",
>>>>>>> master
      "Parameters: { n_estimator } might not be used.\n",
      "\n",
      "  This may not be accurate due to some parameters are only used in language bindings but\n",
      "  passed down to XGBoost core.  Or some parameters are not used but slip through this\n",
      "  verification. Please open an issue if you find above cases.\n",
      "\n",
      "\n",
<<<<<<< HEAD
      "[19:02:16] WARNING: C:\\Users\\Administrator\\workspace\\xgboost-win64_release_1.1.0\\src\\learner.cc:480: \n",
=======
      "[21:56:34] WARNING: C:\\Users\\Administrator\\workspace\\xgboost-win64_release_1.1.0\\src\\learner.cc:480: \n",
>>>>>>> master
      "Parameters: { n_estimator } might not be used.\n",
      "\n",
      "  This may not be accurate due to some parameters are only used in language bindings but\n",
      "  passed down to XGBoost core.  Or some parameters are not used but slip through this\n",
      "  verification. Please open an issue if you find above cases.\n",
      "\n",
      "\n",
<<<<<<< HEAD
      "[19:02:16] WARNING: C:\\Users\\Administrator\\workspace\\xgboost-win64_release_1.1.0\\src\\learner.cc:480: \n",
=======
      "[21:56:35] WARNING: C:\\Users\\Administrator\\workspace\\xgboost-win64_release_1.1.0\\src\\learner.cc:480: \n",
>>>>>>> master
      "Parameters: { n_estimator } might not be used.\n",
      "\n",
      "  This may not be accurate due to some parameters are only used in language bindings but\n",
      "  passed down to XGBoost core.  Or some parameters are not used but slip through this\n",
      "  verification. Please open an issue if you find above cases.\n",
      "\n",
      "\n",
<<<<<<< HEAD
      "[19:02:16] WARNING: C:\\Users\\Administrator\\workspace\\xgboost-win64_release_1.1.0\\src\\learner.cc:480: \n",
=======
      "[21:56:35] WARNING: C:\\Users\\Administrator\\workspace\\xgboost-win64_release_1.1.0\\src\\learner.cc:480: \n",
>>>>>>> master
      "Parameters: { n_estimator } might not be used.\n",
      "\n",
      "  This may not be accurate due to some parameters are only used in language bindings but\n",
      "  passed down to XGBoost core.  Or some parameters are not used but slip through this\n",
      "  verification. Please open an issue if you find above cases.\n",
      "\n",
      "\n",
<<<<<<< HEAD
      "[19:02:16] WARNING: C:\\Users\\Administrator\\workspace\\xgboost-win64_release_1.1.0\\src\\learner.cc:480: \n",
=======
      "[21:56:35] WARNING: C:\\Users\\Administrator\\workspace\\xgboost-win64_release_1.1.0\\src\\learner.cc:480: \n",
>>>>>>> master
      "Parameters: { n_estimator } might not be used.\n",
      "\n",
      "  This may not be accurate due to some parameters are only used in language bindings but\n",
      "  passed down to XGBoost core.  Or some parameters are not used but slip through this\n",
      "  verification. Please open an issue if you find above cases.\n",
      "\n",
      "\n",
<<<<<<< HEAD
      "[19:02:17] WARNING: C:\\Users\\Administrator\\workspace\\xgboost-win64_release_1.1.0\\src\\learner.cc:480: \n",
=======
      "[21:56:35] WARNING: C:\\Users\\Administrator\\workspace\\xgboost-win64_release_1.1.0\\src\\learner.cc:480: \n",
>>>>>>> master
      "Parameters: { n_estimator } might not be used.\n",
      "\n",
      "  This may not be accurate due to some parameters are only used in language bindings but\n",
      "  passed down to XGBoost core.  Or some parameters are not used but slip through this\n",
      "  verification. Please open an issue if you find above cases.\n",
      "\n",
      "\n",
<<<<<<< HEAD
      "[19:02:17] WARNING: C:\\Users\\Administrator\\workspace\\xgboost-win64_release_1.1.0\\src\\learner.cc:480: \n",
=======
      "[21:56:35] WARNING: C:\\Users\\Administrator\\workspace\\xgboost-win64_release_1.1.0\\src\\learner.cc:480: \n",
>>>>>>> master
      "Parameters: { n_estimator } might not be used.\n",
      "\n",
      "  This may not be accurate due to some parameters are only used in language bindings but\n",
      "  passed down to XGBoost core.  Or some parameters are not used but slip through this\n",
      "  verification. Please open an issue if you find above cases.\n",
      "\n",
      "\n",
<<<<<<< HEAD
      "[19:02:17] WARNING: C:\\Users\\Administrator\\workspace\\xgboost-win64_release_1.1.0\\src\\learner.cc:480: \n",
=======
      "[21:56:36] WARNING: C:\\Users\\Administrator\\workspace\\xgboost-win64_release_1.1.0\\src\\learner.cc:480: \n",
>>>>>>> master
      "Parameters: { n_estimator } might not be used.\n",
      "\n",
      "  This may not be accurate due to some parameters are only used in language bindings but\n",
      "  passed down to XGBoost core.  Or some parameters are not used but slip through this\n",
      "  verification. Please open an issue if you find above cases.\n",
      "\n",
      "\n",
<<<<<<< HEAD
      "[19:02:17] WARNING: C:\\Users\\Administrator\\workspace\\xgboost-win64_release_1.1.0\\src\\learner.cc:480: \n",
=======
      "[21:56:36] WARNING: C:\\Users\\Administrator\\workspace\\xgboost-win64_release_1.1.0\\src\\learner.cc:480: \n",
>>>>>>> master
      "Parameters: { n_estimator } might not be used.\n",
      "\n",
      "  This may not be accurate due to some parameters are only used in language bindings but\n",
      "  passed down to XGBoost core.  Or some parameters are not used but slip through this\n",
      "  verification. Please open an issue if you find above cases.\n",
      "\n",
      "\n",
<<<<<<< HEAD
      "[19:02:17] WARNING: C:\\Users\\Administrator\\workspace\\xgboost-win64_release_1.1.0\\src\\learner.cc:480: \n",
=======
      "[21:56:36] WARNING: C:\\Users\\Administrator\\workspace\\xgboost-win64_release_1.1.0\\src\\learner.cc:480: \n",
>>>>>>> master
      "Parameters: { n_estimator } might not be used.\n",
      "\n",
      "  This may not be accurate due to some parameters are only used in language bindings but\n",
      "  passed down to XGBoost core.  Or some parameters are not used but slip through this\n",
      "  verification. Please open an issue if you find above cases.\n",
      "\n",
      "\n",
<<<<<<< HEAD
      "[19:02:17] WARNING: C:\\Users\\Administrator\\workspace\\xgboost-win64_release_1.1.0\\src\\learner.cc:480: \n",
=======
      "[21:56:36] WARNING: C:\\Users\\Administrator\\workspace\\xgboost-win64_release_1.1.0\\src\\learner.cc:480: \n",
>>>>>>> master
      "Parameters: { n_estimator } might not be used.\n",
      "\n",
      "  This may not be accurate due to some parameters are only used in language bindings but\n",
      "  passed down to XGBoost core.  Or some parameters are not used but slip through this\n",
      "  verification. Please open an issue if you find above cases.\n",
      "\n",
      "\n",
<<<<<<< HEAD
      "[19:02:18] WARNING: C:\\Users\\Administrator\\workspace\\xgboost-win64_release_1.1.0\\src\\learner.cc:480: \n",
=======
      "[21:56:36] WARNING: C:\\Users\\Administrator\\workspace\\xgboost-win64_release_1.1.0\\src\\learner.cc:480: \n",
>>>>>>> master
      "Parameters: { n_estimator } might not be used.\n",
      "\n",
      "  This may not be accurate due to some parameters are only used in language bindings but\n",
      "  passed down to XGBoost core.  Or some parameters are not used but slip through this\n",
      "  verification. Please open an issue if you find above cases.\n",
      "\n",
      "\n",
<<<<<<< HEAD
      "[19:02:18] WARNING: C:\\Users\\Administrator\\workspace\\xgboost-win64_release_1.1.0\\src\\learner.cc:480: \n",
=======
      "[21:56:37] WARNING: C:\\Users\\Administrator\\workspace\\xgboost-win64_release_1.1.0\\src\\learner.cc:480: \n",
>>>>>>> master
      "Parameters: { n_estimator } might not be used.\n",
      "\n",
      "  This may not be accurate due to some parameters are only used in language bindings but\n",
      "  passed down to XGBoost core.  Or some parameters are not used but slip through this\n",
      "  verification. Please open an issue if you find above cases.\n",
      "\n",
      "\n",
<<<<<<< HEAD
      "[19:02:18] WARNING: C:\\Users\\Administrator\\workspace\\xgboost-win64_release_1.1.0\\src\\learner.cc:480: \n",
=======
      "[21:56:37] WARNING: C:\\Users\\Administrator\\workspace\\xgboost-win64_release_1.1.0\\src\\learner.cc:480: \n",
>>>>>>> master
      "Parameters: { n_estimator } might not be used.\n",
      "\n",
      "  This may not be accurate due to some parameters are only used in language bindings but\n",
      "  passed down to XGBoost core.  Or some parameters are not used but slip through this\n",
      "  verification. Please open an issue if you find above cases.\n",
      "\n",
      "\n",
<<<<<<< HEAD
      "[19:02:18] WARNING: C:\\Users\\Administrator\\workspace\\xgboost-win64_release_1.1.0\\src\\learner.cc:480: \n",
=======
      "[21:56:37] WARNING: C:\\Users\\Administrator\\workspace\\xgboost-win64_release_1.1.0\\src\\learner.cc:480: \n",
>>>>>>> master
      "Parameters: { n_estimator } might not be used.\n",
      "\n",
      "  This may not be accurate due to some parameters are only used in language bindings but\n",
      "  passed down to XGBoost core.  Or some parameters are not used but slip through this\n",
      "  verification. Please open an issue if you find above cases.\n",
<<<<<<< HEAD
=======
      "\n",
>>>>>>> master
      "\n"
     ]
    },
    {
     "name": "stdout",
     "output_type": "stream",
     "text": [
<<<<<<< HEAD
      "\n",
      "[19:02:18] WARNING: C:\\Users\\Administrator\\workspace\\xgboost-win64_release_1.1.0\\src\\learner.cc:480: \n",
=======
      "[21:56:37] WARNING: C:\\Users\\Administrator\\workspace\\xgboost-win64_release_1.1.0\\src\\learner.cc:480: \n",
>>>>>>> master
      "Parameters: { n_estimator } might not be used.\n",
      "\n",
      "  This may not be accurate due to some parameters are only used in language bindings but\n",
      "  passed down to XGBoost core.  Or some parameters are not used but slip through this\n",
      "  verification. Please open an issue if you find above cases.\n",
      "\n",
      "\n",
<<<<<<< HEAD
      "[19:02:19] WARNING: C:\\Users\\Administrator\\workspace\\xgboost-win64_release_1.1.0\\src\\learner.cc:480: \n",
=======
      "[21:56:38] WARNING: C:\\Users\\Administrator\\workspace\\xgboost-win64_release_1.1.0\\src\\learner.cc:480: \n",
>>>>>>> master
      "Parameters: { n_estimator } might not be used.\n",
      "\n",
      "  This may not be accurate due to some parameters are only used in language bindings but\n",
      "  passed down to XGBoost core.  Or some parameters are not used but slip through this\n",
      "  verification. Please open an issue if you find above cases.\n",
      "\n",
      "\n",
<<<<<<< HEAD
      "[19:02:19] WARNING: C:\\Users\\Administrator\\workspace\\xgboost-win64_release_1.1.0\\src\\learner.cc:480: \n",
=======
      "[21:56:38] WARNING: C:\\Users\\Administrator\\workspace\\xgboost-win64_release_1.1.0\\src\\learner.cc:480: \n",
>>>>>>> master
      "Parameters: { n_estimator } might not be used.\n",
      "\n",
      "  This may not be accurate due to some parameters are only used in language bindings but\n",
      "  passed down to XGBoost core.  Or some parameters are not used but slip through this\n",
      "  verification. Please open an issue if you find above cases.\n",
      "\n",
      "\n",
<<<<<<< HEAD
      "[19:02:19] WARNING: C:\\Users\\Administrator\\workspace\\xgboost-win64_release_1.1.0\\src\\learner.cc:480: \n",
=======
      "[21:56:38] WARNING: C:\\Users\\Administrator\\workspace\\xgboost-win64_release_1.1.0\\src\\learner.cc:480: \n",
>>>>>>> master
      "Parameters: { n_estimator } might not be used.\n",
      "\n",
      "  This may not be accurate due to some parameters are only used in language bindings but\n",
      "  passed down to XGBoost core.  Or some parameters are not used but slip through this\n",
      "  verification. Please open an issue if you find above cases.\n",
      "\n",
      "\n",
<<<<<<< HEAD
      "[19:02:19] WARNING: C:\\Users\\Administrator\\workspace\\xgboost-win64_release_1.1.0\\src\\learner.cc:480: \n",
=======
      "[21:56:38] WARNING: C:\\Users\\Administrator\\workspace\\xgboost-win64_release_1.1.0\\src\\learner.cc:480: \n",
>>>>>>> master
      "Parameters: { n_estimator } might not be used.\n",
      "\n",
      "  This may not be accurate due to some parameters are only used in language bindings but\n",
      "  passed down to XGBoost core.  Or some parameters are not used but slip through this\n",
      "  verification. Please open an issue if you find above cases.\n",
      "\n",
      "\n",
<<<<<<< HEAD
      "[19:02:19] WARNING: C:\\Users\\Administrator\\workspace\\xgboost-win64_release_1.1.0\\src\\learner.cc:480: \n",
=======
      "[21:56:39] WARNING: C:\\Users\\Administrator\\workspace\\xgboost-win64_release_1.1.0\\src\\learner.cc:480: \n",
>>>>>>> master
      "Parameters: { n_estimator } might not be used.\n",
      "\n",
      "  This may not be accurate due to some parameters are only used in language bindings but\n",
      "  passed down to XGBoost core.  Or some parameters are not used but slip through this\n",
      "  verification. Please open an issue if you find above cases.\n",
      "\n",
      "\n",
<<<<<<< HEAD
      "[19:02:20] WARNING: C:\\Users\\Administrator\\workspace\\xgboost-win64_release_1.1.0\\src\\learner.cc:480: \n",
=======
      "[21:56:39] WARNING: C:\\Users\\Administrator\\workspace\\xgboost-win64_release_1.1.0\\src\\learner.cc:480: \n",
>>>>>>> master
      "Parameters: { n_estimator } might not be used.\n",
      "\n",
      "  This may not be accurate due to some parameters are only used in language bindings but\n",
      "  passed down to XGBoost core.  Or some parameters are not used but slip through this\n",
      "  verification. Please open an issue if you find above cases.\n",
      "\n",
      "\n",
<<<<<<< HEAD
      "[19:02:20] WARNING: C:\\Users\\Administrator\\workspace\\xgboost-win64_release_1.1.0\\src\\learner.cc:480: \n",
=======
      "[21:56:39] WARNING: C:\\Users\\Administrator\\workspace\\xgboost-win64_release_1.1.0\\src\\learner.cc:480: \n",
>>>>>>> master
      "Parameters: { n_estimator } might not be used.\n",
      "\n",
      "  This may not be accurate due to some parameters are only used in language bindings but\n",
      "  passed down to XGBoost core.  Or some parameters are not used but slip through this\n",
      "  verification. Please open an issue if you find above cases.\n",
      "\n",
      "\n",
<<<<<<< HEAD
      "[19:02:20] WARNING: C:\\Users\\Administrator\\workspace\\xgboost-win64_release_1.1.0\\src\\learner.cc:480: \n",
=======
      "[21:56:39] WARNING: C:\\Users\\Administrator\\workspace\\xgboost-win64_release_1.1.0\\src\\learner.cc:480: \n",
>>>>>>> master
      "Parameters: { n_estimator } might not be used.\n",
      "\n",
      "  This may not be accurate due to some parameters are only used in language bindings but\n",
      "  passed down to XGBoost core.  Or some parameters are not used but slip through this\n",
      "  verification. Please open an issue if you find above cases.\n",
      "\n",
      "\n",
<<<<<<< HEAD
      "[19:02:20] WARNING: C:\\Users\\Administrator\\workspace\\xgboost-win64_release_1.1.0\\src\\learner.cc:480: \n",
=======
      "[21:56:39] WARNING: C:\\Users\\Administrator\\workspace\\xgboost-win64_release_1.1.0\\src\\learner.cc:480: \n",
>>>>>>> master
      "Parameters: { n_estimator } might not be used.\n",
      "\n",
      "  This may not be accurate due to some parameters are only used in language bindings but\n",
      "  passed down to XGBoost core.  Or some parameters are not used but slip through this\n",
      "  verification. Please open an issue if you find above cases.\n",
      "\n",
      "\n",
<<<<<<< HEAD
      "[19:02:20] WARNING: C:\\Users\\Administrator\\workspace\\xgboost-win64_release_1.1.0\\src\\learner.cc:480: \n",
=======
      "[21:56:39] WARNING: C:\\Users\\Administrator\\workspace\\xgboost-win64_release_1.1.0\\src\\learner.cc:480: \n",
>>>>>>> master
      "Parameters: { n_estimator } might not be used.\n",
      "\n",
      "  This may not be accurate due to some parameters are only used in language bindings but\n",
      "  passed down to XGBoost core.  Or some parameters are not used but slip through this\n",
      "  verification. Please open an issue if you find above cases.\n",
      "\n",
      "\n",
<<<<<<< HEAD
      "[19:02:20] WARNING: C:\\Users\\Administrator\\workspace\\xgboost-win64_release_1.1.0\\src\\learner.cc:480: \n",
=======
      "[21:56:40] WARNING: C:\\Users\\Administrator\\workspace\\xgboost-win64_release_1.1.0\\src\\learner.cc:480: \n",
>>>>>>> master
      "Parameters: { n_estimator } might not be used.\n",
      "\n",
      "  This may not be accurate due to some parameters are only used in language bindings but\n",
      "  passed down to XGBoost core.  Or some parameters are not used but slip through this\n",
      "  verification. Please open an issue if you find above cases.\n",
      "\n",
      "\n",
<<<<<<< HEAD
      "[19:02:20] WARNING: C:\\Users\\Administrator\\workspace\\xgboost-win64_release_1.1.0\\src\\learner.cc:480: \n",
=======
      "[21:56:40] WARNING: C:\\Users\\Administrator\\workspace\\xgboost-win64_release_1.1.0\\src\\learner.cc:480: \n",
>>>>>>> master
      "Parameters: { n_estimator } might not be used.\n",
      "\n",
      "  This may not be accurate due to some parameters are only used in language bindings but\n",
      "  passed down to XGBoost core.  Or some parameters are not used but slip through this\n",
      "  verification. Please open an issue if you find above cases.\n",
      "\n",
      "\n",
<<<<<<< HEAD
      "[19:02:21] WARNING: C:\\Users\\Administrator\\workspace\\xgboost-win64_release_1.1.0\\src\\learner.cc:480: \n",
=======
      "[21:56:40] WARNING: C:\\Users\\Administrator\\workspace\\xgboost-win64_release_1.1.0\\src\\learner.cc:480: \n",
>>>>>>> master
      "Parameters: { n_estimator } might not be used.\n",
      "\n",
      "  This may not be accurate due to some parameters are only used in language bindings but\n",
      "  passed down to XGBoost core.  Or some parameters are not used but slip through this\n",
      "  verification. Please open an issue if you find above cases.\n",
      "\n",
      "\n",
<<<<<<< HEAD
      "[19:02:21] WARNING: C:\\Users\\Administrator\\workspace\\xgboost-win64_release_1.1.0\\src\\learner.cc:480: \n",
=======
      "[21:56:40] WARNING: C:\\Users\\Administrator\\workspace\\xgboost-win64_release_1.1.0\\src\\learner.cc:480: \n",
>>>>>>> master
      "Parameters: { n_estimator } might not be used.\n",
      "\n",
      "  This may not be accurate due to some parameters are only used in language bindings but\n",
      "  passed down to XGBoost core.  Or some parameters are not used but slip through this\n",
      "  verification. Please open an issue if you find above cases.\n",
      "\n",
      "\n",
<<<<<<< HEAD
      "[19:02:21] WARNING: C:\\Users\\Administrator\\workspace\\xgboost-win64_release_1.1.0\\src\\learner.cc:480: \n",
=======
      "[21:56:40] WARNING: C:\\Users\\Administrator\\workspace\\xgboost-win64_release_1.1.0\\src\\learner.cc:480: \n",
>>>>>>> master
      "Parameters: { n_estimator } might not be used.\n",
      "\n",
      "  This may not be accurate due to some parameters are only used in language bindings but\n",
      "  passed down to XGBoost core.  Or some parameters are not used but slip through this\n",
      "  verification. Please open an issue if you find above cases.\n",
      "\n",
      "\n",
<<<<<<< HEAD
      "[19:02:21] WARNING: C:\\Users\\Administrator\\workspace\\xgboost-win64_release_1.1.0\\src\\learner.cc:480: \n",
=======
      "[21:56:41] WARNING: C:\\Users\\Administrator\\workspace\\xgboost-win64_release_1.1.0\\src\\learner.cc:480: \n",
>>>>>>> master
      "Parameters: { n_estimator } might not be used.\n",
      "\n",
      "  This may not be accurate due to some parameters are only used in language bindings but\n",
      "  passed down to XGBoost core.  Or some parameters are not used but slip through this\n",
      "  verification. Please open an issue if you find above cases.\n",
      "\n",
      "\n",
<<<<<<< HEAD
      "[19:02:21] WARNING: C:\\Users\\Administrator\\workspace\\xgboost-win64_release_1.1.0\\src\\learner.cc:480: \n",
=======
      "[21:56:41] WARNING: C:\\Users\\Administrator\\workspace\\xgboost-win64_release_1.1.0\\src\\learner.cc:480: \n",
>>>>>>> master
      "Parameters: { n_estimator } might not be used.\n",
      "\n",
      "  This may not be accurate due to some parameters are only used in language bindings but\n",
      "  passed down to XGBoost core.  Or some parameters are not used but slip through this\n",
      "  verification. Please open an issue if you find above cases.\n",
      "\n",
      "\n",
<<<<<<< HEAD
      "[19:02:21] WARNING: C:\\Users\\Administrator\\workspace\\xgboost-win64_release_1.1.0\\src\\learner.cc:480: \n",
=======
      "[21:56:41] WARNING: C:\\Users\\Administrator\\workspace\\xgboost-win64_release_1.1.0\\src\\learner.cc:480: \n",
>>>>>>> master
      "Parameters: { n_estimator } might not be used.\n",
      "\n",
      "  This may not be accurate due to some parameters are only used in language bindings but\n",
      "  passed down to XGBoost core.  Or some parameters are not used but slip through this\n",
      "  verification. Please open an issue if you find above cases.\n",
      "\n",
      "\n",
<<<<<<< HEAD
      "[19:02:22] WARNING: C:\\Users\\Administrator\\workspace\\xgboost-win64_release_1.1.0\\src\\learner.cc:480: \n",
=======
      "[21:56:41] WARNING: C:\\Users\\Administrator\\workspace\\xgboost-win64_release_1.1.0\\src\\learner.cc:480: \n",
>>>>>>> master
      "Parameters: { n_estimator } might not be used.\n",
      "\n",
      "  This may not be accurate due to some parameters are only used in language bindings but\n",
      "  passed down to XGBoost core.  Or some parameters are not used but slip through this\n",
      "  verification. Please open an issue if you find above cases.\n",
      "\n",
      "\n",
<<<<<<< HEAD
      "[19:02:22] WARNING: C:\\Users\\Administrator\\workspace\\xgboost-win64_release_1.1.0\\src\\learner.cc:480: \n",
=======
      "[21:56:42] WARNING: C:\\Users\\Administrator\\workspace\\xgboost-win64_release_1.1.0\\src\\learner.cc:480: \n",
>>>>>>> master
      "Parameters: { n_estimator } might not be used.\n",
      "\n",
      "  This may not be accurate due to some parameters are only used in language bindings but\n",
      "  passed down to XGBoost core.  Or some parameters are not used but slip through this\n",
      "  verification. Please open an issue if you find above cases.\n",
      "\n",
      "\n",
<<<<<<< HEAD
      "[19:02:22] WARNING: C:\\Users\\Administrator\\workspace\\xgboost-win64_release_1.1.0\\src\\learner.cc:480: \n",
=======
      "[21:56:42] WARNING: C:\\Users\\Administrator\\workspace\\xgboost-win64_release_1.1.0\\src\\learner.cc:480: \n",
>>>>>>> master
      "Parameters: { n_estimator } might not be used.\n",
      "\n",
      "  This may not be accurate due to some parameters are only used in language bindings but\n",
      "  passed down to XGBoost core.  Or some parameters are not used but slip through this\n",
      "  verification. Please open an issue if you find above cases.\n",
      "\n",
<<<<<<< HEAD
      "\n",
      "[19:02:22] WARNING: C:\\Users\\Administrator\\workspace\\xgboost-win64_release_1.1.0\\src\\learner.cc:480: \n",
      "Parameters: { n_estimator } might not be used.\n",
      "\n",
      "  This may not be accurate due to some parameters are only used in language bindings but\n",
      "  passed down to XGBoost core.  Or some parameters are not used but slip through this\n",
      "  verification. Please open an issue if you find above cases.\n",
=======
>>>>>>> master
      "\n"
     ]
    },
    {
     "name": "stdout",
     "output_type": "stream",
     "text": [
<<<<<<< HEAD
      "\n",
      "[19:02:23] WARNING: C:\\Users\\Administrator\\workspace\\xgboost-win64_release_1.1.0\\src\\learner.cc:480: \n",
=======
      "[21:56:42] WARNING: C:\\Users\\Administrator\\workspace\\xgboost-win64_release_1.1.0\\src\\learner.cc:480: \n",
>>>>>>> master
      "Parameters: { n_estimator } might not be used.\n",
      "\n",
      "  This may not be accurate due to some parameters are only used in language bindings but\n",
      "  passed down to XGBoost core.  Or some parameters are not used but slip through this\n",
      "  verification. Please open an issue if you find above cases.\n",
      "\n",
      "\n",
<<<<<<< HEAD
      "[19:02:23] WARNING: C:\\Users\\Administrator\\workspace\\xgboost-win64_release_1.1.0\\src\\learner.cc:480: \n",
=======
      "[21:56:43] WARNING: C:\\Users\\Administrator\\workspace\\xgboost-win64_release_1.1.0\\src\\learner.cc:480: \n",
>>>>>>> master
      "Parameters: { n_estimator } might not be used.\n",
      "\n",
      "  This may not be accurate due to some parameters are only used in language bindings but\n",
      "  passed down to XGBoost core.  Or some parameters are not used but slip through this\n",
      "  verification. Please open an issue if you find above cases.\n",
      "\n",
      "\n",
<<<<<<< HEAD
      "[19:02:23] WARNING: C:\\Users\\Administrator\\workspace\\xgboost-win64_release_1.1.0\\src\\learner.cc:480: \n",
=======
      "[21:56:43] WARNING: C:\\Users\\Administrator\\workspace\\xgboost-win64_release_1.1.0\\src\\learner.cc:480: \n",
>>>>>>> master
      "Parameters: { n_estimator } might not be used.\n",
      "\n",
      "  This may not be accurate due to some parameters are only used in language bindings but\n",
      "  passed down to XGBoost core.  Or some parameters are not used but slip through this\n",
      "  verification. Please open an issue if you find above cases.\n",
      "\n",
      "\n",
<<<<<<< HEAD
      "[19:02:23] WARNING: C:\\Users\\Administrator\\workspace\\xgboost-win64_release_1.1.0\\src\\learner.cc:480: \n",
=======
      "[21:56:43] WARNING: C:\\Users\\Administrator\\workspace\\xgboost-win64_release_1.1.0\\src\\learner.cc:480: \n",
>>>>>>> master
      "Parameters: { n_estimator } might not be used.\n",
      "\n",
      "  This may not be accurate due to some parameters are only used in language bindings but\n",
      "  passed down to XGBoost core.  Or some parameters are not used but slip through this\n",
      "  verification. Please open an issue if you find above cases.\n",
      "\n",
      "\n",
<<<<<<< HEAD
      "[19:02:24] WARNING: C:\\Users\\Administrator\\workspace\\xgboost-win64_release_1.1.0\\src\\learner.cc:480: \n",
=======
      "[21:56:43] WARNING: C:\\Users\\Administrator\\workspace\\xgboost-win64_release_1.1.0\\src\\learner.cc:480: \n",
>>>>>>> master
      "Parameters: { n_estimator } might not be used.\n",
      "\n",
      "  This may not be accurate due to some parameters are only used in language bindings but\n",
      "  passed down to XGBoost core.  Or some parameters are not used but slip through this\n",
      "  verification. Please open an issue if you find above cases.\n",
      "\n",
      "\n",
<<<<<<< HEAD
      "[19:02:24] WARNING: C:\\Users\\Administrator\\workspace\\xgboost-win64_release_1.1.0\\src\\learner.cc:480: \n",
=======
      "[21:56:44] WARNING: C:\\Users\\Administrator\\workspace\\xgboost-win64_release_1.1.0\\src\\learner.cc:480: \n",
>>>>>>> master
      "Parameters: { n_estimator } might not be used.\n",
      "\n",
      "  This may not be accurate due to some parameters are only used in language bindings but\n",
      "  passed down to XGBoost core.  Or some parameters are not used but slip through this\n",
      "  verification. Please open an issue if you find above cases.\n",
      "\n",
      "\n",
<<<<<<< HEAD
      "[19:02:24] WARNING: C:\\Users\\Administrator\\workspace\\xgboost-win64_release_1.1.0\\src\\learner.cc:480: \n",
=======
      "[21:56:44] WARNING: C:\\Users\\Administrator\\workspace\\xgboost-win64_release_1.1.0\\src\\learner.cc:480: \n",
>>>>>>> master
      "Parameters: { n_estimator } might not be used.\n",
      "\n",
      "  This may not be accurate due to some parameters are only used in language bindings but\n",
      "  passed down to XGBoost core.  Or some parameters are not used but slip through this\n",
      "  verification. Please open an issue if you find above cases.\n",
      "\n",
      "\n",
<<<<<<< HEAD
      "[19:02:24] WARNING: C:\\Users\\Administrator\\workspace\\xgboost-win64_release_1.1.0\\src\\learner.cc:480: \n",
=======
      "[21:56:44] WARNING: C:\\Users\\Administrator\\workspace\\xgboost-win64_release_1.1.0\\src\\learner.cc:480: \n",
>>>>>>> master
      "Parameters: { n_estimator } might not be used.\n",
      "\n",
      "  This may not be accurate due to some parameters are only used in language bindings but\n",
      "  passed down to XGBoost core.  Or some parameters are not used but slip through this\n",
      "  verification. Please open an issue if you find above cases.\n",
      "\n",
      "\n",
<<<<<<< HEAD
      "[19:02:25] WARNING: C:\\Users\\Administrator\\workspace\\xgboost-win64_release_1.1.0\\src\\learner.cc:480: \n",
=======
      "[21:56:44] WARNING: C:\\Users\\Administrator\\workspace\\xgboost-win64_release_1.1.0\\src\\learner.cc:480: \n",
>>>>>>> master
      "Parameters: { n_estimator } might not be used.\n",
      "\n",
      "  This may not be accurate due to some parameters are only used in language bindings but\n",
      "  passed down to XGBoost core.  Or some parameters are not used but slip through this\n",
      "  verification. Please open an issue if you find above cases.\n",
      "\n",
      "\n",
<<<<<<< HEAD
      "[19:02:25] WARNING: C:\\Users\\Administrator\\workspace\\xgboost-win64_release_1.1.0\\src\\learner.cc:480: \n",
=======
      "[21:56:45] WARNING: C:\\Users\\Administrator\\workspace\\xgboost-win64_release_1.1.0\\src\\learner.cc:480: \n",
>>>>>>> master
      "Parameters: { n_estimator } might not be used.\n",
      "\n",
      "  This may not be accurate due to some parameters are only used in language bindings but\n",
      "  passed down to XGBoost core.  Or some parameters are not used but slip through this\n",
      "  verification. Please open an issue if you find above cases.\n",
      "\n",
      "\n",
<<<<<<< HEAD
      "[19:02:25] WARNING: C:\\Users\\Administrator\\workspace\\xgboost-win64_release_1.1.0\\src\\learner.cc:480: \n",
=======
      "[21:56:45] WARNING: C:\\Users\\Administrator\\workspace\\xgboost-win64_release_1.1.0\\src\\learner.cc:480: \n",
>>>>>>> master
      "Parameters: { n_estimator } might not be used.\n",
      "\n",
      "  This may not be accurate due to some parameters are only used in language bindings but\n",
      "  passed down to XGBoost core.  Or some parameters are not used but slip through this\n",
      "  verification. Please open an issue if you find above cases.\n",
      "\n",
      "\n",
<<<<<<< HEAD
      "[19:02:25] WARNING: C:\\Users\\Administrator\\workspace\\xgboost-win64_release_1.1.0\\src\\learner.cc:480: \n",
=======
      "[21:56:45] WARNING: C:\\Users\\Administrator\\workspace\\xgboost-win64_release_1.1.0\\src\\learner.cc:480: \n",
>>>>>>> master
      "Parameters: { n_estimator } might not be used.\n",
      "\n",
      "  This may not be accurate due to some parameters are only used in language bindings but\n",
      "  passed down to XGBoost core.  Or some parameters are not used but slip through this\n",
      "  verification. Please open an issue if you find above cases.\n",
      "\n",
      "\n",
<<<<<<< HEAD
      "[19:02:25] WARNING: C:\\Users\\Administrator\\workspace\\xgboost-win64_release_1.1.0\\src\\learner.cc:480: \n",
=======
      "[21:56:45] WARNING: C:\\Users\\Administrator\\workspace\\xgboost-win64_release_1.1.0\\src\\learner.cc:480: \n",
>>>>>>> master
      "Parameters: { n_estimator } might not be used.\n",
      "\n",
      "  This may not be accurate due to some parameters are only used in language bindings but\n",
      "  passed down to XGBoost core.  Or some parameters are not used but slip through this\n",
      "  verification. Please open an issue if you find above cases.\n",
      "\n",
      "\n",
<<<<<<< HEAD
      "[19:02:25] WARNING: C:\\Users\\Administrator\\workspace\\xgboost-win64_release_1.1.0\\src\\learner.cc:480: \n",
=======
      "[21:56:45] WARNING: C:\\Users\\Administrator\\workspace\\xgboost-win64_release_1.1.0\\src\\learner.cc:480: \n",
>>>>>>> master
      "Parameters: { n_estimator } might not be used.\n",
      "\n",
      "  This may not be accurate due to some parameters are only used in language bindings but\n",
      "  passed down to XGBoost core.  Or some parameters are not used but slip through this\n",
      "  verification. Please open an issue if you find above cases.\n",
      "\n",
      "\n",
<<<<<<< HEAD
      "[19:02:26] WARNING: C:\\Users\\Administrator\\workspace\\xgboost-win64_release_1.1.0\\src\\learner.cc:480: \n",
=======
      "[21:56:46] WARNING: C:\\Users\\Administrator\\workspace\\xgboost-win64_release_1.1.0\\src\\learner.cc:480: \n",
>>>>>>> master
      "Parameters: { n_estimator } might not be used.\n",
      "\n",
      "  This may not be accurate due to some parameters are only used in language bindings but\n",
      "  passed down to XGBoost core.  Or some parameters are not used but slip through this\n",
      "  verification. Please open an issue if you find above cases.\n",
      "\n",
      "\n",
<<<<<<< HEAD
      "[19:02:26] WARNING: C:\\Users\\Administrator\\workspace\\xgboost-win64_release_1.1.0\\src\\learner.cc:480: \n",
=======
      "[21:56:46] WARNING: C:\\Users\\Administrator\\workspace\\xgboost-win64_release_1.1.0\\src\\learner.cc:480: \n",
>>>>>>> master
      "Parameters: { n_estimator } might not be used.\n",
      "\n",
      "  This may not be accurate due to some parameters are only used in language bindings but\n",
      "  passed down to XGBoost core.  Or some parameters are not used but slip through this\n",
      "  verification. Please open an issue if you find above cases.\n",
      "\n",
      "\n",
<<<<<<< HEAD
      "[19:02:26] WARNING: C:\\Users\\Administrator\\workspace\\xgboost-win64_release_1.1.0\\src\\learner.cc:480: \n",
=======
      "[21:56:46] WARNING: C:\\Users\\Administrator\\workspace\\xgboost-win64_release_1.1.0\\src\\learner.cc:480: \n",
>>>>>>> master
      "Parameters: { n_estimator } might not be used.\n",
      "\n",
      "  This may not be accurate due to some parameters are only used in language bindings but\n",
      "  passed down to XGBoost core.  Or some parameters are not used but slip through this\n",
      "  verification. Please open an issue if you find above cases.\n",
      "\n",
      "\n",
<<<<<<< HEAD
      "[19:02:26] WARNING: C:\\Users\\Administrator\\workspace\\xgboost-win64_release_1.1.0\\src\\learner.cc:480: \n",
=======
      "[21:56:46] WARNING: C:\\Users\\Administrator\\workspace\\xgboost-win64_release_1.1.0\\src\\learner.cc:480: \n",
>>>>>>> master
      "Parameters: { n_estimator } might not be used.\n",
      "\n",
      "  This may not be accurate due to some parameters are only used in language bindings but\n",
      "  passed down to XGBoost core.  Or some parameters are not used but slip through this\n",
      "  verification. Please open an issue if you find above cases.\n",
      "\n",
      "\n",
<<<<<<< HEAD
      "[19:02:26] WARNING: C:\\Users\\Administrator\\workspace\\xgboost-win64_release_1.1.0\\src\\learner.cc:480: \n",
=======
      "[21:56:46] WARNING: C:\\Users\\Administrator\\workspace\\xgboost-win64_release_1.1.0\\src\\learner.cc:480: \n",
>>>>>>> master
      "Parameters: { n_estimator } might not be used.\n",
      "\n",
      "  This may not be accurate due to some parameters are only used in language bindings but\n",
      "  passed down to XGBoost core.  Or some parameters are not used but slip through this\n",
      "  verification. Please open an issue if you find above cases.\n",
      "\n",
      "\n",
<<<<<<< HEAD
      "[19:02:27] WARNING: C:\\Users\\Administrator\\workspace\\xgboost-win64_release_1.1.0\\src\\learner.cc:480: \n",
=======
      "[21:56:47] WARNING: C:\\Users\\Administrator\\workspace\\xgboost-win64_release_1.1.0\\src\\learner.cc:480: \n",
>>>>>>> master
      "Parameters: { n_estimator } might not be used.\n",
      "\n",
      "  This may not be accurate due to some parameters are only used in language bindings but\n",
      "  passed down to XGBoost core.  Or some parameters are not used but slip through this\n",
      "  verification. Please open an issue if you find above cases.\n",
      "\n",
      "\n",
<<<<<<< HEAD
      "[19:02:27] WARNING: C:\\Users\\Administrator\\workspace\\xgboost-win64_release_1.1.0\\src\\learner.cc:480: \n",
=======
      "[21:56:47] WARNING: C:\\Users\\Administrator\\workspace\\xgboost-win64_release_1.1.0\\src\\learner.cc:480: \n",
>>>>>>> master
      "Parameters: { n_estimator } might not be used.\n",
      "\n",
      "  This may not be accurate due to some parameters are only used in language bindings but\n",
      "  passed down to XGBoost core.  Or some parameters are not used but slip through this\n",
      "  verification. Please open an issue if you find above cases.\n",
      "\n",
      "\n",
<<<<<<< HEAD
      "[19:02:27] WARNING: C:\\Users\\Administrator\\workspace\\xgboost-win64_release_1.1.0\\src\\learner.cc:480: \n",
=======
      "[21:56:47] WARNING: C:\\Users\\Administrator\\workspace\\xgboost-win64_release_1.1.0\\src\\learner.cc:480: \n",
>>>>>>> master
      "Parameters: { n_estimator } might not be used.\n",
      "\n",
      "  This may not be accurate due to some parameters are only used in language bindings but\n",
      "  passed down to XGBoost core.  Or some parameters are not used but slip through this\n",
      "  verification. Please open an issue if you find above cases.\n",
      "\n",
      "\n"
     ]
    },
    {
     "name": "stdout",
     "output_type": "stream",
     "text": [
<<<<<<< HEAD
      "[19:02:27] WARNING: C:\\Users\\Administrator\\workspace\\xgboost-win64_release_1.1.0\\src\\learner.cc:480: \n",
=======
      "[21:56:48] WARNING: C:\\Users\\Administrator\\workspace\\xgboost-win64_release_1.1.0\\src\\learner.cc:480: \n",
      "Parameters: { n_estimator } might not be used.\n",
      "\n",
      "  This may not be accurate due to some parameters are only used in language bindings but\n",
      "  passed down to XGBoost core.  Or some parameters are not used but slip through this\n",
      "  verification. Please open an issue if you find above cases.\n",
      "\n",
      "\n",
      "[21:56:48] WARNING: C:\\Users\\Administrator\\workspace\\xgboost-win64_release_1.1.0\\src\\learner.cc:480: \n",
>>>>>>> master
      "Parameters: { n_estimator } might not be used.\n",
      "\n",
      "  This may not be accurate due to some parameters are only used in language bindings but\n",
      "  passed down to XGBoost core.  Or some parameters are not used but slip through this\n",
      "  verification. Please open an issue if you find above cases.\n",
      "\n",
      "\n",
<<<<<<< HEAD
      "[19:02:27] WARNING: C:\\Users\\Administrator\\workspace\\xgboost-win64_release_1.1.0\\src\\learner.cc:480: \n",
=======
      "[21:56:48] WARNING: C:\\Users\\Administrator\\workspace\\xgboost-win64_release_1.1.0\\src\\learner.cc:480: \n",
>>>>>>> master
      "Parameters: { n_estimator } might not be used.\n",
      "\n",
      "  This may not be accurate due to some parameters are only used in language bindings but\n",
      "  passed down to XGBoost core.  Or some parameters are not used but slip through this\n",
      "  verification. Please open an issue if you find above cases.\n",
      "\n",
      "\n",
<<<<<<< HEAD
      "[19:02:28] WARNING: C:\\Users\\Administrator\\workspace\\xgboost-win64_release_1.1.0\\src\\learner.cc:480: \n",
=======
      "[21:56:49] WARNING: C:\\Users\\Administrator\\workspace\\xgboost-win64_release_1.1.0\\src\\learner.cc:480: \n",
>>>>>>> master
      "Parameters: { n_estimator } might not be used.\n",
      "\n",
      "  This may not be accurate due to some parameters are only used in language bindings but\n",
      "  passed down to XGBoost core.  Or some parameters are not used but slip through this\n",
      "  verification. Please open an issue if you find above cases.\n",
      "\n",
      "\n",
<<<<<<< HEAD
      "[19:02:28] WARNING: C:\\Users\\Administrator\\workspace\\xgboost-win64_release_1.1.0\\src\\learner.cc:480: \n",
=======
      "[21:56:49] WARNING: C:\\Users\\Administrator\\workspace\\xgboost-win64_release_1.1.0\\src\\learner.cc:480: \n",
>>>>>>> master
      "Parameters: { n_estimator } might not be used.\n",
      "\n",
      "  This may not be accurate due to some parameters are only used in language bindings but\n",
      "  passed down to XGBoost core.  Or some parameters are not used but slip through this\n",
      "  verification. Please open an issue if you find above cases.\n",
      "\n",
      "\n",
<<<<<<< HEAD
      "[19:02:28] WARNING: C:\\Users\\Administrator\\workspace\\xgboost-win64_release_1.1.0\\src\\learner.cc:480: \n",
=======
      "[21:56:49] WARNING: C:\\Users\\Administrator\\workspace\\xgboost-win64_release_1.1.0\\src\\learner.cc:480: \n",
>>>>>>> master
      "Parameters: { n_estimator } might not be used.\n",
      "\n",
      "  This may not be accurate due to some parameters are only used in language bindings but\n",
      "  passed down to XGBoost core.  Or some parameters are not used but slip through this\n",
      "  verification. Please open an issue if you find above cases.\n",
      "\n",
      "\n",
<<<<<<< HEAD
      "[19:02:28] WARNING: C:\\Users\\Administrator\\workspace\\xgboost-win64_release_1.1.0\\src\\learner.cc:480: \n",
=======
      "[21:56:49] WARNING: C:\\Users\\Administrator\\workspace\\xgboost-win64_release_1.1.0\\src\\learner.cc:480: \n",
>>>>>>> master
      "Parameters: { n_estimator } might not be used.\n",
      "\n",
      "  This may not be accurate due to some parameters are only used in language bindings but\n",
      "  passed down to XGBoost core.  Or some parameters are not used but slip through this\n",
      "  verification. Please open an issue if you find above cases.\n",
      "\n",
      "\n",
<<<<<<< HEAD
      "[19:02:29] WARNING: C:\\Users\\Administrator\\workspace\\xgboost-win64_release_1.1.0\\src\\learner.cc:480: \n",
=======
      "[21:56:50] WARNING: C:\\Users\\Administrator\\workspace\\xgboost-win64_release_1.1.0\\src\\learner.cc:480: \n",
>>>>>>> master
      "Parameters: { n_estimator } might not be used.\n",
      "\n",
      "  This may not be accurate due to some parameters are only used in language bindings but\n",
      "  passed down to XGBoost core.  Or some parameters are not used but slip through this\n",
      "  verification. Please open an issue if you find above cases.\n",
      "\n",
      "\n",
<<<<<<< HEAD
      "[19:02:29] WARNING: C:\\Users\\Administrator\\workspace\\xgboost-win64_release_1.1.0\\src\\learner.cc:480: \n",
=======
      "[21:56:50] WARNING: C:\\Users\\Administrator\\workspace\\xgboost-win64_release_1.1.0\\src\\learner.cc:480: \n",
>>>>>>> master
      "Parameters: { n_estimator } might not be used.\n",
      "\n",
      "  This may not be accurate due to some parameters are only used in language bindings but\n",
      "  passed down to XGBoost core.  Or some parameters are not used but slip through this\n",
      "  verification. Please open an issue if you find above cases.\n",
      "\n",
      "\n",
<<<<<<< HEAD
      "[19:02:29] WARNING: C:\\Users\\Administrator\\workspace\\xgboost-win64_release_1.1.0\\src\\learner.cc:480: \n",
=======
      "[21:56:51] WARNING: C:\\Users\\Administrator\\workspace\\xgboost-win64_release_1.1.0\\src\\learner.cc:480: \n",
>>>>>>> master
      "Parameters: { n_estimator } might not be used.\n",
      "\n",
      "  This may not be accurate due to some parameters are only used in language bindings but\n",
      "  passed down to XGBoost core.  Or some parameters are not used but slip through this\n",
      "  verification. Please open an issue if you find above cases.\n",
      "\n",
      "\n",
<<<<<<< HEAD
      "[19:02:30] WARNING: C:\\Users\\Administrator\\workspace\\xgboost-win64_release_1.1.0\\src\\learner.cc:480: \n",
=======
      "[21:56:51] WARNING: C:\\Users\\Administrator\\workspace\\xgboost-win64_release_1.1.0\\src\\learner.cc:480: \n",
>>>>>>> master
      "Parameters: { n_estimator } might not be used.\n",
      "\n",
      "  This may not be accurate due to some parameters are only used in language bindings but\n",
      "  passed down to XGBoost core.  Or some parameters are not used but slip through this\n",
      "  verification. Please open an issue if you find above cases.\n",
      "\n",
      "\n",
<<<<<<< HEAD
      "[19:02:30] WARNING: C:\\Users\\Administrator\\workspace\\xgboost-win64_release_1.1.0\\src\\learner.cc:480: \n",
=======
      "[21:56:51] WARNING: C:\\Users\\Administrator\\workspace\\xgboost-win64_release_1.1.0\\src\\learner.cc:480: \n",
>>>>>>> master
      "Parameters: { n_estimator } might not be used.\n",
      "\n",
      "  This may not be accurate due to some parameters are only used in language bindings but\n",
      "  passed down to XGBoost core.  Or some parameters are not used but slip through this\n",
      "  verification. Please open an issue if you find above cases.\n",
      "\n",
      "\n",
<<<<<<< HEAD
      "[19:02:30] WARNING: C:\\Users\\Administrator\\workspace\\xgboost-win64_release_1.1.0\\src\\learner.cc:480: \n",
=======
      "[21:56:52] WARNING: C:\\Users\\Administrator\\workspace\\xgboost-win64_release_1.1.0\\src\\learner.cc:480: \n",
>>>>>>> master
      "Parameters: { n_estimator } might not be used.\n",
      "\n",
      "  This may not be accurate due to some parameters are only used in language bindings but\n",
      "  passed down to XGBoost core.  Or some parameters are not used but slip through this\n",
      "  verification. Please open an issue if you find above cases.\n",
      "\n",
      "\n",
<<<<<<< HEAD
      "[19:02:31] WARNING: C:\\Users\\Administrator\\workspace\\xgboost-win64_release_1.1.0\\src\\learner.cc:480: \n",
=======
      "[21:56:52] WARNING: C:\\Users\\Administrator\\workspace\\xgboost-win64_release_1.1.0\\src\\learner.cc:480: \n",
>>>>>>> master
      "Parameters: { n_estimator } might not be used.\n",
      "\n",
      "  This may not be accurate due to some parameters are only used in language bindings but\n",
      "  passed down to XGBoost core.  Or some parameters are not used but slip through this\n",
      "  verification. Please open an issue if you find above cases.\n",
      "\n",
      "\n"
     ]
    },
    {
     "name": "stderr",
     "output_type": "stream",
     "text": [
<<<<<<< HEAD
      "[Parallel(n_jobs=1)]: Done 108 out of 108 | elapsed:   16.2s finished\n"
=======
      "[Parallel(n_jobs=1)]: Done 108 out of 108 | elapsed:   19.3s finished\n"
>>>>>>> master
     ]
    },
    {
     "name": "stdout",
     "output_type": "stream",
     "text": [
<<<<<<< HEAD
      "[19:02:31] WARNING: C:\\Users\\Administrator\\workspace\\xgboost-win64_release_1.1.0\\src\\learner.cc:480: \n",
=======
      "[21:56:52] WARNING: C:\\Users\\Administrator\\workspace\\xgboost-win64_release_1.1.0\\src\\learner.cc:480: \n",
>>>>>>> master
      "Parameters: { n_estimator } might not be used.\n",
      "\n",
      "  This may not be accurate due to some parameters are only used in language bindings but\n",
      "  passed down to XGBoost core.  Or some parameters are not used but slip through this\n",
      "  verification. Please open an issue if you find above cases.\n",
      "\n",
      "\n",
<<<<<<< HEAD
      "{'colsample_bytree': 0.25, 'max_depth': 3, 'min_child_weight': 0.5} 0.6831\n"
=======
      "{'colsample_bytree': 0.25, 'max_depth': 3, 'min_child_weight': 0.5} 0.6996\n"
>>>>>>> master
     ]
    }
   ],
   "source": [
    "# 파라미터 C 최적화를 위해 GridSearchCV를 이용\n",
    "params = { 'max_depth': [0.5, 1, 3, 5],\n",
    "         'min_child_weight': [0.25, 0.5, 1],\n",
    "         'colsample_bytree': [0.25, 0.5, 0.75]}\n",
    "\n",
    "grid_cv = GridSearchCV(xgb_clf, param_grid=params, cv=3, scoring='accuracy', verbose=1)\n",
    "grid_cv.fit(tfidf_matrix_train, train_df[1])\n",
    "print(grid_cv.best_params_, round(grid_cv.best_score_, 4))"
   ]
  },
  {
   "cell_type": "markdown",
   "metadata": {},
   "source": [
    "## 모델학습"
   ]
  },
  {
   "cell_type": "code",
<<<<<<< HEAD
   "execution_count": 12,
=======
   "execution_count": 149,
>>>>>>> master
   "metadata": {},
   "outputs": [],
   "source": [
    "import xgboost as xgb\n",
    "from xgboost import plot_importance\n",
<<<<<<< HEAD
    "from sklearn.metrics import accuracy_score\n",
=======
>>>>>>> master
    "import numpy as np\n",
    "import warnings\n",
    "warnings.filterwarnings('ignore')"
   ]
  },
  {
   "cell_type": "code",
<<<<<<< HEAD
   "execution_count": 13,
=======
   "execution_count": 150,
>>>>>>> master
   "metadata": {
    "scrolled": true
   },
   "outputs": [],
   "source": [
    "# 사이킷런 래퍼 XGBoost 클래스인 XGBClassifier 임포트\n",
    "from xgboost import XGBClassifier\n",
    "\n",
    "xgb_wrapper = XGBClassifier(n_estimators=400, learning_rate=0.1, max_depth=3)\n",
    "xgb_wrapper.fit(tfidf_matrix_train, train_df[1])\n",
    "\n",
    "best_estimator = grid_cv.best_estimator_\n",
    "w_preds = xgb_wrapper.predict(tfidf_matrix_test)"
   ]
  },
  {
   "cell_type": "code",
<<<<<<< HEAD
   "execution_count": 14,
=======
   "execution_count": 151,
>>>>>>> master
   "metadata": {},
   "outputs": [
    {
     "name": "stdout",
     "output_type": "stream",
     "text": [
<<<<<<< HEAD
      "XGBoost 정확도:  0.7540106951871658\n"
=======
      "XGBoost 정확도:  0.72\n"
>>>>>>> master
     ]
    }
   ],
   "source": [
    "print('XGBoost 정확도: ', accuracy_score(test_df[1], w_preds))"
   ]
<<<<<<< HEAD
  },
  {
   "cell_type": "code",
   "execution_count": null,
   "metadata": {},
   "outputs": [],
   "source": []
=======
>>>>>>> master
  }
 ],
 "metadata": {
  "kernelspec": {
   "display_name": "Python 3",
   "language": "python",
   "name": "python3"
  },
  "language_info": {
   "codemirror_mode": {
    "name": "ipython",
    "version": 3
   },
   "file_extension": ".py",
   "mimetype": "text/x-python",
   "name": "python",
   "nbconvert_exporter": "python",
   "pygments_lexer": "ipython3",
<<<<<<< HEAD
   "version": "3.7.4"
=======
   "version": "3.7.3"
>>>>>>> master
  }
 },
 "nbformat": 4,
 "nbformat_minor": 2
}
