{
 "cells": [
  {
   "cell_type": "code",
   "execution_count": null,
   "metadata": {},
   "outputs": [],
   "source": [
    "last_table = []"
   ]
  },
  {
   "cell_type": "code",
   "execution_count": null,
   "metadata": {},
   "outputs": [],
   "source": [
    "import csv\n",
    "score = {'가성비':0,'as':0,'배송':0,'성능':0} #총점\n",
    "f = open('LG전자 2019 울트라PC.csv','r',encoding='utf-8-sig')\n",
    "f2 = open('LG전자 2019 울트라PC 수정.csv','w',encoding='utf-8-sig')\n",
    "r = csv.reader(f)\n",
    "w = csv.writer(f2)\n",
    "keyword = []\n",
    "new_file = []\n",
    "for i in score:\n",
    "    keyword.append(i)\n",
    "\n",
    "number = 0\n",
    "for i in r:\n",
    "    each_score = {'가성비':0,'as':0,'배송':0,'성능':0} #개별리뷰별 최상위 키워드에 대한 점수\n",
    "    empty = []\n",
    "    empty.append(i[0])\n",
    "    dic = {} #해당 리뷰 내 최상위 키워드의 인덱스 넣는부분\n",
    "    order = [] #단일 리뷰 내에서 출현한 최상위키워드를 순서대로 넣음\n",
    "    number = number + 1\n",
    "    for j in keyword: #키워드 첫 index 찾는부분\n",
    "        num = i[0].find(j)\n",
    "        dic[j] = num\n",
    "    for k in dic: #index가 -1이 아니면 order list에 넣음\n",
    "        if dic[k] !=-1:\n",
    "            order.append(k)\n",
    "            \n",
    "    for l in range(len(order)-1): #리뷰에 최상위 키워드가 출현한 순서로 list 재배열\n",
    "        for m in range(l+1,len(order)):\n",
    "            if dic[order[l]]>dic[order[m]]:\n",
    "                temp = order[l]\n",
    "                order[l] = order[m]\n",
    "                order[m] = temp\n",
    "    for n in range(len(order)): #찾은 최상위 키워드의 인덱스를 사용하여 다음 최상위 키워드 전까지 슬라이싱하고 Predict\n",
    "        if n != len(order)-1:\n",
    "            line = i[0][dic[order[n]]:dic[order[n+1]]]\n",
    "            each_score[order[n]] = predict(line)\n",
    "            score[order[n]] = score[order[n]] + predict(line)\n",
    "        else:\n",
    "            line = i[0][dic[order[n]]:]\n",
    "            each_score[order[n]] = predict(line)\n",
    "            score[order[n]] = score[order[n]] + predict(line)\n",
    "    for o in each_score: \n",
    "        empty.append(each_score[o])\n",
    "        \n",
    "    new_file.append(empty)\n",
    "    \n",
    "for line in new_file:\n",
    "    w.writerow(line)\n",
    "    \n",
    "f.close()\n",
    "f2.close()\n",
    "\n",
    "last_score = ['LG전자 2019 울트라PC']\n",
    "for j in score:\n",
    "    sco = score[j]/number\n",
    "    last_score.append(sco)\n",
    "\n",
    "last_table.append(last_score)"
   ]
  },
  {
   "cell_type": "code",
   "execution_count": null,
   "metadata": {},
   "outputs": [],
   "source": [
    "final = open('last_table.csv','w',encoding='utf-8-sig')\n",
    "w = csv.writer(final)\n",
    "\n",
    "for i in last_table:\n",
    "    w.writerow(i)\n",
    "    \n",
    "final.close()"
   ]
  }
 ],
 "metadata": {
  "kernelspec": {
   "display_name": "Python 3",
   "language": "python",
   "name": "python3"
  },
  "language_info": {
   "codemirror_mode": {
    "name": "ipython",
    "version": 3
   },
   "file_extension": ".py",
   "mimetype": "text/x-python",
   "name": "python",
   "nbconvert_exporter": "python",
   "pygments_lexer": "ipython3",
   "version": "3.7.6"
  }
 },
 "nbformat": 4,
 "nbformat_minor": 4
}
